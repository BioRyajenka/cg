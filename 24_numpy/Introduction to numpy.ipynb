{
 "cells": [
  {
   "cell_type": "code",
   "execution_count": 1,
   "metadata": {
    "collapsed": true
   },
   "outputs": [],
   "source": [
    "import numpy as np # Как правило импортируют именно так"
   ]
  },
  {
   "cell_type": "markdown",
   "metadata": {},
   "source": [
    "__NumPy__ - open-source модуль, который предостовляет эффективную работу с массивами и однородными данными (~MATLAB), очень прост и удобен в использовании. \n",
    "\n",
    "__NumPy array__ - многомерный массив объектов одинакового типа. В памяти представлен как блок памяти + метка говорящая о типе данных + кол-во размерностей + размерности векторов ``[n * m *...]``.\n",
    "\n",
    "Обычные массивы в питоне в принципе хороши т.к. имеют в себе удобный `list comprehension` и могут хранить данные разных типов. Но они не поддерживают векторизацию, должны хранить инфу о типе для каждого элемента и для выполнения каких-либо операций нужен будет `dispatching`. Да __NumPy array__ этого не поддерживает, зато он эффективен и многое уже написано для удобного использования.\n",
    "\n",
    "Класс представлющий массивы - __ndarray__ (экземпляр можно получить, например с помощью `np.array(...)`)\n",
    "\n",
    "__Представление (view)__ - конкретный взгляд на ndarray, например мы можем иметь просто матрицу, а после сделать из нее `view` в виде транспонированной за O(1), или из массива 15 элементов, сделать `view` - матрицу 3 * 5 (еще примеры будут ниже)."
   ]
  },
  {
   "cell_type": "markdown",
   "metadata": {},
   "source": [
    "__Пример 1:__ Двумерный массив [2 * 5], где каждый элемент занимает 4 байта"
   ]
  },
  {
   "cell_type": "code",
   "execution_count": 22,
   "metadata": {
    "collapsed": false
   },
   "outputs": [
    {
     "name": "stdout",
     "output_type": "stream",
     "text": [
      "[[0 1 2 3 4]\n",
      " [5 6 7 8 9]]\n",
      "Количество размерностей (numpy называет rank): 2\n",
      "Сами размерности(axes): (2, 5)\n",
      "Тип данных: int32\n"
     ]
    }
   ],
   "source": [
    "x = np.array([[0, 1, 2, 3, 4],\n",
    "              [5, 6, 7, 8, 9]], dtype=np.int32)\n",
    "print(x)\n",
    "print(\"Количество размерностей (numpy называет rank):\", x.ndim)\n",
    "print(\"Сами размерности(axes):\", x.shape)\n",
    "print(\"Тип данных:\", x.dtype)"
   ]
  },
  {
   "cell_type": "code",
   "execution_count": 43,
   "metadata": {
    "collapsed": false
   },
   "outputs": [
    {
     "name": "stdout",
     "output_type": "stream",
     "text": [
      "[ 0  1  2  3  4  5  6  7  8  9 10 11 12 13 14]\n",
      "[[ 0  1  2  3  4]\n",
      " [ 5  6  7  8  9]\n",
      " [10 11 12 13 14]]\n",
      "[[ 0  5 10]\n",
      " [ 1  6 11]\n",
      " [ 2  7 12]\n",
      " [ 3  8 13]\n",
      " [ 4  9 14]]\n"
     ]
    },
    {
     "data": {
      "text/plain": [
       "array([ 0,  5, 10,  1,  6, 11,  2,  7, 12,  3,  8, 13,  4,  9, 14])"
      ]
     },
     "execution_count": 43,
     "metadata": {},
     "output_type": "execute_result"
    }
   ],
   "source": [
    "a = np.arange(15) # создают ndarray([0..15]) тип определяет сам (int64, float64)\n",
    "b = a.reshape((3, 5)) # создает новое представление (view) и возвращает его, (если возможно, то данные не копируются)\n",
    "c = b.T # создает новое представление транспонированной матрицы\n",
    "\n",
    "print(a)\n",
    "print(b)\n",
    "print(c)\n",
    "\n",
    "c.reshape(15) # здесь он будет вынужден копировать данные, \n",
    "              # т.к. `c` - это представление транспонированной матрицы, \n",
    "              # мы не сможем просто так ее превратить в одномерный массив"
   ]
  },
  {
   "cell_type": "code",
   "execution_count": 34,
   "metadata": {
    "collapsed": true
   },
   "outputs": [],
   "source": [
    "?np.reshape"
   ]
  }
 ],
 "metadata": {
  "kernelspec": {
   "display_name": "Python 3",
   "language": "python",
   "name": "python3"
  },
  "language_info": {
   "codemirror_mode": {
    "name": "ipython",
    "version": 3
   },
   "file_extension": ".py",
   "mimetype": "text/x-python",
   "name": "python",
   "nbconvert_exporter": "python",
   "pygments_lexer": "ipython3",
   "version": "3.5.2"
  }
 },
 "nbformat": 4,
 "nbformat_minor": 2
}
