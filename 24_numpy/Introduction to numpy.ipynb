{
 "cells": [
  {
   "cell_type": "code",
   "execution_count": null,
   "metadata": {
    "collapsed": false,
    "deletable": true,
    "editable": true
   },
   "outputs": [],
   "source": [
    "import numpy as np # Как правило импортируют именно так\n",
    "import matplotlib.pyplot as plt\n",
    "import os\n",
    "from numpy import pi\n",
    "\n",
    "from utils import *\n",
    "from answers import *"
   ]
  },
  {
   "cell_type": "markdown",
   "metadata": {
    "deletable": true,
    "editable": true
   },
   "source": [
    "__NumPy__ - open-source модуль, который предостовляет эффективную работу с массивами и однородными данными (~MATLAB), очень прост и удобен в использовании. \n",
    "\n",
    "__NumPy array__ - многомерный массив объектов одинакового типа. В памяти представлен как блок памяти + метка говорящая о типе данных + кол-во размерностей + размерности векторов ``[n * m *...]``.\n",
    "\n",
    "Обычные массивы в питоне в принципе хороши т.к. имеют в себе удобный `list comprehension` и могут хранить данные разных типов. Но они не поддерживают векторизацию, должны хранить информацию о типе для каждого элемента и для выполнения каких-либо операций нужен будет `dispatching`. Да __NumPy array__ этого не поддерживает, зато он эффективен и многое уже написано для удобного использования.\n",
    "\n",
    "Класс представлющий массивы в NumPy - __ndarray__ (экземпляр можно получить, например с помощью `np.array(...)`)"
   ]
  },
  {
   "cell_type": "markdown",
   "metadata": {
    "deletable": true,
    "editable": true
   },
   "source": [
    "__Пример 1:__ Двумерный массив [2 * 5], где каждый элемент занимает 4 байта"
   ]
  },
  {
   "cell_type": "code",
   "execution_count": null,
   "metadata": {
    "collapsed": false,
    "deletable": true,
    "editable": true,
    "scrolled": true
   },
   "outputs": [],
   "source": [
    "x = np.array([[0, 1, 2, 3, 4],\n",
    "              [5, 6, 7, 8, 9]], dtype=np.int32)\n",
    "print(x) # np.darray умеет выводится в человеческом виде\n",
    "print(\"Количество размерностей (numpy называет rank):\", x.ndim)\n",
    "print(\"Сами размерности(axes):\", x.shape)\n",
    "print(\"Тип данных:\", x.dtype)"
   ]
  },
  {
   "cell_type": "markdown",
   "metadata": {
    "deletable": true,
    "editable": true
   },
   "source": [
    "__Представление (view)__ - конкретный взгляд на ndarray, например мы можем иметь просто матрицу, а после сделать из нее `view` в виде транспонированной за O(1), или из массива 15 элементов, сделать `view` - матрицу 3 * 5 (еще примеры будут ниже)."
   ]
  },
  {
   "cell_type": "code",
   "execution_count": null,
   "metadata": {
    "collapsed": false,
    "deletable": true,
    "editable": true
   },
   "outputs": [],
   "source": [
    "a = np.arange(15)     # создают ndarray([0..15]) тип определяет сам (int64, float64)\n",
    "b = a.reshape((3, 5)) # создает новое представление (view) и возвращает его, \n",
    "                      # (если возможно, то данные не копируются)\n",
    "c = b.T               # создает новое представление транспонированной матрицы\n",
    "\n",
    "print(a)\n",
    "print(b)\n",
    "print(c)\n",
    "\n",
    "c.reshape(15) # здесь он будет вынужден копировать данные, \n",
    "              # т.к. `c` - это представление транспонированной матрицы, \n",
    "              # мы не сможем просто так ее превратить в одномерный массив"
   ]
  },
  {
   "cell_type": "markdown",
   "metadata": {
    "deletable": true,
    "editable": true
   },
   "source": [
    "Функции для создания масивов, тип по умолчанию - `float64`:"
   ]
  },
  {
   "cell_type": "code",
   "execution_count": null,
   "metadata": {
    "collapsed": false,
    "deletable": true,
    "editable": true
   },
   "outputs": [],
   "source": [
    "z = np.zeros((3, 4)) # Создаст матрицу 3 * 4, заполненную нулями с типом float64\n",
    "o = np.ones((2, 3, 4), dtype=np.int16) # 2 * 3 * 4, int16\n",
    "e = np.empty((2, 3)) # создаст матрицу 2 * 3, не инициализрованную, \n",
    "                     # значаения зависят от состояния памяти текущего\n",
    "print(\"zeros:\", os.linesep, z)\n",
    "print(\"ones:\" , os.linesep, o)\n",
    "print(\"empty:\", os.linesep, e)"
   ]
  },
  {
   "cell_type": "markdown",
   "metadata": {
    "deletable": true,
    "editable": true
   },
   "source": [
    "__numpy.arange([start, ]stop, [step, ]dtype=None)__ - генерирует ndarray, аналог `range`"
   ]
  },
  {
   "cell_type": "code",
   "execution_count": null,
   "metadata": {
    "collapsed": false,
    "deletable": true,
    "editable": true
   },
   "outputs": [],
   "source": [
    "i = np.arange(10, 30, 5)\n",
    "f = np.arange(0, 2, 0.3) # создаст массив 0..2, с шагом 0.3\n",
    "\n",
    "print(\"i = \", i)\n",
    "print(\"f = \", f)"
   ]
  },
  {
   "cell_type": "markdown",
   "metadata": {
    "deletable": true,
    "editable": true
   },
   "source": [
    "Если использовать шаг как вещественное число, \n",
    "то в общем случае нельзя определить точное кол-во елементов (из-за лимитированной точности даблов).\n",
    "Для этого есть __np.linspace(from, to, count)__:"
   ]
  },
  {
   "cell_type": "code",
   "execution_count": null,
   "metadata": {
    "collapsed": false,
    "deletable": true,
    "editable": true
   },
   "outputs": [],
   "source": [
    "print(np.linspace(0, 2, 9))\n",
    "x = np.linspace(0, 2 * pi, 5)\n",
    "print(\"x =\", x)\n",
    "\n",
    "\"\"\"\n",
    "    В numpy можно менять формат вывод на экран, printoptions - функция из utils.py\n",
    "    после выхода из блока with, все настройки формата вывода сбросятся\n",
    "    precision - задает точность вывода\n",
    "    supress - выводит в челевеко читаемом виде, убирает exp, округляет маленькие значения\n",
    "\"\"\"\n",
    "with printoptions(precision=3, suppress=True): \n",
    "    print(\"sin =\", np.sin(x)) # Возьмет sin от каждого элемента массива"
   ]
  },
  {
   "cell_type": "markdown",
   "metadata": {},
   "source": [
    "Еще есть __np.logspace(from, to, count, endpoint, base)__ - возвращает числа в диапозоне `[base ** from, base ** to)` равномерно распределенные в логарифмической шкале.<br/>\n",
    "```python\n",
    "np.logspace(from, to, count, True, 10) == 10 ** np.linspace(from, to, count)\n",
    "np.log10(np.logspace(from, to, count, True, 10)) == np.linspace(from, to, count)\n",
    "```"
   ]
  },
  {
   "cell_type": "code",
   "execution_count": null,
   "metadata": {
    "collapsed": false
   },
   "outputs": [],
   "source": [
    "xs = np.linspace(0.02, 2, 10)\n",
    "lnsp = xs\n",
    "lgsp = np.logspace(0.02, 2, 10)\n",
    "\n",
    "plt.subplots_adjust(hspace=0.4)\n",
    "\n",
    "# В линейной шкале\n",
    "plt.subplot(221)\n",
    "plt.title('lin scale')\n",
    "plt.grid(True)\n",
    "\n",
    "plt.plot(xs, lnsp, 'o')\n",
    "plt.plot(xs, lgsp, 'b')\n",
    "\n",
    "# В логарифмической шкале\n",
    "plt.subplot(222)\n",
    "plt.title('log scale')\n",
    "plt.grid(True)\n",
    "plt.yscale('log')\n",
    "\n",
    "plt.plot(xs, lnsp, 'o')\n",
    "plt.plot(xs, lgsp, 'b')\n",
    "\n",
    "plt.show()\n"
   ]
  },
  {
   "cell_type": "code",
   "execution_count": null,
   "metadata": {
    "collapsed": false,
    "deletable": true,
    "editable": true
   },
   "outputs": [],
   "source": [
    "# По умолчанию NumPy умеет понимать, что элементов очень много(>1000) и выводит только начало и конец\n",
    "print(np.arange(1001))\n",
    "\n",
    "# чтобы вывести все используйте опцию форматирование threshold = np.inf\n",
    "with printoptions(threshold=np.inf):\n",
    "    print(np.arange(1001))"
   ]
  },
  {
   "cell_type": "markdown",
   "metadata": {
    "deletable": true,
    "editable": true
   },
   "source": [
    "## Базовые операции"
   ]
  },
  {
   "cell_type": "markdown",
   "metadata": {
    "deletable": true,
    "editable": true
   },
   "source": [
    "Арифметические операции выполняются поэлементно. \n",
    "Создается новый массив и заполняется соответствующими значениями"
   ]
  },
  {
   "cell_type": "code",
   "execution_count": null,
   "metadata": {
    "collapsed": false,
    "deletable": true,
    "editable": true
   },
   "outputs": [],
   "source": [
    "a = np.array([20, 30, 40, 50])\n",
    "b = np.arange(4)"
   ]
  },
  {
   "cell_type": "code",
   "execution_count": null,
   "metadata": {
    "collapsed": false,
    "deletable": true,
    "editable": true
   },
   "outputs": [],
   "source": [
    "print(\"a: \", a)\n",
    "print(\"b: \", b)\n",
    "print()\n",
    "\n",
    "print(\"a - b     : \", a - b)\n",
    "print(\"a * b     : \", a * b)\n",
    "print(\"2 * b ** 2: \", 2 * b ** 2)\n",
    "print(\"a < 35    : \", a < 35)"
   ]
  },
  {
   "cell_type": "code",
   "execution_count": null,
   "metadata": {
    "collapsed": false,
    "deletable": true,
    "editable": true
   },
   "outputs": [],
   "source": [
    "A = np.array( [[1,1],\n",
    "               [0,1]] )\n",
    "\n",
    "B = np.array( [[2,0],\n",
    "               [3,4]] )\n",
    "\n",
    "print(A * B)    # поэлементное перемножение\n",
    "print()\n",
    "print(A.dot(B)) # привычное перемножение матриц, или = np.dot(A, B)\n"
   ]
  },
  {
   "cell_type": "markdown",
   "metadata": {
    "deletable": true,
    "editable": true
   },
   "source": [
    "При выполнении операция над массивами разных типов, происходит __upcast__ - т.е. тип липо сохраняется, либо берется наиболее общий"
   ]
  },
  {
   "cell_type": "markdown",
   "metadata": {
    "deletable": true,
    "editable": true
   },
   "source": [
    "Выполнение унарных операций над масивом, реализуются как методы класса __ndarray__ (max, min etc)"
   ]
  },
  {
   "cell_type": "code",
   "execution_count": null,
   "metadata": {
    "collapsed": false,
    "deletable": true,
    "editable": true,
    "scrolled": true
   },
   "outputs": [],
   "source": [
    "a = np.random.random((2, 3)) # возвращает ndarray заполненный рандомом [0..1], c shape = (2, 3)\n",
    "print(a)\n",
    "print(a.sum())\n",
    "print(a.min())\n",
    "print(a.max())\n",
    "print(a.argmax()) # возвращает индекс максимаального элемента"
   ]
  },
  {
   "cell_type": "markdown",
   "metadata": {
    "deletable": true,
    "editable": true
   },
   "source": [
    "__Задание 1:__ Найти угол в градусах, __кратный 10__, такой что, __ln(|sin(a) * cos(a)|)__ максимален (при помощи numpy естественно)"
   ]
  },
  {
   "cell_type": "code",
   "execution_count": null,
   "metadata": {
    "collapsed": false,
    "deletable": true,
    "editable": true
   },
   "outputs": [],
   "source": [
    "def task1():\n",
    "    \"\"\"\n",
    "    This function should return angle\n",
    "    \"\"\"\n",
    "    return 10\n",
    "\n",
    "check_task1(task1)"
   ]
  },
  {
   "cell_type": "markdown",
   "metadata": {
    "deletable": true,
    "editable": true
   },
   "source": [
    "Одномерные мыссивы NumPy позволяют итерирование, взятие срезки и обращение по индексу, также как и обычные массивы (даже чуть больше)"
   ]
  },
  {
   "cell_type": "code",
   "execution_count": null,
   "metadata": {
    "collapsed": false,
    "deletable": true,
    "editable": true
   },
   "outputs": [],
   "source": [
    "a = np.arange(10) ** 3\n",
    "print(\"a =\", a)\n",
    "\n",
    "print(a[2])\n",
    "print(a[2:5])\n",
    "\n",
    "a[:6:2] = 7      # a[0:6:2]; всем эллементам на позициях [0, 6) с шагом 2 присвоить 7\n",
    "print(a)\n",
    "\n",
    "print(a[ : :-1]) # перевернутый a\n",
    "\n",
    "for i in a:\n",
    "    print(i ** (1 / 3.))"
   ]
  },
  {
   "cell_type": "markdown",
   "metadata": {
    "deletable": true,
    "editable": true
   },
   "source": [
    "Обращаться к элементам многомерного массива можно перечисляя нужные индексы через запятую, примеры: "
   ]
  },
  {
   "cell_type": "code",
   "execution_count": null,
   "metadata": {
    "collapsed": false,
    "deletable": true,
    "editable": true
   },
   "outputs": [],
   "source": [
    "def f(x,y):\n",
    "    return 10*x+y\n",
    "\n",
    "b = np.fromfunction(f, (5, 4), dtype=int) # Создать ndarray размерностью 5 * 4 и генератор для элементов - f\n",
    "print(b)\n",
    "\n",
    "print(b[2, 3])    # = b[2][3]\n",
    "\n",
    "print(b[0:5, 1])  # = b[ :, 1], взять всю вторую колонку матрицы b\n",
    "\n",
    "print()\n",
    "print(b[1:3, : ]) # взять строчки с [1, 3) = 1, 2\n",
    "print()\n",
    "\n",
    "print(b[-1])      # взять последнюю строку, когда индексов меньше, то они заменяются на дефолтные значения - `:`"
   ]
  },
  {
   "cell_type": "markdown",
   "metadata": {
    "deletable": true,
    "editable": true
   },
   "source": [
    "Можно вставллять __троеточие (...)___, вставляет нужное кол-во (:), когда их не хватает <br/>\n",
    "Примеры: пусть `x` имеет ранк(размерности) 5, тогда: <br/>\n",
    "\n",
    "```text\n",
    "x[1,2,...]   = x[1,2,:,:,:],\n",
    "x[...,3]     = x[:,:,:,:,3], \n",
    "x[4,...,5,:] = x[4,:,:,5,:].\n",
    "```"
   ]
  },
  {
   "cell_type": "code",
   "execution_count": null,
   "metadata": {
    "collapsed": false,
    "deletable": true,
    "editable": true
   },
   "outputs": [],
   "source": [
    "a = np.floor(10 * np.random.random((3, 4)))\n",
    "b = a.ravel()        # вернет одномерный массив из 12 (3 * 4) элементов\n",
    "c = a.reshape(3, -1) # -1 в reshape - значит этот параметр посчитается автоматически\n",
    "\n",
    "print(a)\n",
    "print(b)\n",
    "print(c)"
   ]
  },
  {
   "cell_type": "markdown",
   "metadata": {
    "deletable": true,
    "editable": true
   },
   "source": [
    "Два __ndarray__ могут быть сконкатинированны, горизонтально или вертикально. "
   ]
  },
  {
   "cell_type": "code",
   "execution_count": null,
   "metadata": {
    "collapsed": false,
    "deletable": true,
    "editable": true
   },
   "outputs": [],
   "source": [
    "a = np.floor(10 * np.random.random((2, 2)))\n",
    "print(a, os.linesep) \n",
    " \n",
    "b = np.floor(10 * np.random.random((2, 2)))\n",
    "print(b)\n",
    "\n",
    "abv = np.vstack((a,b)) # сконкатинировать по вертикали\n",
    "abh = np.hstack((a,b)) # по горизонтали\n",
    "print()\n",
    "print(\"ver:\", os.linesep, abv)\n",
    "\n",
    "print()\n",
    "print(\"hor:\", os.linesep, abh)"
   ]
  },
  {
   "cell_type": "markdown",
   "metadata": {
    "deletable": true,
    "editable": true
   },
   "source": [
    "Либо разбиты по горизонтали или вертикали."
   ]
  },
  {
   "cell_type": "code",
   "execution_count": null,
   "metadata": {
    "collapsed": false,
    "deletable": true,
    "editable": true
   },
   "outputs": [],
   "source": [
    "vab = np.vsplit(abv, 2)\n",
    "print()\n",
    "print(\"split ver:\", os.linesep, vab[0], os.linesep, vab[1])\n",
    "\n",
    "hab = np.hsplit(abh, 2)\n",
    "print()\n",
    "print(\"split hor:\", os.linesep, hab[0], os.linesep, hab[1])"
   ]
  },
  {
   "cell_type": "markdown",
   "metadata": {
    "deletable": true,
    "editable": true
   },
   "source": [
    "Делая срезку массива, транспонирование и другие функции создающие `view` не делают копии данных. <br/>\n",
    "Чтобы сделать копию используй метод __ndarray.copy()__ "
   ]
  },
  {
   "cell_type": "markdown",
   "metadata": {
    "deletable": true,
    "editable": true
   },
   "source": [
    "__Несколько примеров продвинутой индексации:__"
   ]
  },
  {
   "cell_type": "code",
   "execution_count": null,
   "metadata": {
    "collapsed": false,
    "deletable": true,
    "editable": true
   },
   "outputs": [],
   "source": [
    "a = np.arange(12) ** 2\n",
    "print(a, os.linesep)\n",
    "\n",
    "i = np.array([1,1,3,8,5]) # массив индексов\n",
    "print(a[i])               # создаст новый ndarray, взяв элементы из `a` с индексами перечисленными в `i`\n",
    "\n",
    "print()\n",
    "\n",
    "j = np.array([ [3, 4], [9, 7] ]) # двумерный индексы\n",
    "print(a[j])                      # создаст ndarray, у которого `shape` == j.shape, \n",
    "                                 # и заполнит его элементами на соответствующих позициях"
   ]
  },
  {
   "cell_type": "code",
   "execution_count": null,
   "metadata": {
    "collapsed": false,
    "deletable": true,
    "editable": true
   },
   "outputs": [],
   "source": [
    "# Пример двумерных индексов\n",
    "\n",
    "a = np.arange(12).reshape(3,4)\n",
    "\n",
    "i = np.array([[0, 1],  # Индексы по первой координате\n",
    "              [1, 2]])\n",
    " \n",
    "j = np.array([[2, 1],  # Индексы по второй координате\n",
    "              [3, 3]])\n",
    "\n",
    "print(a)\n",
    "\n",
    "print(os.linesep, \"a[i, j]\")\n",
    "print(a[i, j])         # i и j должны иметь одинаковый `shape`, создаст матрицу беря элементы с индексами [i, j]\n",
    "\n",
    "print(os.linesep, \"a[i, 2]\") # возьмет второй столбец `a`, и создаст из нее массив shape = i.shape, \n",
    "                             # и элементы соответствуют индексам в данном столбце\n",
    "print(a[i, 2])\n",
    "\n",
    "print(os.linesep, \"a[:, j]\") # выполнит для каждой строки создание матрицы, \n",
    "print(a[:, j])               # заполнит элементами с индексами `j` в соответствующей строке\n"
   ]
  },
  {
   "cell_type": "code",
   "execution_count": null,
   "metadata": {
    "collapsed": false,
    "deletable": true,
    "editable": true
   },
   "outputs": [],
   "source": [
    "a = np.arange(5)\n",
    "\n",
    "# Можно присваивать новые значения соответствующему индексу =) \n",
    "a[[1,3,4]] = 536\n",
    "a"
   ]
  },
  {
   "cell_type": "code",
   "execution_count": null,
   "metadata": {
    "collapsed": false,
    "deletable": true,
    "editable": true
   },
   "outputs": [],
   "source": [
    "a = np.arange(5)\n",
    "\n",
    "# Если индекс повторяется, то присвоится последнее значение\n",
    "a[[0,0,2]] = [1,2,3]\n",
    "a"
   ]
  },
  {
   "cell_type": "code",
   "execution_count": null,
   "metadata": {
    "collapsed": false,
    "deletable": true,
    "editable": true
   },
   "outputs": [],
   "source": [
    "a = np.arange(5)\n",
    "\n",
    "# Пример может сделать не то что ты ожидаешь, из-за ограничений питона, что a += 1 <=> a = a + 1\n",
    "a[[0,0,2]] += 1\n",
    "a"
   ]
  },
  {
   "cell_type": "markdown",
   "metadata": {
    "deletable": true,
    "editable": true
   },
   "source": [
    "Еще очень полезная фича - __Булевская индексация__. Применима для фильтрации значений, подходящих под определенное условие"
   ]
  },
  {
   "cell_type": "code",
   "execution_count": null,
   "metadata": {
    "collapsed": false,
    "deletable": true,
    "editable": true
   },
   "outputs": [],
   "source": [
    "a = np.arange(10)\n",
    "cond = a % 3 == 0 # создаст массив shape = a.shape, dtype = bool, в правильных позициях будет стоять True\n",
    "\n",
    "good_a = a[cond]\n",
    "bad_a  = a[~cond]\n",
    "\n",
    "print(a, os.linesep)\n",
    "print(good_a)  # = a[a % 3 == 0]\n",
    "print(bad_a)"
   ]
  },
  {
   "cell_type": "markdown",
   "metadata": {
    "deletable": true,
    "editable": true
   },
   "source": [
    "__Задание 2:__ Thresholding изображения, вам передают изображение (двумерный массив оттенков серого [0, 255)), и __threshold (t)__, вы должны вернуть изображение, в котором, все значения меньшие данного __t__ обнулить, а значения большие __t__ заменить на 255"
   ]
  },
  {
   "cell_type": "code",
   "execution_count": null,
   "metadata": {
    "collapsed": false,
    "deletable": true,
    "editable": true
   },
   "outputs": [],
   "source": [
    "def task2(img, t):\n",
    "    \"\"\"\n",
    "        Returns new thresholding image \n",
    "    \"\"\"\n",
    "    return img\n",
    "\n",
    "test_task2(task2)"
   ]
  }
 ],
 "metadata": {
  "kernelspec": {
   "display_name": "Python 3",
   "language": "python",
   "name": "python3"
  },
  "language_info": {
   "codemirror_mode": {
    "name": "ipython",
    "version": 3
   },
   "file_extension": ".py",
   "mimetype": "text/x-python",
   "name": "python",
   "nbconvert_exporter": "python",
   "pygments_lexer": "ipython3",
   "version": "3.5.2"
  }
 },
 "nbformat": 4,
 "nbformat_minor": 2
}
