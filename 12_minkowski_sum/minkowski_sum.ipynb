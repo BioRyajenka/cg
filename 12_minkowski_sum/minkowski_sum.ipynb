{
 "cells": [
  {
   "cell_type": "markdown",
   "metadata": {
    "slideshow": {
     "slide_type": "slide"
    }
   },
   "source": [
    "# Содержание\n",
    "\n",
    "- Что такое сумма Минковского и с чем её едят\n",
    "- Сумма двух выпуклых фигур\n",
    "- Сумма двух невыпуклых фигур\n",
    "\n",
    "Случай суммы выпуклой и невыпуклой фигуры будет рассмотрен в отдельном билете(#13).\n",
    "\n",
    "Сначала будет много теории, чтобы понять с чем мы вообще работаем, а потом разберемся как это реализовать на практике."
   ]
  },
  {
   "cell_type": "markdown",
   "metadata": {
    "slideshow": {
     "slide_type": "slide"
    }
   },
   "source": [
    "## Что такое сумма Минковского и с чем её едят"
   ]
  },
  {
   "cell_type": "markdown",
   "metadata": {
    "slideshow": {
     "slide_type": "slide"
    }
   },
   "source": [
    "### Сумма Минковского\n",
    "\n",
    "Множество $C$ является суммой Минковского множеств $A$ и $B$, если сумма любых двух точек из этих множеств принадлежит $C$. \n",
    "$$\n",
    "C = A \\oplus B = \n",
    "\\left\\{\n",
    "        c \\mid \\forall a \\in A, \\, \\forall b \\in B, \\, \\exists c = a + b\n",
    "\\right\\}\n",
    "$$\n",
    "$$\n",
    "a = (a_x, a_y), \\, b = (b_x, b_y) \\Rightarrow c = a + b = (a_x + b_x, a_y + b_y)\n",
    "$$\n",
    "![Пример](images/sum_minkowski_example.png)\n"
   ]
  },
  {
   "cell_type": "markdown",
   "metadata": {
    "slideshow": {
     "slide_type": "slide"
    }
   },
   "source": [
    "### Отрицание множества\n",
    "$$\n",
    "-S = \n",
    "\\left\\{\n",
    "    - s : s \\in S\n",
    "\\right\\}\n",
    "$$\n",
    "$$\n",
    "s = (s_x, s_y) \\Rightarrow -s = (- s_x, - s_y)\n",
    "$$\n",
    "Множество $- S$ состоит из точек множества $S$ отраженных через центр координат."
   ]
  },
  {
   "cell_type": "markdown",
   "metadata": {
    "slideshow": {
     "slide_type": "slide"
    }
   },
   "source": [
    "### Применение(прокладка маршрута)\n",
    "\n",
    " Давайте рассмотрим ситуацию: у нас есть физическое тело, для которого нужно проложить маршрут не сталкиваясь с препятствиями. Тела заданы геометрическими фигурами. Для упрощения ничего вращать не будем.\n",
    " Тело назовем $B$, а препятствия $A_i$. Утверждается, что эта задача сводится к более простой, где нужно составить маршрут для точки около препятствий вида $A_i \\oplus (- B)$.\n",
    " В примере workspace - это иллюстрация той задачи, которую нам нужно решить, а configuration space - иллюстрация аналогичной, но более простой задачи.\n",
    " ![Пример](images/sum_minkowski_prim_example.png)"
   ]
  },
  {
   "cell_type": "markdown",
   "metadata": {
    "slideshow": {
     "slide_type": "slide"
    }
   },
   "source": [
    " Выберем любую току на теле $R \\in B$ (например, центр масс) и зафиксируем ее. $r - $ радиус вектор до $R$. $b$ - вектор от $R$ до любой другой точки принадлежащей телу. $a \\in A$ - радиус вектор до любой точки внутри препятствия.\n",
    " #### Утверждение:\n",
    "> $r + b \\in A  \\Leftrightarrow r \\in A \\oplus (-B)$"
   ]
  },
  {
   "cell_type": "markdown",
   "metadata": {
    "slideshow": {
     "slide_type": "notes"
    }
   },
   "source": [
    "$\\triangleright$\n",
    "<div style=\"padding-left:40px\">\n",
    "$\\Rightarrow$ <br>\n",
    "Предположим $r + b \\in A$, но $r \\notin A \\oplus (-B), r + b = a \\Rightarrow r = a + (-b) \\in A \\oplus B$ !!!<br>\n",
    "$\\Leftarrow$<br>\n",
    "Предположим  $r \\in A \\oplus (-B)$, но $r + b \\notin A,  r = a - b \\Rightarrow B \\ni r + b = a \\in A$ !!!\n",
    "</div>\n",
    "$\\triangleleft$"
   ]
  },
  {
   "cell_type": "markdown",
   "metadata": {
    "slideshow": {
     "slide_type": "fragment"
    }
   },
   "source": [
    "Это означает, что если мы в процессе поиска маршрута в workspace заденем препятствие, то в configuration space наша точка окажется внутри препятствия, и наоборот. Данный факт позволяет утверждать, что задачи аналогичны. \n",
    "\n",
    "![Пример](images/sum_minkowski_simple.png)"
   ]
  },
  {
   "cell_type": "markdown",
   "metadata": {
    "slideshow": {
     "slide_type": "slide"
    }
   },
   "source": [
    "## Сумма Минковского двух выпуклых фигур"
   ]
  },
  {
   "cell_type": "markdown",
   "metadata": {
    "slideshow": {
     "slide_type": "slide"
    }
   },
   "source": [
    "#### Утверждение\n",
    "\n",
    "> Сумма Минковского двух выпуклых множеств является выпуклым множеством."
   ]
  },
  {
   "cell_type": "markdown",
   "metadata": {
    "slideshow": {
     "slide_type": "skip"
    }
   },
   "source": [
    "$\\triangleright$\n",
    "<div style=\"padding-left:40px\">\n",
    "\n",
    "    Рассмотрим $C = A \\oplus B$ и линейную комбинацию двух точек из $C$ ($\\alpha \\in [0, 1], \\, \\beta = 1 - \\alpha \\in [0, 1]$) $c = \\alpha c_1 + (1 - \\alpha ) c_2 = \\alpha (a_1 + b_1) + \\beta (a_2 + b_2) = \\alpha a_1 + \\beta a_2 +  \\alpha b_1 + \\beta b_2 = (\\alpha a_1 + \\beta a_2) + (\\alpha b_1 + \\beta b_2) = a + b \\in A \\oplus B \\Rightarrow$ любая выпуклая комбинация точек из множества $C$ ему принадлежит $\\Rightarrow$ множество $C$ выпуклое.\n",
    "\n",
    "</div>\n",
    "\n",
    "$\\triangleleft$"
   ]
  },
  {
   "cell_type": "markdown",
   "metadata": {
    "slideshow": {
     "slide_type": "fragment"
    }
   },
   "source": [
    "#### Определение\n",
    "> Точка $a \\in A$ является экстремальной в некотором направлении, если направив ось в этом направлении(предположим ось $OX$), то $ \\forall a' \\in A \\, a'_x \\leq a_x$.\n",
    "\n",
    "#### Утверждение\n",
    "> $C = A \\oplus B$, $c \\in C$, $a \\in A$, $b \\in B$, $c = a + b$. $c$ - экстремальная вершина в некотором направлении $\\Leftrightarrow a, \\, b - $ экстремальные вершины в этом же направлении."
   ]
  },
  {
   "cell_type": "markdown",
   "metadata": {
    "slideshow": {
     "slide_type": "subslide"
    }
   },
   "source": [
    "$\\triangleright$\n",
    "<div style=\"padding-left:40px\">\n",
    "$\\Rightarrow$ <br>\n",
    " Предположим $c\\,-$ экстремальная точка в некотором направлении, но $a$, $b - $ не являются экстремальными в этом же направлении (и/или не важно, предположим что как минимум $a$, если только $b$, то переобозначим). Повернем систему координат так, чтобы $ \\forall c' \\in C$ $c_x \\geq c'_x$(т. е. ось $OX$ вдоль того направления). Раз $a$ - не экстремальная, то $\\exists a' \\in A : a'_x > a_x$, рассмотрим $c'' = a' + b$, $c''_x = a'_x + b_x > a_x + b_x = c_x$ $!!!$\n",
    "</div> \n",
    "![Пример](images/sum_minkowski_simple_extr_sum1.png)\n",
    "<div style=\"padding-left:40px\">\n",
    "$\\Leftarrow$ <br>\n",
    " Предположим $a$, $b\\,- $ экстремальные точки в некотором направлении, но $c$ - не  является экстремальной в этом же направлении. Повернем систему координат так, чтобы $ \\forall a' \\in A$ $a_x \\geq a'_x$,  $ \\forall b' \\in B$ $b_x \\geq b'_x$. Раз $c$ - не экстремальная, то $\\exists c' \\in С : c'_x > c_x$, рассмотрим $c' = a'' + b''$, $a''_x + b''_x  = c'_x > c_x = a_x + b_x$, но $a'' \\in A$, $b'' \\in b$ $\\Rightarrow$ $a_x \\geq a''_x$, $b_x \\geq b''_x$ $\\Rightarrow$ $a''_x + b''_x \\leq a_x + b_x$ $!!!$   \n",
    "</div> \n",
    "![Пример](images/sum_minkowski_simple_extr_sum2.png)\n",
    "$\\triangleleft$    "
   ]
  },
  {
   "cell_type": "markdown",
   "metadata": {
    "slideshow": {
     "slide_type": "slide"
    }
   },
   "source": [
    "#### Следствие\n",
    "> Предположим, мы складываем экстремальную точку и экстремальный отрезок в одном направлении. Экстремальный отрезок - множество экстремальных точек $\\Rightarrow$ сложив с экстремальной точкой, получим множество экстремальных точек.\n",
    " Чуть повернув рассматриваемое направление, один из концов отрезка остается экстоемальной точкой и  для нового направления получается сложение точки и конца отрезка $\\Rightarrow$ мы можем ограничить итоговое множество двумя экстремальными точками с двух сторон. А складывая точку(которая является выпуклым множеством) и выпуклое множество, получаем выпуклое множество $\\Rightarrow$ получаем ограниченное выпуклое множество экстремальных(в одном направлении) точек $\\Rightarrow$ получается отрезок."
   ]
  },
  {
   "cell_type": "markdown",
   "metadata": {
    "slideshow": {
     "slide_type": "slide"
    }
   },
   "source": [
    "#### Утверждение\n",
    " > Сумма Минковского двух выпуклых многоугольников является выпуклым многоугольником."
   ]
  },
  {
   "cell_type": "markdown",
   "metadata": {
    "slideshow": {
     "slide_type": "notes"
    }
   },
   "source": [
    "$\\triangleright$\n",
    "\n",
    "<div style=\"padding-left:40px\">\n",
    " Давайте рассмотрим две фигуры и экстремальные участки по всем направлениям. Если в одном направлении экстремальными будут две вершины, то они перейдут в вершину в новом многоугольнике, иначе (точка + ребро/ребро + ребро) будет новое ребро. В итоге у нас получается выпуклая фигура из вершин соединеных ребрами $\\Rightarrow$ это выпуклый многоугольник.\n",
    " \n",
    "</div>\n",
    "\n",
    "$\\triangleleft$"
   ]
  },
  {
   "cell_type": "markdown",
   "metadata": {
    "slideshow": {
     "slide_type": "fragment"
    }
   },
   "source": [
    "#### Утверждение\n",
    "> $A$ выпуклый $n$-угольник, $B$ выпуклый $m$-угольник $\\Rightarrow$ $C = A \\oplus B$ выпуклый $(n + m)$ - угольник"
   ]
  },
  {
   "cell_type": "markdown",
   "metadata": {
    "slideshow": {
     "slide_type": "subslide"
    }
   },
   "source": [
    "$\\triangleright$\n",
    "\n",
    "<div style=\"padding-left:40px\">\n",
    "\n",
    " $C \\, -$выпуклый многоугольник, это следует из предыдущего утверждения, осталось определиться с количеством вершин.<br>\n",
    " Возьмем множества вершин $A$ и $B$, в каждом из них найдем самую левую точку (если их несколько возьмем самую нижнюю), это будут точки $A_0$ и $B_0$. Они являются экстремальными в одном направлении (направление влево, они являются самыми левыми из экстремальных). От них, против часовой стрелки будем рассматривать следущие направления(грубо говоря, если представить направление в виде вектора, то мы будем вращать этот вектор и смотреть как меняется экстремальность вершин). Пока эти точки являются экстремальными, по этому направлению  экстремальной точкой в новой фигуре будет их сумма, но когда по новому направлению экстремальным станет целый отрезок дальнейшее вращение направления сменит экстремальные точки на следующие(может одну, а может и обе) $\\Rightarrow$ в итоговом многоугольнике получится новая точка. Сделав полный оборот мы вернемся в точки $A_0$ и $B_0$, дальнейшее вращение не даст ничего нового.\n",
    " Проходя так в одну сторону один круг, каждая точка может стать экстремальной единожды $\\Rightarrow$ каждая точка встречается(перестает быть экстремальной) один раз, а новые точки в $C$ появляются лишь при смене экстремальной точки в $A$ или $B$, а такое может произойти только $(n + m)$ раз.\n",
    "\n",
    "</div>\n",
    "\n",
    "$\\triangleleft$"
   ]
  },
  {
   "cell_type": "code",
   "execution_count": 2,
   "metadata": {
    "collapsed": true,
    "slideshow": {
     "slide_type": "skip"
    }
   },
   "outputs": [],
   "source": [
    "#Использованные библиотеки\n",
    "import numpy as np\n",
    "import matplotlib.pyplot as plt\n",
    "#Реализация тестов и примеров\n",
    "import some_code as example"
   ]
  },
  {
   "cell_type": "markdown",
   "metadata": {
    "collapsed": true,
    "slideshow": {
     "slide_type": "slide"
    }
   },
   "source": [
    "### Алгоритм(сумма Минковского двух выпуклых фигур)\n",
    "   Замечание: \n",
    " - Вершина - numpy массив из координат. \n",
    " - Многоугольник - numpy массив вершин в порядке обхода против часовой стрелки."
   ]
  },
  {
   "cell_type": "markdown",
   "metadata": {
    "slideshow": {
     "slide_type": "slide"
    }
   },
   "source": [
    "#### Полезный предикат\n",
    "\n",
    " Исходя из доказательства предыдущего утверждения можно понять, что если в правильной последовательности перебрать все вершины двух фигур, то можно получить их сумму Минковского за $O(n + m)$, но сначала нам нужно научится определять следующую по направлению вершину. \n",
    " Рассмотрим точки $A_0$, $B_0$ - текущие точки и $A_1$, $B_1$ - следующие по направлению в фигуре. Если рассмотреть вектора $\\overrightarrow{A_0 A_1}$ и $\\overrightarrow{B_0 B_1}$ и отложить их от одной точки, то вектор находящийся справа относительно другого, соответсвует нужной вершине. А для этого достаточно посмотреть знак векторного произведения векторов.\n",
    " \n",
    " $p = sign(\\overrightarrow{A_0 A_1} \\times \\overrightarrow{B_0 B_1})$\n",
    " - $p = 1 \\Rightarrow \\overrightarrow{A_0 A_1}$ - правее, следующая ближайшая точка $A_1$\n",
    " - $p = 0 \\Rightarrow $ вектора сонаправлены, $A_1$ и $B_1$ являются ближайшими точками одновременно.\n",
    " - $p = -1 \\Rightarrow \\overrightarrow{B_0 B_1}$ - правее, следующая ближайшая точка $B_1$\n",
    "$$\\overrightarrow{A_0 A_1} \\times \\overrightarrow{B_0 B_1} =\n",
    "\\begin{vmatrix}\n",
    "    A_{1x} - A_{0x} && A_{1y} - A_{0y} \\\\\n",
    "    B_{1x} - B_{0x} && B_{1y} - B_{0y}\n",
    "\\end{vmatrix} \n",
    "$$\n",
    "![Пример](images/sum_minkowski_alg_example.png)"
   ]
  },
  {
   "cell_type": "markdown",
   "metadata": {
    "slideshow": {
     "slide_type": "skip"
    }
   },
   "source": [
    " Попробуйте реальзовать предикат самостоятельно. На вход задаются 4 точки $A_0$, $A_1$, $B_0$, $B_1$. Функция должна возвращать значение предиката от этих точек. "
   ]
  },
  {
   "cell_type": "code",
   "execution_count": 3,
   "metadata": {
    "collapsed": false,
    "slideshow": {
     "slide_type": "skip"
    }
   },
   "outputs": [
    {
     "name": "stdout",
     "output_type": "stream",
     "text": [
      "Предикат реализован правильно\n"
     ]
    }
   ],
   "source": [
    "#Для проверки используйте функцию check_pred(your_pred), ниже будет выведен результат проверки и тест на котором ваш код работает неверно\n",
    "\n",
    "example.check_pred(example.example_pred)"
   ]
  },
  {
   "cell_type": "markdown",
   "metadata": {
    "slideshow": {
     "slide_type": "slide"
    }
   },
   "source": [
    "### Алгоритм\n",
    " Исходя из доказательсва утверждения можно вывести алгоритм:\n",
    " - Берем левую нижнюю точку для каждой их фигур($A_0$, $B_0$) и записываем ее сумму в фигуру $C$.\n",
    " - Рассматриваем следующие для них точки($A_1$, $B_1$), берем ближайшую из них(если они обе ближайшие, то берем обе) и записываем их как новые текущие точки($A_0 = A_1$ и/или $B_0 = B_1$). Если мы вернулись в начало, то выходим, иначе записываем сумму текущих в фигуру $C$ и начинаем этот пункт сначала.\n",
    " - В фигуре $C$ лежит сумма Минковского фигур $A$ и $B$."
   ]
  },
  {
   "cell_type": "markdown",
   "metadata": {
    "slideshow": {
     "slide_type": "skip"
    }
   },
   "source": [
    " Попробуйте реализовать алгоритм самостоятельно. На вход даются две выпуклые фигуры, вернуть вы должны сумму минковского этих фигур. Следующее поле является иллюстрацией к задаче и примером использования функций, которые могут быть полезны."
   ]
  },
  {
   "cell_type": "code",
   "execution_count": 4,
   "metadata": {
    "collapsed": false,
    "scrolled": false,
    "slideshow": {
     "slide_type": "subslide"
    }
   },
   "outputs": [
    {
     "data": {
      "image/png": "[encoded data removed]",
      "text/plain": [
       "<matplotlib.figure.Figure at 0x7f971a72f978>"
      ]
     },
     "metadata": {},
     "output_type": "display_data"
    }
   ],
   "source": [
    "#Тут реализована иллюстрация происходящего.\n",
    "\n",
    "#Фигуры нарисованные на картинках\n",
    "#A = np.array([[1, 4], [3, 4], [2, 6]])\n",
    "#B = np.array([[4, 1], [6, 2], [4, 3]])\n",
    "\n",
    "#2 случайных выпуклых многоугольника\n",
    "A = example.rand_figure()\n",
    "B = example.rand_figure()\n",
    "\n",
    "#Создаем область для картинок \n",
    "fig = plt.figure(figsize = (15, 5))\n",
    "\n",
    "#Рисуем многоугольники A, B в первых 2х областях\n",
    "#paint_polygon(figure, place, polygon, line_color, point_color, min_x/y, max_x/y)\n",
    "example.paint_polygon(fig, 131, A, \"r\", \"yo\", 0, 10)\n",
    "example.paint_polygon(fig, 132, B, \"g\", \"yo\", 0, 10)\n",
    "\n",
    "#Считаем сумму Минковского A и B\n",
    "#example_alg(polygon1, polygon2)\n",
    "C = example.example_alg(A, B)\n",
    "\n",
    "#Рисуем многоугольник C в третьей области\n",
    "example.paint_polygon(fig, 133, C, \"b\", \"yo\", 0, 20)  \n",
    "\n",
    "plt.show()"
   ]
  },
  {
   "cell_type": "code",
   "execution_count": 5,
   "metadata": {
    "collapsed": false,
    "slideshow": {
     "slide_type": "skip"
    }
   },
   "outputs": [
    {
     "name": "stdout",
     "output_type": "stream",
     "text": [
      "Алгоритм реализован правильно\n"
     ]
    }
   ],
   "source": [
    "#Свою версию алгоритма писать тут \n",
    "#Для проверки используйте функцию check_alg(your_alg), ниже будет выведен результат проверки и тест на котором ваш код работает неверно\n",
    "#В качестве ответа подходит любая циклическая перестановка правильного ответа\n",
    "\n",
    "example.check_alg(example.example_alg)"
   ]
  },
  {
   "cell_type": "markdown",
   "metadata": {
    "collapsed": true,
    "slideshow": {
     "slide_type": "slide"
    }
   },
   "source": [
    "## Сумма двух невыпуклых фигур"
   ]
  },
  {
   "cell_type": "markdown",
   "metadata": {
    "slideshow": {
     "slide_type": "slide"
    }
   },
   "source": [
    "#### Утверждение\n",
    "> Объединение $n$ выпуклых фигур в худшем случаем может дать $O(n^2)$ вершин."
   ]
  },
  {
   "cell_type": "markdown",
   "metadata": {
    "slideshow": {
     "slide_type": "skip"
    }
   },
   "source": [
    "$\\triangleright$\n",
    "\n",
    "<div style=\"padding-left:40px\">\n",
    "\n",
    " В процессе объединения нескольких фигур вершины у новой фигуры могут появится в двух случаях: они они были вершинами изначальных фигур или у двух фигур пересекались ребра и после объединения в этом месте появилась вершина. Первым способом максимум может получится $O(n)$ вершин. В худшем случае каждое все ребра фигур между собой пересекаются, т е $O(n)$ ребер пересекают друг друга, получается $O(n^2)$ пересечений максимум. Итог - максимум $O(n^2)$ вершин.\n",
    "\n",
    "</div>\n",
    "\n",
    "$\\triangleleft$"
   ]
  },
  {
   "cell_type": "markdown",
   "metadata": {
    "slideshow": {
     "slide_type": "fragment"
    }
   },
   "source": [
    " Если мы хотим сложить невыпуклые фигуры, то нам придется сначала разбить их на треугольники, просуммировать их, а потом уже объединять полученные фигуры. В случае суммы Минковского n - угольника и m - угольника, у нас получится множество из $(n - 2)$ треугольника и из $(m - 2)$ треугольника, получится объединение $O(nm)$ фигур. В худшем случае получается фигура с $O( (nm)^2 )$ вершин. Эта оценка достижима(пример).\n",
    "![Пример](images/Minkowski_hard_example.png)\n",
    " Замечание: при симметричном увеличении количества зубцов любой из фигур в 2 раза и их продлении, количество точек в сумме Минковского увеличится в 4 раза."
   ]
  }
 ],
 "metadata": {
  "celltoolbar": "Slideshow",
  "kernelspec": {
   "display_name": "Python 3",
   "language": "python",
   "name": "python3"
  },
  "language_info": {
   "codemirror_mode": {
    "name": "ipython",
    "version": 3
   },
   "file_extension": ".py",
   "mimetype": "text/x-python",
   "name": "python",
   "nbconvert_exporter": "python",
   "pygments_lexer": "ipython3",
   "version": "3.4.3"
  }
 },
 "nbformat": 4,
 "nbformat_minor": 2
}
