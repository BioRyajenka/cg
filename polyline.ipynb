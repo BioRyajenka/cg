{
 "cells": [
  {
   "cell_type": "code",
   "execution_count": 1,
   "metadata": {
    "collapsed": false
   },
   "outputs": [],
   "source": [
    "from utils import *\n",
    "from collections import deque\n",
    "from test import *\n",
    "from examples import *"
   ]
  },
  {
   "cell_type": "markdown",
   "metadata": {},
   "source": [
    "# Оболочка полилинии\n",
    "Простой полилинией называется ломаная не имеющая самопересечений.\n",
    "Далее мы научимся строить выпуклую оболочку полилинии за $O(n)$\n",
    "![Пример](images/polyline.png)\n",
    "\n"
   ]
  },
  {
   "cell_type": "markdown",
   "metadata": {},
   "source": [
    "## Алгоритм Мелькмана\n",
    "\n",
    "Заведем дек, в котором будут поддерживаться 2 инварианта:\n",
    "1. Вершины в деке – это вершины корректной выпуклой оболочки для всех рассмотренных вершин.\n",
    "2. Последняя рассмотренная вершина лежит спереди и сзади дека (если она принадлежит текущей\n",
    "оболочке).\n",
    "Изначально дек инициализируется первыми тремя вершинами полилинии (очевидно, корректно).\n",
    "Далее идем по вершинам в том порядке, в котором они соединены полилинией и, в зависимости от положения очередной добавляемой точки, изменяем дек."
   ]
  },
  {
   "cell_type": "markdown",
   "metadata": {},
   "source": [
    "Пусть у нас была дана полилиния $P={p_1, p_2, \\dots, p_9, \\dots}$.\n",
    "Пускай мы уже построили оболочку для вершин $p_1, p_2,\\dots, p_8$. При добавлении очередной вершины $p_9$ возможны случаи:\n",
    "\n",
    "![Пример](images/polyline_var.png)\n",
    "\n",
    "Заметим, что добавляемая точка не может \"спряться\" от текущей головной вершины позади всей оболочки\n",
    "из-за несамопересекаемости полилинии.\n",
    "\n",
    "![Пример](images/polyline_no.png)"
   ]
  },
  {
   "cell_type": "markdown",
   "metadata": {},
   "source": [
    "Как изменяется дек?\n",
    "1. Если добавляемая точка оказалась в позиции 4 (внутри текущей оболочки), то ничего делать ненадо. \n",
    "2. Если в позициях 1 или 3 – удаляем вершины с соответствующей стороны дека, пока не получится\n",
    "корректный поворот.\n",
    "3. В случае 2 удаляем по 1 вершине с обоих сторон дека.\n",
    "\n",
    "В любом из случаев, в конце очередного шага необходимо положить эту вершину с обоих концов дека."
   ]
  },
  {
   "cell_type": "markdown",
   "metadata": {},
   "source": [
    "## Реализация"
   ]
  },
  {
   "cell_type": "code",
   "execution_count": 12,
   "metadata": {
    "collapsed": false
   },
   "outputs": [],
   "source": [
    "def melkman(points):\n",
    "    d = deque()\n",
    "    \n",
    "    #Если точек меньше 3, то нет смысла делать что-то дальше\n",
    "    if len(points) < 3:\n",
    "        return d\n",
    "    \n",
    "    #Добавляем в дек первые три точки\n",
    "    t = turn( points[1], points[0], points[2])\n",
    "    if t == TURN_RIGHT:\n",
    "        d.append(points[0])\n",
    "        d.append(points[1])\n",
    "    else :\n",
    "        d.append(points[1])\n",
    "        d.append(points[0])\n",
    "    d.append(points[2])\n",
    "    d.appendleft(points[2])\n",
    "    \n",
    "    #Идем по полилинии, обрабатывая новые вершины\n",
    "    for i in  range(3, len(points)):\n",
    "        l = len(d)\n",
    "        #Шаг первый: если очередная точка лежит внутри уже имеющейся оболочки, то пропускаем ее\n",
    "        if turn(d[0], points[i], d[1]) == TURN_RIGHT and turn(d[l - 1], d[l - 2], points[i]) == TURN_RIGHT:\n",
    "            continue\n",
    "            \n",
    "        #Шаг второй: если очередная точка лежит слева от прямой, образованной двумя крайними точками,\n",
    "        #лежащими на правой границе дека, то модифицируем дек\n",
    "        while turn(d[l - 1], d[l - 2], points[i]) == TURN_LEFT:\n",
    "            d.pop()\n",
    "            l -= 1\n",
    "        #Добавляем текущую точку в правый конец дека\n",
    "        d.append(points[i])\n",
    "        \n",
    "        #Шаг третий: как на втором шаге, только для левого конца дека\n",
    "        while turn(d[0], points[i], d[1]) == TURN_LEFT:\n",
    "            d.popleft() \n",
    "        d.appendleft(points[i])\n",
    "    return d\n"
   ]
  },
  {
   "cell_type": "code",
   "execution_count": 13,
   "metadata": {
    "collapsed": false
   },
   "outputs": [
    {
     "data": {
      "image/png": "[encoded data removed]",
      "text/plain": [
       "<matplotlib.figure.Figure at 0x7f98768a8198>"
      ]
     },
     "metadata": {},
     "output_type": "display_data"
    }
   ],
   "source": [
    "#Здесь можно посмотреть примеры работы\n",
    "#example_melkman[i], где i может принимать значения от 0 до 3 - номер примера\n",
    "points = example_melkman[1]\n",
    "ans = list(melkman(points))\n",
    "plot_melkman(points, ans)"
   ]
  },
  {
   "cell_type": "markdown",
   "metadata": {},
   "source": [
    "## Корректность и время работы\n",
    "Очевидно, что этот алгоритм работает за линейное время от количества точек в исходной полилинии, поскольку каждая вершина будет обработана (добавлена и удалена) один раз. \n",
    "\n",
    "Но почему алгоритм вообще работает? Для того, чтобы объяснить это, для начала вспомним свойства выпуклой оболочки $D$ для простой полигональной цепи $P$.\n",
    "1. $D$ выпуклая\n",
    "2. $P$ содержится в  $D$\n",
    "3. Множество вершин, из которых состоит $D$ является подмножеством вершин полигональной цепи $P$\n",
    "\n",
    "Доказательство корректности алгоритма строится на том, что следующее утверждение верно на протяженииобработки алгоритмом всей полилинии."
   ]
  },
  {
   "cell_type": "markdown",
   "metadata": {},
   "source": [
    "### Утверждение\n",
    "> Дек $ D=(d_b,d_{b+1},....d_{t-1},d_{t})$ при добавлении очередной вершины полилинии содержит в себе корректную выпуклую оболочку уже рассмотренных вершин<br>\n",
    " \n",
    "$\\triangleright$<br>\n",
    "<div style=\"padding-left:40px\">\n",
    "<b>База:</b> Та часть алгоритма, которая находится перед циклом `for` гарантирует, что утверждение верно для трех вершин.<br>\n",
    "<b>Переход:</b> Предположим, что утверждение верно для $k$ вершин.<br>\n",
    "Для начала заметим, что все вершины, которые мы пропускаем на <b>первом шаге</b> находятся внутри уже построенной выпуклой оболочки. \n",
    "Фактически, мы пропускаем очередную вершину, если она находится справа от ориентированых векторов $\\mathbf{d_b d_{b+1}}$ и $\\mathbf{d_{t-1}d_t}$. Более того, так как мы рассматриваем полилинию, то вершины $d_t$ и $v$ соединены, и, поскольку наша полилиния простая, ребро $\\mathbf{vd_t}$ не пересекает ту часть полилинии, которая находится между $d_{b+1}$ и $d_{t-1}$. Следовательно, $v$ должна лежать внутри полигона, состоящего из вершин лежащих в $D$. \n",
    "\n",
    "Если же мы не пропускаем очередную вершину, то для нее можно предположить, что верно  $turn(d_b,d_{b+1},v)=TURN\\_LEFT$ или $(d_{t-1},d_t,v)=TURN\\_LEFT$ (или оба), а значит для нее выполнятся <b>второй</b> или <b>третий шаги</b>(или оба). <br>\n",
    "Теперь представим, что у нас был дек $D=(d_b,...d_t)$, и после обработки очередной вершины $v$ полилинии $P$   получился новый дек $\\widetilde{D}=(d_k,\\dots,d_m)$, где $d_k=d_m=v$. Давайте докажем, что вышеописанные <b>условия 1, 2</b> и <b>3</b> выполняются для $\\widetilde{D}$, а значит, $\\widetilde{D}$ является корректной выпуклой оболочкой.\n",
    "\n",
    "Выполнение <b>условия 3</b> очевидно, поскольку мы строим $\\widetilde{D}$ из вершин $P$.<br>\n",
    "Легко понять, что уже рассмотренный кусок полилинии $P$ содержится в $\\widetilde{D}$, поскольку он содержался в $D$,а на втором и третьем шаге мы удаляли из дека только в том случае, если текущая вершина дека $d_k$ образует левый поворот с векторами $\\mathbf{d_{t-1} v}$ и $\\mathbf{v d_{b+1}}$ соответственно.<br>\n",
    "Чтобы доказать,  что $\\widetilde{D}$ выпуклый, покажем, что он образует замкнутую простую кривую, такую, что для нее верно $turn(d_i,d_{i+1},d_{i+2})\\neq TURN\\_LEFT$ для $i=k,\\dots,m-2$, и $turn(d_{m-1},d_{m},d_{k+1})\\neq TURN\\_LEFT$. Поскольку $D$ образовывал простую полилинию, то $\\widetilde{D}$ может иметь самопересечения только в случае, если  $\\mathbf{vd_{k+1}}$ и $\\mathbf{d_{m-1}v}$ пересекают ребра той части полилинии, по которой был постоен $D$, а такого не может быть, потому что сама $P$ изначально была простой. Тот же факт, что $turn(d_i,d_{i+1},d_{i+2})\\neq TURN\\_LEFT$ для $i=k,\\dots,m-2$, был уже изначально верен для $D$ и является результатом выполнения <b>шагов два</b> и <b>три</b>. <br>\n",
    "Докажем от противного, что  $turn(d_{m-1},d_{m},d_{k+1})\\neq TURN\\_LEFT$. Пусть $turn(d_{m-1},d_{m},d_{k+1})=TURN\\_LEFT$  тогда вершина $v=d_m$ должна находиться справа от ориентированного ребра $\\mathbf{d_{m-1}d_{k+1}}$, и в то же время должна находиться по правую сторону от полилинии $(d_{k+1},\\dots,d_{m-1})$. Значит, что $v$ находится внутри $D$, и должна была быть отброшена на <b>шаге один</b>. Таким образом, <b>условия 1 и 2</b> также выполнены.\n",
    "</div>\n",
    "$\\triangleleft$"
   ]
  }
 ],
 "metadata": {
  "kernelspec": {
   "display_name": "Python 3",
   "language": "python",
   "name": "python3"
  },
  "language_info": {
   "codemirror_mode": {
    "name": "ipython",
    "version": 3
   },
   "file_extension": ".py",
   "mimetype": "text/x-python",
   "name": "python",
   "nbconvert_exporter": "python",
   "pygments_lexer": "ipython3",
   "version": "3.5.2"
  }
 },
 "nbformat": 4,
 "nbformat_minor": 1
}
