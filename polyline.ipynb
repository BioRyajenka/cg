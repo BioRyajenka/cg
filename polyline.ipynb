{
 "cells": [
  {
   "cell_type": "markdown",
   "metadata": {},
   "source": [
    "# Оболочка полилинии\n",
    "Простой полилинией называется ломаная не имеющая самопересечений.\n",
    "Далее мы научимся строить выпуклую оболочку полилинии за $O(n)$\n",
    "![Пример](images/polyline.png)\n",
    "\n"
   ]
  },
  {
   "cell_type": "markdown",
   "metadata": {},
   "source": [
    "## Алгоритм Мелькмана\n",
    "\n",
    "Заведем дек, в котором будут поддерживаться 2 инварианта:\n",
    "1. Вершины в деке – это вершины корректной выпуклой оболочки для всех рассмотренных вершин.\n",
    "2. Последняя рассмотренная вершина лежит спереди и сзади дека (если она принадлежит текущей\n",
    "оболочке).\n",
    "Изначально дек инициализируется первыми тремя вершинами полилинии (очевидно, корректно).\n",
    "Далее идем по вершинам в том порядке, в котором они соединены полилинией и, в зависимости от положения очередной добавляемой точки, изменяем дек."
   ]
  },
  {
   "cell_type": "markdown",
   "metadata": {},
   "source": [
    "Пусть у нас была дана полилиния $P={p_1, p_2, \\dots, p_9, \\dots}$.\n",
    "Пускай мы уже построили оболочку для вершин $p_1, p_2,\\dots, p_8$. При добавлении очередной вершины $p_9$ возможны случаи:\n",
    "\n",
    "![Пример](images/polyline_var.png)\n",
    "\n",
    "Заметим, что добавляемая точка не может \"спряться\" от текущей головной вершины позади всей оболочки\n",
    "из-за несамопересекаемости полилинии.\n",
    "\n",
    "![Пример](images/polyline_no.png)"
   ]
  },
  {
   "cell_type": "markdown",
   "metadata": {},
   "source": [
    "Как изменяется дек?\n",
    "1. Если добавуляемая точка оказалась в позиции 4 (внутри текущей оболочки), то ничего делать ненадо. \n",
    "2. Если в позициях 1 или 3 – удаляем вершины с соответствующей стороны дека, пока не получится\n",
    "корректный поворот.\n",
    "3. В случае 2 удаляем по 1 вершине с обоих сторон дека.\n",
    "\n",
    "В любом из случаев, в конце очередного шага необходимо положить эту вершину с обоих концов дека."
   ]
  },
  {
   "cell_type": "markdown",
   "metadata": {},
   "source": [
    "## Реализация"
   ]
  },
  {
   "cell_type": "code",
   "execution_count": 108,
   "metadata": {
    "collapsed": false
   },
   "outputs": [],
   "source": [
    "from utils import *\n",
    "from examples import *\n",
    "from collections import deque\n",
    "\n",
    "def melkman(points):\n",
    "    d = deque()\n",
    "    if len(points) < 0:\n",
    "        return d\n",
    "    \n",
    "    t = turn( points[1], points[0], points[2])\n",
    "    if t == TURN_RIGHT:\n",
    "        d.append(points[0])\n",
    "        d.append(points[1])\n",
    "    else :\n",
    "        d.append(points[1])\n",
    "        d.append(points[0])\n",
    "    \n",
    "    d.append(points[2])\n",
    "    d.appendleft(points[2])\n",
    "    print(d)\n",
    "    for i in  range(3, len(points)):\n",
    "        l = len(d)\n",
    "        print(points[i])\n",
    "        if turn(d[0], points[i], d[1]) == TURN_RIGHT and turn(d[l - 1], d[l - 2], points[i]) == TURN_RIGHT:\n",
    "            continue\n",
    "        while turn(d[l - 1], d[l - 2], points[i]) != TURN_RIGHT:\n",
    "            d.pop()\n",
    "            l -= 1\n",
    "        d.append(points[i])\n",
    "        while turn(d[0], points[i], d[1]) != TURN_RIGHT:\n",
    "            d.popleft() \n",
    "        d.appendleft(points[i])\n",
    "        print(d)\n",
    "    return d\n"
   ]
  },
  {
   "cell_type": "code",
   "execution_count": 109,
   "metadata": {
    "collapsed": false
   },
   "outputs": [
    {
     "name": "stdout",
     "output_type": "stream",
     "text": [
      "deque([[7.0, 3.0], [5.0, 1.0], [5.0, 0.0], [7.0, 3.0]])\n",
      "[4.0, 4.0]\n",
      "deque([[4.0, 4.0], [5.0, 0.0], [7.0, 3.0], [4.0, 4.0]])\n",
      "[4.5, 3.0]\n",
      "[1.0, 7.0]\n",
      "deque([[1.0, 7.0], [5.0, 0.0], [7.0, 3.0], [1.0, 7.0]])\n",
      "[[1.0, 7.0], [5.0, 0.0], [7.0, 3.0], [1.0, 7.0]]\n"
     ]
    }
   ],
   "source": [
    "# N = 50\n",
    "# x = np.random.rand(N)\n",
    "# y = np.random.rand(N)\n",
    "\n",
    "points = example1\n",
    "ch = list(melkman(points))\n",
    "print(ch)"
   ]
  },
  {
   "cell_type": "code",
   "execution_count": 113,
   "metadata": {
    "collapsed": false
   },
   "outputs": [
    {
     "name": "stdout",
     "output_type": "stream",
     "text": [
      "[1.0, 5.0, 7.0, 1.0]\n",
      "[7.0, 0.0, 3.0, 7.0]\n"
     ]
    },
    {
     "data": {
      "image/png": "[encoded data removed]",
      "text/plain": [
       "<matplotlib.figure.Figure at 0x7f36048f67f0>"
      ]
     },
     "metadata": {},
     "output_type": "display_data"
    }
   ],
   "source": [
    "\n",
    "\n",
    "xs = [x[0] for x in points]\n",
    "ys = [y[1] for y in points]\n",
    "\n",
    "plt.plot(xs, ys, 'o-', color='black', linewidth=2)\n",
    "\n",
    "x = [x[0] for x in ch]\n",
    "y = [x[1] for x in ch]\n",
    "print(x)\n",
    "print(y)\n",
    "#plt.plot(x, y, 'k-', color='#00ff00', linewidth=3)\n",
    "#plt.plot(x, y, 'o', color='red', markersize=8)\n",
    "plt.axis([0, 10, -1, 10])\n",
    "plt.show()"
   ]
  },
  {
   "cell_type": "markdown",
   "metadata": {},
   "source": [
    "## Корректность и время работы\n",
    "Очевидно, что этот алгоритм работает за линейное время от количества точек в исходной полилинии, поскольку каждая вершина будет обработана (добавлена и удалена) один раз. \n",
    "\n",
    "Но почему алгоритм вообще работает? Для того, чтобы объяснить это, для начала вспомним свойства выпуклой оболочки $H$ для простой полигональной цепи $P$.\n",
    "1. $H$ выпуклая\n",
    "2. $P$ содержится в  $P$\n",
    "3. Множество вершин, из которых состоит $H$ является подмножеством вершин полигональной цепи $P$\n",
    "\n",
    "Доказательство корректности проводится по индукции, исходя из того, что следующая гипотеза верна каждый раз, когда мы рассматриваем очередную вершину.\n",
    "\n",
    "ГИПОТЕЗА \n",
    "\n",
    "\n"
   ]
  },
  {
   "cell_type": "markdown",
   "metadata": {},
   "source": []
  }
 ],
 "metadata": {
  "kernelspec": {
   "display_name": "Python 3",
   "language": "python",
   "name": "python3"
  },
  "language_info": {
   "codemirror_mode": {
    "name": "ipython",
    "version": 3
   },
   "file_extension": ".py",
   "mimetype": "text/x-python",
   "name": "python",
   "nbconvert_exporter": "python",
   "pygments_lexer": "ipython3",
   "version": "3.5.2"
  }
 },
 "nbformat": 4,
 "nbformat_minor": 1
}
