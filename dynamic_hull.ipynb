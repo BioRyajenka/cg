{
 "cells": [
  {
   "cell_type": "markdown",
   "metadata": {},
   "source": [
    "# Динамическая выпуклая оболочка"
   ]
  },
  {
   "cell_type": "markdown",
   "metadata": {},
   "source": [
    "Для начала, определим двумерные точки и операции их лексикографического сравнения.\n",
    "Считаем, что $p < q$, если $p_y < q_y \\vee p_y = q_y \\wedge p_x < q_x$"
   ]
  },
  {
   "cell_type": "code",
   "execution_count": 18,
   "metadata": {
    "collapsed": true
   },
   "outputs": [],
   "source": [
    "class Point:\n",
    "    def __init__(self, x, y):\n",
    "        self.x = x\n",
    "        self.y = y\n",
    "    \n",
    "    def __lt__(self, other):\n",
    "        return self.y < other.y or self.y == other.y and self.x <  other.x\n",
    "    def __eq__(self, other):\n",
    "        return self.x == other.x and self.y == other.y\n",
    "    def __le__(self, other):\n",
    "        return self < other or self == other\n",
    "    def __gt__(self, other):\n",
    "        return other < self\n",
    "    def __ge__(self, other):\n",
    "        return other < self or self == other\n",
    "    def __ne__(self, other):\n",
    "        return not self == other"
   ]
  },
  {
   "cell_type": "markdown",
   "metadata": {},
   "source": [
    "Мы хотим получить алгоритм, который мог бы поддерживать выпуклую оболочку в онлайне с возможностью добавления, удаления и локализации точки в выпуклой оболочке.\n",
    "Здесь приведен алгоритм делающий эти три операции за $O(log^2n)$."
   ]
  },
  {
   "cell_type": "markdown",
   "metadata": {},
   "source": [
    "Для начала, определим левую и правую выпуклую оболочку множества точек $P$.\n"
   ]
  },
  {
   "cell_type": "markdown",
   "metadata": {},
   "source": [
    "## Определение"
   ]
  },
  {
   "cell_type": "markdown",
   "metadata": {},
   "source": [
    "Левой (Правой) выпуклой оболочкой множества точек $P$ называется выпуклая оболочка множества точек $P\\cup \\left\\{(+\\infty, 0)\\right\\}$ ($P\\cup \\left\\{(-\\infty, 0)\\right\\}$)"
   ]
  },
  {
   "cell_type": "markdown",
   "metadata": {},
   "source": [
    "Здесь и далее Будем реализовывать левую выпуклую оболочку, в правой все так же с точностью до знака"
   ]
  },
  {
   "cell_type": "markdown",
   "metadata": {},
   "source": [
    "Для начала, определим структуры данных, в которых у нас все будет храниться (методы добавим в них позже).\n",
    "Мы будем хранить отсортированные лексикографически точки в листьях сбалансированного бинарного дерева поиска.\n",
    "Во внутренних вершинах будем хранить вспомогательную информацию: \n",
    "во-первых, наименьшую точку в поддереве с корнем в данной вершине; а во-вторых, \n",
    "мост между выпуклыми оболочками точек левого и правого поддеревьев данной вершины.\n",
    "\n",
    "<table style=\"border-style: hidden; border-collapse: collapse;\">\n",
    "<tr style=\"border-style: hidden; border-collapse: collapse;\">\n",
    "    <td style=\"border-style: hidden; border-collapse: collapse;\">\n",
    "        <div><img src=\"img/bridge.png\"><center>Рис 1. мост между выпуклыми оболочками</center></div>\n",
    "    </td>\n",
    "    <td style=\"border-style: hidden; border-collapse: collapse;\">\n",
    "        <div><img src=\"img/left-right.png\"><center>Рис 2. Левая и правая выпуклые оболочки</center></div>\n",
    "    </td>\n",
    "</tr>\n",
    "</table>"
   ]
  },
  {
   "cell_type": "markdown",
   "metadata": {},
   "source": [
    "Brdge - определяет мост между двумя выпуклыми оболочками:"
   ]
  },
  {
   "cell_type": "code",
   "execution_count": 12,
   "metadata": {
    "collapsed": true
   },
   "outputs": [],
   "source": [
    "class Bridge:\n",
    "    def __init__(self, p, q):\n",
    "        self.left = p\n",
    "        self.right = q"
   ]
  },
  {
   "cell_type": "markdown",
   "metadata": {},
   "source": [
    "Node - вершина нашего дерева:"
   ]
  },
  {
   "cell_type": "code",
   "execution_count": 17,
   "metadata": {
    "collapsed": false
   },
   "outputs": [],
   "source": [
    "class Node:\n",
    "    def __init__(self, point, parent=None, left=None, right=None, bridge=None):\n",
    "        self.point = point\n",
    "        self.parent = parent\n",
    "        self.left = left\n",
    "        self.right = right\n",
    "        self.bridge = bridge\n",
    "    \n",
    "    def leaf(self):\n",
    "        return self.left is not None or self.right is not None"
   ]
  },
  {
   "cell_type": "markdown",
   "metadata": {},
   "source": [
    "## Объединение выпуклых оболочек"
   ]
  },
  {
   "cell_type": "markdown",
   "metadata": {},
   "source": [
    "Пусть, мы хотим объединить оболочки $A$ и $C$, но, для начала наложим на них ограничение - должна существовать горизонтальная прямая, которая их разделяет (как на рисунке 1). Мы можем воспользоватся идеями бинарного поиска для нахождения моста. Для этого необходим критерий спуска, по которому мы будем определять подотрезок, до которого нужно сузить задачу, имея точки $p \\in A$ и  $q \\in C$, определяющие общую касательную к выпуклым оболочкам множеств $A$ и  $C$."
   ]
  },
  {
   "cell_type": "markdown",
   "metadata": {},
   "source": [
    "Обозначим $CH(Q)$ - выпуклая оболочка множества $Q$,\n",
    "\n",
    "$p^+ = \\min\\limits_{p' \\in \\left\\{CH(A) > p\\right\\}} p'$, $p^+$ - верхняя грань $p$ из множества $CH(A)$,<br>\n",
    "$p^- = \\max\\limits_{p' \\in \\left\\{CH(A) < p\\right\\}} p'$, $p^-$ - нижняя грань $p$ из множества $CH(A)$,<br>\n",
    "аналогично определяются $q^+$ и $q^-$.\n",
    "Так же, определим поворот вектора $\\overline{ab}$ с точкой $c$, как функцию $rot(\\overline{ab}, c)$.\n",
    "Теперь, определим отношение между вектором и точкой \"справа\" - $rot(\\overline{ab}, c) > 0$ (точка справа от вектора)."
   ]
  },
  {
   "cell_type": "markdown",
   "metadata": {},
   "source": [
    "Далее, рассмотрим все возможные случаи расположения этих точек."
   ]
  },
  {
   "cell_type": "markdown",
   "metadata": {},
   "source": [
    "1. Точки $p^+, p^-, q^+, q^-$ лежат справа от вектора $\\overline{qp}$ - следовательно, отрезок $qp$ - искомый мост.\n",
    "2. $p^+, p^-, q^+$ - справа, а $q^+$ - слева от $\\overline{qp}$. Тогда отбрасываем $CH(A) < p$ и $CH(C) > q$.\n",
    "3. $p^{+}$, $p^{-}$, $q^{-}$ — справа, $q^{+}$ — слева от $\\overline{qp}$. Отбрасываем $CH(A) < p$ и $CH(C) < q$.\n",
    "4. Как в случае 2, только слева от $\\overline{qp}$ находится точка $p^{+}$. Отбрасываем $CH(A) < p$ и $CH(C) > q$.\n",
    "5. Как в случае 3, только слева от $\\overline{qp}$ находится точка $p^{-}$. Отбрасываем $CH(A) > p$ и $CH(C) > q$.\n",
    "6. $p^{-}$, $q^{+}$ — справа, $p^{+}$, $q^{-}$ — слева от $\\overline{qp}$. Отбрасываем $CH(A) < p$ и $CH(C) > q$.\n",
    "7. $p^{+}$, $q^{+}$ — справа, $p^{-}$, $q^{-}$ — слева от $\\overline{qp}$. Отбрасываем $CH(C) > q$.\n",
    "8. $p^{-}$, $q^{-}$ — справа, $p^{+}$, $q^{+}$ — слева от $\\overline{qp}$. Отбрасываем $CH(A) < p$.\n",
    "9. $p^{+}$, $q^{-}$ — справа, $p^{-}$, $q^{+}$ — слева от $\\overline{qp}$. Этот случай дробится на два подслучая."
   ]
  },
  {
   "cell_type": "markdown",
   "metadata": {},
   "source": [
    "Вот как можно схематично показать все случаи:\n",
    "<div>\n",
    "<table>\n",
    "    <tr>\n",
    "        <td><div><img src=\"img/case1.png\" width=300 height=300><center>Рис 3. Случай 1</center></div></td>\n",
    "        <td><div><img src=\"img/case2.png\" width=300 height=300><center>Рис 4. Случай 2</center></div></td>\n",
    "        <td><div><img src=\"img/case3.png\" width=300 height=300><center>Рис 5. Случай 3</center></div></td>\n",
    "    </tr>\n",
    "    <tr>\n",
    "        <td><div><img src=\"img/case4.png\" width=300 height=300><center>Рис 6. Случай 4</center></div></td>\n",
    "        <td><div><img src=\"img/case5.png\" width=300 height=300><center>Рис 7. Случай 5</center></div></td>\n",
    "        <td><div><img src=\"img/case6.png\" width=300 height=300><center>Рис 8. Случай 6</center></div></td>\n",
    "    </tr>\n",
    "    <tr>\n",
    "        <td><div><img src=\"img/case7.png\" width=300 height=300><center>Рис 9. Случай 7</center></div></td>\n",
    "        <td><div><img src=\"img/case8.png\" width=300 height=300><center>Рис 10. Случай 8</center></div></td>\n",
    "        <td><div><img src=\"img/case9.png\" width=300 height=300><center>Рис 11. Случай 9</center></div></td>\n",
    "    </tr>\n",
    "</table>\n",
    "</div>"
   ]
  },
  {
   "cell_type": "markdown",
   "metadata": {},
   "source": [
    "Рассмотрим подслучаи случая 9. Пусть $m$ — прямая, разбивающая $P$ на $A$ и $C$. Пусть также $l_p$ и $l_q$ — касательные к выпуклым оболочкам в точках $p$ и $q$ соответственно. Если $s$ — точка пересечения $l_p$ и $l_q$ лежит ниже прямой $m$, то точка пересечения моста и выпуклой оболочки $A$ может лежать в треугольнике, образованном прямыми $l_p$, $l$ и $m$, или выше $p$. Тогда можем удалить часть $C$ ниже $q$ (см. рис. 12.1). Случай, когда $s$ лежит выше $m$, аналогичен (см. рис. 12.2)."
   ]
  },
  {
   "cell_type": "markdown",
   "metadata": {},
   "source": [
    "<table style=\"border-style: hidden; border-collapse: collapse;\">\n",
    "<tr style=\"border-style: hidden; border-collapse: collapse;\">\n",
    "    <td style=\"border-style: hidden; border-collapse: collapse;\">\n",
    "        <div><img src=\"img/case9.1.png\"><center>Рис 12.1. мост между выпуклыми оболочками</center></div>\n",
    "    </td>\n",
    "    <td style=\"border-style: hidden; border-collapse: collapse;\">\n",
    "        <div><img src=\"img/case9.2.png\"><center>Рис 12.2. Левая и правая выпуклые оболочки</center></div>\n",
    "    </td>\n",
    "</tr>\n",
    "</table>"
   ]
  },
  {
   "cell_type": "markdown",
   "metadata": {},
   "source": [
    "## Получение множества точек"
   ]
  },
  {
   "cell_type": "markdown",
   "metadata": {},
   "source": [
    "## Локализация"
   ]
  },
  {
   "cell_type": "markdown",
   "metadata": {},
   "source": [
    "## Вставка"
   ]
  },
  {
   "cell_type": "markdown",
   "metadata": {},
   "source": [
    "## Удаление"
   ]
  },
  {
   "cell_type": "code",
   "execution_count": 19,
   "metadata": {
    "collapsed": true
   },
   "outputs": [],
   "source": [
    "import numpy as np"
   ]
  },
  {
   "cell_type": "code",
   "execution_count": null,
   "metadata": {
    "collapsed": true
   },
   "outputs": [],
   "source": []
  }
 ],
 "metadata": {
  "kernelspec": {
   "display_name": "Python 3",
   "language": "python",
   "name": "python3"
  },
  "language_info": {
   "codemirror_mode": {
    "name": "ipython",
    "version": 3
   },
   "file_extension": ".py",
   "mimetype": "text/x-python",
   "name": "python",
   "nbconvert_exporter": "python",
   "pygments_lexer": "ipython3",
   "version": "3.5.2"
  }
 },
 "nbformat": 4,
 "nbformat_minor": 2
}
