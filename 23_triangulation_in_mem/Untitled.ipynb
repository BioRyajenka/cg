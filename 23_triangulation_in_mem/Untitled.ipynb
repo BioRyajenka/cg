{
 "cells": [
  {
   "cell_type": "markdown",
   "metadata": {},
   "source": [
    "## Представление триангуляции в памяти\n",
    "\n",
    "Для хранения триангуляции заведём структуры для хранения вершин и фейсов. Хранить рёбра мы не будем"
   ]
  },
  {
   "cell_type": "code",
   "execution_count": 1,
   "metadata": {
    "collapsed": false
   },
   "outputs": [],
   "source": [
    "class Vertex:\n",
    "    \"\"\"\n",
    "    Класс точки.\n",
    "    Хранит координаты, и один из фейсов, точкой которого она является\n",
    "    \"\"\"\n",
    "    def __init__(self, x, y, face):\n",
    "        self.x = x\n",
    "        self.y = y\n",
    "        self.face = face\n",
    "        \n",
    "class Face:\n",
    "    # todo: узнать по часовой или против\n",
    "    \"\"\"\n",
    "    Класс фейса.\n",
    "    Хранит список вершин, отсортированный в порядке обхода против часовой стрелки и список соседних фейсов\n",
    "    такой, что neighbours[i] — фейс, находящийся напротив вершины vertices[i]\n",
    "    \"\"\"\n",
    "    def __init__(self, vertices, neighbours):\n",
    "        self.vertices = vertices\n",
    "        self.neighbours = neighbours"
   ]
  },
  {
   "cell_type": "markdown",
   "metadata": {},
   "source": [
    "### Оценка эффективности по памяти нашей структуры по сравнению с обычным DCEL\n",
    "\n",
    "Определим обычный DCEL"
   ]
  },
  {
   "cell_type": "code",
   "execution_count": 2,
   "metadata": {
    "collapsed": false
   },
   "outputs": [],
   "source": [
    "class Vertex:\n",
    "    \"\"\"\n",
    "    Класс точки.\n",
    "    Хранит полярные координаты, и какое-нибудь полуребро, имеющее начало в этой точке (edge.start == this)\n",
    "    \"\"\"\n",
    "    def __init__(self, x, y, edge):\n",
    "        self.x = x\n",
    "        self.y = y\n",
    "        self.edge = edge\n",
    "        \n",
    "class Face:\n",
    "    \"\"\"\n",
    "    Класс фейса.\n",
    "    Хранит какое-нибудь ребро, находящееся на границе этого фейса (edge.incident_face == this)\n",
    "    \"\"\"\n",
    "    def __init__(self, edge):\n",
    "        self.edge = edge\n",
    "        \n",
    "class HalfEdge:\n",
    "    \"\"\"\n",
    "    Класс полуребра. Для каждого ребра (неориентированного) исходного графа из вершины U в V создаём\n",
    "    2 полуребра (ориентированных): U -> V и V -> U\n",
    "    Объект хранит:\n",
    "    - указатели на точку, откуда исходит ребро (start),\n",
    "    - указатель на ребро-близнец (twin) (направленное в другую сторону),\n",
    "    - инцидентную поверхность (incident_face),\n",
    "    - указатели на следующее и предыдущие ребра.\n",
    "    \"\"\"\n",
    "    def __init__(self, prev, next, twin, start, incident_face):\n",
    "        self.prev = prev # prev.next == this\n",
    "        self.next = next # next.prev == this\n",
    "        self.twin = twin # twin.twin == this\n",
    "        self.start = prev # twin.next.origin == origin and prev.twin.origin == origin\n",
    "        self.incident_face = incident_face # prev.incident_face == incident_face and next.incident_face == incident_face"
   ]
  },
  {
   "cell_type": "markdown",
   "metadata": {},
   "source": [
    "А дальше //todo)))0))00)0))0)\n",
    "\n",
    "### Обход фейсов вокруг точки\n",
    "\n",
    "//todo\n",
    "\n",
    "### Перебор фейсов в порядке обхода луча\n",
    "\n",
    "//todo\n",
    "[ответ в том, чтобы создать итератор\n",
    "который\n",
    "1) хранит в себе, что он последнее вернул - треугольник или точку (т.к. луч может пересечь точку)\n",
    "2) если точку, то перебирает все инцидентные треугольники по часовой [как перебирать ты тоже должен рассказать, отдельно]\n",
    "3) если треугольник, за единицу времени определяет отрезок треугольника, который этот луч пересекает, и по отрезку возвращает треугольник, инцидентный отрезку\n",
    "третий пункт сложно мб осознать, но на самом деле изи, порисуй]\n",
    "\n"
   ]
  }
 ],
 "metadata": {
  "kernelspec": {
   "display_name": "Python 3",
   "language": "python",
   "name": "python3"
  },
  "language_info": {
   "codemirror_mode": {
    "name": "ipython",
    "version": 3
   },
   "file_extension": ".py",
   "mimetype": "text/x-python",
   "name": "python",
   "nbconvert_exporter": "python",
   "pygments_lexer": "ipython3",
   "version": "3.4.2"
  }
 },
 "nbformat": 4,
 "nbformat_minor": 2
}
