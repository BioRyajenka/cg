{
 "cells": [
  {
   "cell_type": "code",
   "execution_count": 1,
   "metadata": {
    "collapsed": false
   },
   "outputs": [
    {
     "data": {
      "application/javascript": [
       "IPython.notebook.set_autosave_interval(300000)"
      ]
     },
     "metadata": {},
     "output_type": "display_data"
    },
    {
     "name": "stdout",
     "output_type": "stream",
     "text": [
      "Autosaving every 300 seconds\n"
     ]
    }
   ],
   "source": [
    "%autosave 300\n",
    "%matplotlib inline\n",
    "import matplotlib.pyplot as plt\n",
    "from hidden import *       # Функции, реалзация которых не особо интересна в свете этой темы\n",
    "from answers import *      # Ответы\n",
    "from visual_utils import * # Функции визуализации"
   ]
  },
  {
   "cell_type": "markdown",
   "metadata": {},
   "source": [
    "## Триангуляция $y$-монотонного многоугольника\n",
    "\n",
    "<img src=\"illust/funnel1.svg\" width=200 height=300 style=\"float: right;\" />\n",
    "Рассмотрим $P$ - $y$-монотонный многоугольник. Когда мы идём по левой или правой его границе, мы всегда спускаемся вниз (ещё мы можем двигаться горизонтально, но с заданным нами порядком на точках это неважно). Поэтому мы можем применить жадный алгоритм: будем проходить сверху вниз по вершинам многоугольника, добавляя диагонали где только возможно.\n",
    "\n",
    "\n",
    "Обрабатываем вершины, как и раньше, от меньшей к большей. Будем поддерживать стек $S$ - вершины $P$, которые мы уже прошли, но к которым по-прежнему можно добавить диагонали, т.е. они находятся в нетриангулированной части $P$. На вершине стека будет лежать точка, обработанная предыдущей, т.е. самая нижняя. Когда мы обрабатываем очередную вершину $v$ (красная на рис. 1), будем пытаться провести как можно больше диагоналей из неё в вершины на стеке (жёлтые на рис. 1).<br>\n",
    "Можно заметить, что та часть $P$, которая ещё не триангулирована и лежит выше текущей вершины, имеет форму перевёрнутой воронки. Одна сторона воронки состоит из одной из сторон $P$, а другая состоит из цепи вершин, которые лежат выше $v$, и внутренние углы которых не меньше чем $\\pi$. Единственная выпуклая вершина лежит на дне стека. Воронка образуется как раз из-за внутренних углов: если бы они были меньше $\\pi$, мы бы провели между вершинами стека диагонали на предыдущих шагах. Несложно догадаться, что это свойство сохраняется после обработки вершины и образует инвариант алгоритма."
   ]
  },
  {
   "cell_type": "markdown",
   "metadata": {},
   "source": [
    "*Какой-то монотонный многоугольник $P$*"
   ]
  },
  {
   "cell_type": "code",
   "execution_count": 2,
   "metadata": {
    "collapsed": false
   },
   "outputs": [
    {
     "data": {
      "image/png": "[encoded data removed]",
      "text/plain": [
       "<matplotlib.figure.Figure at 0x7f0636726e80>"
      ]
     },
     "metadata": {},
     "output_type": "display_data"
    }
   ],
   "source": [
    "#source = [(4,0),(5,2),(3,3),(0,7),(-3,5),(-4,3),(-6,2),(-3,-1)]\n",
    "source = [(4,1),(3,3),(2,4),(0,5),(-3,1),(-2,-4),(0,-3),(2,-2),(3,-1)]\n",
    "source = list(map(lambda i: Vertex(i[0],i[1]), source))\n",
    "draw_points(source)"
   ]
  },
  {
   "cell_type": "code",
   "execution_count": 3,
   "metadata": {
    "collapsed": true
   },
   "outputs": [],
   "source": [
    "Q = list(sorted(source)) # Очередь вершин\n",
    "D = build_dcel(source)   # Исходный многоугольник в формате DCEL\n",
    "D1 = []  # Добавленные диагонали будем хранить в отдельном списке для наглядной визуализации\n",
    "S = []   # Стек вершин\n",
    "\n",
    "# Визуализация\n",
    "c = 0 \n",
    "folder = 'triang' \n",
    "os.makedirs(folder, exist_ok=True)\n",
    "def dump(v):\n",
    "    global c\n",
    "    visual_dump_triang(v,D,D1,S,Q,os.path.join(folder,'{}.png'.format(c)))\n",
    "    c += 1"
   ]
  },
  {
   "cell_type": "markdown",
   "metadata": {},
   "source": [
    "Теперь рассмотрим более подробно процесс того, как мы будем проводить диагонали. Нам необходимо различать два случая: текущая вершина $v_j$ лежит на той же стороне многоугольника, что и вершины в стеке, или нет.\n",
    "\n",
    "#### Задание 2 - определение цепочек\n",
    "\n",
    "Дополните функцию:"
   ]
  },
  {
   "cell_type": "code",
   "execution_count": 4,
   "metadata": {
    "collapsed": true
   },
   "outputs": [],
   "source": [
    "def different_chains(v1, v2):\n",
    "    \"\"\"Определяет, находятся ли вершины v1 и v2 \n",
    "    на одной цепочке (стороне) многоугольника.\n",
    "    v1 и v2 имеют тип Vertex, из них можно извлечь h1 и h2 - \n",
    "    соответствующие half-edge.\n",
    "    Требуется вернуть True, если вершины находятся на разных сторонах \n",
    "    многоугольника, и False иначе.\n",
    "    \"\"\"\n",
    "    h1 = v1.hedgelist[1]\n",
    "    h2 = v2.hedgelist[1]\n",
    "    return different_chains_answer(h1, h2) # Заглушка с функцией-ответом на задачу"
   ]
  },
  {
   "cell_type": "markdown",
   "metadata": {},
   "source": [
    "#### $v_j$ и вершина стека лежат на разных сторонах.\n",
    "\n",
    "Тогда $v_j$ - это нижняя граница ребра $e$, которое в свою очередь является границей воронки. Мы можем добавить диагонали ко всем вершинам на стеке, кроме самой глубокой: она и так соединена с $v_j$ ребром $e$. Все они будут удалены из стека (рис. 2). Нетриангулированная часть $P$ теперь ограничена ребром, соединяющим $v_j$ и $v_s$ - бывшей вершиной стека. Ребро, выходящее из $v_j$, направлено вниз, и инвариант воронки сохраняется. Вершины $v_j$ и $v_s$ остаются видимыми из нетриангулированной части $P$, поэтому они кладутся на стек.\n",
    "\n"
   ]
  },
  {
   "cell_type": "code",
   "execution_count": 5,
   "metadata": {
    "collapsed": true
   },
   "outputs": [],
   "source": [
    "def handle_different(j):\n",
    "    while len(S) > 0:\n",
    "        if len(S) != 1:\n",
    "            top = S.pop()\n",
    "            D1.append(add_diagonal(Q[j].hedgelist[1],top.hedgelist[1]))\n",
    "            dump(Q[j])\n",
    "        else:\n",
    "            S.pop()\n",
    "    S.append(Q[j-1])\n",
    "    S.append(Q[j])\n",
    "    dump(Q[j])"
   ]
  },
  {
   "cell_type": "markdown",
   "metadata": {},
   "source": [
    "*На рисунке: красная вершина - текущая ($v_j$), $v_s$ - вершина стека, зелёные вершины - к которым мы можем и провели диагонали, жёлтая - к которой нельзя провести диагональ и на которой окончилось извлечение из стека.*\n",
    "<img src=\"illust/funnel2.svg?1\"/>"
   ]
  },
  {
   "cell_type": "markdown",
   "metadata": {},
   "source": [
    "#### $v_j$ и вершина стека лежат в одной цепочке.\n",
    "В этом случае нам может не удасться провести диагонали ко всем вершинам на стеке, но мы будем пытаться. Сначала снимем одну вершину со стека - они и так соединена с $v_j$ ребром. Затем будем проводить диагонали, пока можем. Проверять это мы будем с помощью предиката поворота от $v_j$, последней снятой со стека точке, и точке на вершине стека (к которой мы и пытаемся провести диагональ). Как только мы находим точку, с которой нельзя соединить нашу, мы кладём последнюю вынутую вершину обратно на стек. Она может оказаться либо последней вершиной, до которой удалось провести диагональ (рис. 3а), либо соседом $v_j$, если ни одну провести не удалось (рис. 3б). Затем кладём на стек $v_j$, восстанавливая инвариант."
   ]
  },
  {
   "cell_type": "code",
   "execution_count": 6,
   "metadata": {
    "collapsed": true
   },
   "outputs": [],
   "source": [
    "def handle_same(j):\n",
    "    last = S.pop()\n",
    "    while len(S) > 0 and turn(Q[j], last, S[-1]) > 0:\n",
    "        last = S.pop()\n",
    "        D1.append(add_diagonal(Q[j].hedgelist[1], last.hedgelist[1]))\n",
    "        dump(Q[j])\n",
    "    S.append(last)\n",
    "    S.append(Q[j])\n",
    "    dump(Q[j])"
   ]
  },
  {
   "cell_type": "markdown",
   "metadata": {},
   "source": [
    "Кладём первые две вершины на стек и обходим все оставшиеся, кроме последней:"
   ]
  },
  {
   "cell_type": "code",
   "execution_count": 7,
   "metadata": {
    "collapsed": true
   },
   "outputs": [],
   "source": [
    "S.append(Q[0])\n",
    "S.append(Q[1])\n",
    "\n",
    "for j in range(2, len(Q) - 1):\n",
    "    dump(Q[j])\n",
    "    if different_chains(Q[j],S[-1]):\n",
    "        handle_different(j)\n",
    "    else:\n",
    "        handle_same(j)"
   ]
  },
  {
   "cell_type": "markdown",
   "metadata": {},
   "source": [
    "Чтобы завершить алгоритм, нам надо соединить последнюю в очереди вершину, со всем вершинами, оставшимися на стеке, кроме первой и последней:"
   ]
  },
  {
   "cell_type": "code",
   "execution_count": 8,
   "metadata": {
    "collapsed": false
   },
   "outputs": [],
   "source": [
    "S.pop()\n",
    "while len(S) > 0:\n",
    "    if len(S) != 1:\n",
    "        top = S.pop()\n",
    "        D1.append(add_diagonal(Q[-1].hedgelist[1],top.hedgelist[1]))\n",
    "        dump(Q[-1])\n",
    "    else:\n",
    "        S.pop()\n",
    "\n",
    "dump(None)"
   ]
  },
  {
   "cell_type": "markdown",
   "metadata": {},
   "source": [
    "Виджет ниже позволяет посмотреть работу алгоритма по шагам. Красным обозначена текущая точка, чёрным - уже обработанные, жёлтым - точки в стеке. Диагонали проведены пунктирами.  "
   ]
  },
  {
   "cell_type": "code",
   "execution_count": 9,
   "metadata": {
    "collapsed": false
   },
   "outputs": [],
   "source": [
    "from IPython.display import display\n",
    "display(SlideShower(folder))"
   ]
  },
  {
   "cell_type": "markdown",
   "metadata": {
    "collapsed": true
   },
   "source": [
    "### Доказательство корректности и оценка асимптотики\n",
    "\n",
    "Доказательство корректности алгоритма достаточно легко вывести из его построения - построенные диагонали попарно не пересекаются, потому что мы на каждом шаге проводим их только в нетриангулированной части многоугольника, диагонали проводятся ко всем вершинам, кроме соседних.\n",
    "\n",
    "Главный цикл `for` выолняется $N - 3$ раза. Заметим, что на каждой его итерации в стек кладутся максимум две вершины, значит общее количество операций `push`, включая первые две, равно $2N - 4$. Операций `pop` не может быть больше, чем `push`, поэтому весь цикл и соединение последней вершины с оставшимися работают за $O(N)$."
   ]
  },
  {
   "cell_type": "markdown",
   "metadata": {},
   "source": [
    "### Общая оценка\n",
    "\n",
    "Разбиение многоугольника на части занимает $O(NlogN)$ времени и $O(N)$ памяти. Суммарное количество вершин во всех частях $O(N)$, триангуляция занимает линейное время и память, поэтому вторая часть алгоритма суммарно работает за $O(N)$. Получаем следующий результат:\n",
    "\n",
    "> Многоугольник c $N$ вершинами может быть триангулирован алгоритмом, использующим $O(NlogN)$ времени и $O(N)$ памяти."
   ]
  }
 ],
 "metadata": {
  "kernelspec": {
   "display_name": "Python 3",
   "language": "python",
   "name": "python3"
  },
  "language_info": {
   "codemirror_mode": {
    "name": "ipython",
    "version": 3
   },
   "file_extension": ".py",
   "mimetype": "text/x-python",
   "name": "python",
   "nbconvert_exporter": "python",
   "pygments_lexer": "ipython3",
   "version": "3.6.0"
  },
  "widgets": {
   "state": {
    "335c8f78f34f468c9cf29729826db941": {
     "views": [
      {
       "cell_index": 17
      }
     ]
    },
    "cb4f56e141204bb08291d915f7f6deae": {
     "views": [
      {
       "cell_index": 17
      }
     ]
    }
   },
   "version": "1.2.0"
  }
 },
 "nbformat": 4,
 "nbformat_minor": 2
}
