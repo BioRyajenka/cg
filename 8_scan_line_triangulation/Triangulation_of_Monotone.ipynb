{
 "cells": [
  {
   "cell_type": "code",
   "execution_count": 1,
   "metadata": {
    "collapsed": false
   },
   "outputs": [
    {
     "data": {
      "application/javascript": [
       "IPython.notebook.set_autosave_interval(300000)"
      ]
     },
     "metadata": {},
     "output_type": "display_data"
    },
    {
     "name": "stdout",
     "output_type": "stream",
     "text": [
      "Autosaving every 300 seconds\n"
     ]
    }
   ],
   "source": [
    "%autosave 300\n",
    "%matplotlib inline\n",
    "import matplotlib.pyplot as plt\n",
    "from hidden import *  # Функции, реалзация которых не особо интересна в свете этой темы\n",
    "from visual_utils import *"
   ]
  },
  {
   "cell_type": "code",
   "execution_count": 2,
   "metadata": {
    "collapsed": true
   },
   "outputs": [],
   "source": [
    "source = [(4,0),(5,2),(3,3),(0,7),(-3,5),(-4,3),(-6,2),(-3,-1)]\n",
    "source = list(map(lambda i: Vertex(i[0],i[1]), source))\n",
    "D = build_dcel(source)"
   ]
  },
  {
   "cell_type": "code",
   "execution_count": 3,
   "metadata": {
    "collapsed": false
   },
   "outputs": [
    {
     "data": {
      "image/png": "[encoded data removed]",
      "text/plain": [
       "<matplotlib.figure.Figure at 0x7ff9b46b4f60>"
      ]
     },
     "metadata": {},
     "output_type": "display_data"
    }
   ],
   "source": [
    "draw_points(source, types=False)"
   ]
  },
  {
   "cell_type": "code",
   "execution_count": 4,
   "metadata": {
    "collapsed": true
   },
   "outputs": [],
   "source": [
    "def different_chains(v1, v2):\n",
    "    h1 = v1.hedgelist[1]\n",
    "    h2 = v2.hedgelist[1]\n",
    "    down1 = h1.origin < h1.twin.origin\n",
    "    down2 = h2.origin < h2.twin.origin\n",
    "    return down1 != down2"
   ]
  },
  {
   "cell_type": "code",
   "execution_count": 5,
   "metadata": {
    "collapsed": false
   },
   "outputs": [
    {
     "name": "stdout",
     "output_type": "stream",
     "text": [
      "[ADD DIAGONAL] from: (3;3) to: (-4;3)\n",
      "[ADD DIAGONAL] from: (3;3) to: (-3;5)\n",
      "[ADD DIAGONAL] from: (-6;2) to: (3;3)\n",
      "[ADD DIAGONAL] from: (5;2) to: (-6;2)\n",
      "[ADD DIAGONAL] from: (4;0) to: (-6;2)\n",
      "[ADD DIAGONAL] from: (-3;-1) to: (-6;2)\n"
     ]
    }
   ],
   "source": [
    "Q = list(sorted(source))\n",
    "S = [] # Наш стек\n",
    "D1 = [] # Добавленные диагонали\n",
    "S.append(Q[0])\n",
    "S.append(Q[1])\n",
    "c = 0 # Просто счётчик порядка файлов визуализации\n",
    "folder = 'triang' # Folder for step images\n",
    "os.makedirs(folder, exist_ok=True)\n",
    "\n",
    "from IPython.core.debugger import Tracer\n",
    "for j in range(2, len(Q)):\n",
    "    visual_dump_triang(Q[j],D,D1,S,Q,os.path.join(folder,'{}.png'.format(c)))\n",
    "    c+=1\n",
    "    if different_chains(Q[j],S[-1]):\n",
    "        while len(S) > 0:\n",
    "            if len(S) != 1:\n",
    "                top = S.pop()\n",
    "                D1.append(add_diagonal(Q[j].hedgelist[1],top.hedgelist[1]))\n",
    "                visual_dump_triang(Q[j],D,D1,S,Q,os.path.join(folder,'{}.png'.format(c)))\n",
    "                c+=1\n",
    "            else:\n",
    "                S.pop()\n",
    "        S.append(Q[j-1])\n",
    "        S.append(Q[j])\n",
    "        visual_dump_triang(Q[j],D,D1,S,Q,os.path.join(folder,'{}.png'.format(c)))\n",
    "        c+=1\n",
    "    else:\n",
    "        last = S.pop()\n",
    "        while len(S) > 0 and turn(Q[j], last, S[-1]) > 0:\n",
    "            last = S.pop()\n",
    "            D1.append(add_diagonal(Q[j].hedgelist[1], last.hedgelist[1]))\n",
    "            visual_dump_triang(Q[j],D,D1,S,Q,os.path.join(folder,'{}.png'.format(c)))\n",
    "            c+=1\n",
    "        S.append(last)\n",
    "        S.append(Q[j])\n",
    "S.pop()\n",
    "while len(S) > 0:\n",
    "    if len(S) != 1:\n",
    "        top = S.pop()\n",
    "        D1.append(add_diagonal(Q[j].hedgelist[1],top.hedgelist[1]))\n",
    "        visual_dump_triang(Q[j],D,D1,S,Q,os.path.join(folder,'{}.png'.format(c)))\n",
    "        c+=1\n",
    "    else:\n",
    "        S.pop()\n",
    "\n",
    "visual_dump_triang(None, D,D1,S,Q,os.path.join(folder,'{}.png'.format(c)))"
   ]
  },
  {
   "cell_type": "code",
   "execution_count": 6,
   "metadata": {
    "collapsed": false
   },
   "outputs": [],
   "source": [
    "from IPython.display import display\n",
    "\n",
    "display(SlideShower(folder))"
   ]
  },
  {
   "cell_type": "code",
   "execution_count": null,
   "metadata": {
    "collapsed": true
   },
   "outputs": [],
   "source": []
  }
 ],
 "metadata": {
  "kernelspec": {
   "display_name": "Python 3",
   "language": "python",
   "name": "python3"
  },
  "language_info": {
   "codemirror_mode": {
    "name": "ipython",
    "version": 3
   },
   "file_extension": ".py",
   "mimetype": "text/x-python",
   "name": "python",
   "nbconvert_exporter": "python",
   "pygments_lexer": "ipython3",
   "version": "3.6.0"
  },
  "widgets": {
   "state": {
    "2a7639283bbd46f9ae6ee60dc9b2048f": {
     "views": [
      {
       "cell_index": 5
      }
     ]
    }
   },
   "version": "1.2.0"
  }
 },
 "nbformat": 4,
 "nbformat_minor": 2
}
