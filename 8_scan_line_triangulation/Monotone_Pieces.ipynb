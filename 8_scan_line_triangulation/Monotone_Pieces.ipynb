{
 "cells": [
  {
   "cell_type": "code",
   "execution_count": 1,
   "metadata": {
    "collapsed": false
   },
   "outputs": [
    {
     "data": {
      "application/javascript": [
       "IPython.notebook.set_autosave_interval(300000)"
      ]
     },
     "metadata": {},
     "output_type": "display_data"
    },
    {
     "name": "stdout",
     "output_type": "stream",
     "text": [
      "Autosaving every 300 seconds\n"
     ]
    }
   ],
   "source": [
    "%autosave 300\n",
    "%matplotlib inline\n",
    "import matplotlib.pyplot as plt\n",
    "from sortedcollections import SortedDict # Вам нужно будет установить эту библиотеку\n",
    "from hidden import *       # Функции, реалзация которых не особо интересна в свете этой темы\n",
    "from answers import *      # Ответы\n",
    "from visual_utils import * # Функции визуализации"
   ]
  },
  {
   "cell_type": "markdown",
   "metadata": {},
   "source": [
    "# Триангуляция многоугольника заметающей прямой\n",
    "\n",
    "На плоскости задан произвольный многоугольник. Стороны многоугольника не пересекаются. Требуется найти его триангуляцию.\n",
    "\n",
    "> **Простым** многоугольником называется фигура, ограниченная одной замкнутой ломаной, стороны которой не пересекаются. Т.е. это многоугольник без \"дырок\".\n",
    "\n",
    "\n",
    "### Теорема 1 (о существовании триангуляции многоугольника)\n",
    "\n",
    ">У любого простого многоугольника существует триангуляция, и любая триангуляция простого многоугольника с `N` вершинами содержит ровно `N-2` треугольника.\n",
    "\n",
    "$\\triangleright$\n",
    "<img src=\"illust/theorem1.svg\" width=300 height=600 style=\"float: right;\" />\n",
    "\n",
    "В доказательстве будем использовать индукцию по $n$ - количеству вершин многоугольника.\n",
    "База индукции: $n = 3$ - многоугольник является треугольником, теорема, очевидно, верна.\n",
    "\n",
    "Пусть $n > 3$ и для всех $m < n$ теорема верна. Рассмотрим многоугольник $P$ с $n$ вершинами и докажем, что в нём есть диагональ. Возьмём $v$ - самую левую по оси $x$ вершину $P$ (и самую нижнюю по $y$, если таких несколько). Пусть $u$ и $w$ - соседи $v$. Если отрезок $uw$ лежит внутри $P$ - мы нашли диагональ (см. рис. 1а). Иначе (рис. 1б), в треугольнике $\\Delta vuw$ или на отрезке $uw$ лежит одна или несколько вершин $P$. Пусть $v'$ - самая дальняя от $uw$ из них. Отрезок $vv'$ не может пересекать ребро $P$, поскольку в противном случае одна из вершин этого ребра будет располагаться дальше от $uw$, чем $v'$, чего не может быть, исходя из определения $v'$. Значит, $vv'$ - диагональ.\n",
    "\n",
    "Любая диагональ $P$ делит его на $P_1$ и на $P_2$. Пусть $m_1$ - количество вершин в $P_1$ и $m_2$ - в $P_2$. Заметим, что $m_1 < n$ и $m_2 < n$, поэтому по предположению индукции, триангуляции для $P_1$ и $P_2$ существуют, а значит, и существует триангуляция для $P$.\n",
    "\n",
    "Осталось доказать, что любая триангуляция $P$ состоит из $n-2$ треугольников. Рассмотрим произвольную диагональ $d$ в какой-нибудь триангуляции $T_P$. $d$ делит $P$ на $P_1$ с $m_1$ вершин и $P_2$ с $m_2$ вершин. При этом, каждая вершина $P$ встречается в обоих частях только по одному разу, за исключением концов $d$. Отсюда, $m_1 + m_2 = n + 2$. По предположению индукции, любая триангуляция $P_i$ содержит $m_i - 2$ треугольников, поэтому $T_P$ содержит $(m_1 - 2) + (m_2 - 2) = n - 2$ треугольников, что и требовалось доказать.\n",
    "\n",
    "$\\triangleleft$"
   ]
  },
  {
   "cell_type": "markdown",
   "metadata": {},
   "source": [
    "### Монотонные прямоугольники\n",
    "\n",
    "> Простой многоугольник $P$ называется **монотонным относительно прямой $l$**, если для любой $l'\\perp l$ пересечение $P$ с $l'$ связно - т.е. является пустым, точкой или отрезком.\n",
    "Многоульник, монотонный относительно оси $y$ называется *$y$-монотонным*.\n",
    "\n",
    "<img src=\"illust/monotone.svg\" />"
   ]
  },
  {
   "cell_type": "markdown",
   "metadata": {},
   "source": [
    "Идея данного метода заключается в том, чтобы разбить произвольный многоугольник на $y$-монотонные куски, а затем триангулировать их.\n",
    "\n",
    "## Разбиение многоугольника на монотонные части\n",
    "\n",
    "Заметим, что если мы будем идти в $y$-монотонном прямоугольнике от самой верхней к самой нижней вершине по левой или правой границе, мы всегда будем опускаться (или двигаться горизонтально), но не подниматься. \n",
    "\n",
    "Рассмотрим произвольный многоугольник. Представим, что мы спускаемся от его верхней вершины к нижней по левой или правой границе. Те вершины, в которых мы меняем направление движения (шли вниз, теперь идём вверх, и наоборот), назовём *поворотными*. Чтобы разбить многоугольник на $y$-монотонные куски, мы должны избавиться от таких вершин. Будем проводить из них диагонали.\n",
    "\n",
    "Для начала чётко зададим порядок на точках:<br>Будем говорить, что точка $p$ *выше (меньше)* точки $q$, если $p_y > q_y$ или $p_y = q_y$ и $p_x < q_x$. Т.е. мы обрабатываем точки сверху вниз, слева направо.\n",
    "\n",
    "Обозначим за $\\phi$ внутренний угол при вершине и введём пять типов вершин, из которых четыре являются поворотными:\n",
    "\n",
    "* `start` вершина - два её соседа лежат ниже неё и $\\phi<\\pi$\n",
    "* `split` вершина - два её соседа лежат ниже неё и $\\phi>\\pi$\n",
    "* `end` вершина - два её соседа лежат выше неё и $\\phi<\\pi$\n",
    "* `merge` вершина - два её соседа лежат выше неё и $\\phi>\\pi$\n",
    "* `regular` вершина - не является поворотной, т.е. один её сосед выше неё, а другой ниже"
   ]
  },
  {
   "cell_type": "markdown",
   "metadata": {},
   "source": [
    "#### Задание 1 - определение типа вершины\n",
    "\n",
    "Читателю предлагается дополнить следующую функцию:"
   ]
  },
  {
   "cell_type": "code",
   "execution_count": 2,
   "metadata": {
    "collapsed": false
   },
   "outputs": [],
   "source": [
    "def compute_vtype(cur_hedge):\n",
    "    \"\"\"Определяет тип вершины\n",
    "    На вход подаётся экземпляр класса Hedge, из которого достаются три вершины v1, v2 и v3 - \n",
    "    предыдущая, текущая и следующая. Вершины имеют тип Vertex (эти классы определены в hidden.py). \n",
    "    У них есть поля x, y, поддержка оператора \"меньше\" согласно порядку, описанному выше. \n",
    "    Вам также доступна функция turn - предикат левого поворота, которая принимает три Vertex.\n",
    "    Требуется вернуть одну из пяти строк: 'start', 'split', 'merge', 'end', 'regular'.\n",
    "    \"\"\"\n",
    "    v1 = cur_hedge.prev.origin\n",
    "    v2 = cur_hedge.origin\n",
    "    v3 = cur_hedge.twin.origin\n",
    "    return compute_vtype_answer(v1, v2, v3) # Заглушка с функцией-ответом на задачу"
   ]
  },
  {
   "cell_type": "markdown",
   "metadata": {},
   "source": [
    "Для наглядности посмотрим на изображение какого-то многоугольника (можете ввести свой, если хотите). Обозначения:\n",
    "\n",
    "* `start` вершина - жёлтый квадрат\n",
    "* `end` вершина - зелёный квадрат\n",
    "* `split` вершина - красный треугольник\n",
    "* `merge` вершина - синий треугольник\n",
    "* `regular` вершина - чёрная точка"
   ]
  },
  {
   "cell_type": "code",
   "execution_count": 3,
   "metadata": {
    "collapsed": false
   },
   "outputs": [
    {
     "data": {
      "image/png": "[encoded data removed]",
      "text/plain": [
       "<matplotlib.figure.Figure at 0x7ffb3f994e48>"
      ]
     },
     "metadata": {},
     "output_type": "display_data"
    }
   ],
   "source": [
    "# Точки многоугольника в порядке обхода против часовой стрелки\n",
    "source = [(4,0),(2,1),(3,6),(0,5),(-1,6),(-3,4),(-1,2),(-2,0),(-4,1),(-5,-2),(-2,-4),(0,-3),(2,-4),(1,-1),(3,-2)]\n",
    "# Преобразовываем пары в наш класс\n",
    "source = list(map(lambda i: Vertex(i[0],i[1]), source))\n",
    "# Многоугольник хранится в DCEL\n",
    "D = build_dcel(source)\n",
    "for d in D:\n",
    "    d.origin.vtype = compute_vtype(d)\n",
    "draw_points(source, types=True)"
   ]
  },
  {
   "cell_type": "markdown",
   "metadata": {},
   "source": [
    "### Лемма 1\n",
    "> Многоугольник $y$-монотонный, если в нём нет `split` и `merge` вершин.\n",
    "\n",
    "$\\triangleright$\n",
    "\n",
    "\n",
    "Предположим, что $P$ не $y$-монотонный и покажем, что в нём есть такие вершины. Поскольку $P$ не $y$-монотонный, то мы можем найти такую прямую $l$, что она пересекает $P$ больше чем в одной компоненте связности. Не теряя общности, возьмём $l$ такую, что самый левый компонент пересечения - отрезок (а не точка). Пусть $p$ - левый конец этого отрезка, а $q$ - правый. Будем двигаться вверх от $q$ так, чтобы внутренность $P$ была слева от нас. В какой-то точке $r$ мы снова пересечём $l$. Если $r\\ne p$ (см. рис. 2(а)), тогда самая высокая вершина, встреченная нами по пути, обязана быть `split`.<br>\n",
    "<img src=\"illust/lemma1.svg\"  style=\"padding-top: 20px;\"/>\n",
    "Иначе (рис. 2(b)), пойдём снова от $q$ в другую сторону. Мы пересечём $l$ в точке $r'\\ne r$, так как $l$ имеет минимум 3 точки пересечения с $P$. Аналогично предыдущему случаю, самая низкая вершина, встреченная нами на пути, обязана быть `merge`.\n",
    "\n",
    "$\\triangleleft$"
   ]
  },
  {
   "cell_type": "markdown",
   "metadata": {},
   "source": [
    "### Заметающая прямая\n",
    "\n",
    "Из леммы следует, что чтобы прямоугольник стал монотонным, нужно избавиться от `split` и `merge` вершин. Чтобы сделать это, мы будем проводить из них диагонали с помощью заметающей прямой.<br>\n",
    "Прямая будет двигаться по плоскости сверху вниз; событиями для неё будут служить вершины многоугольника с уже определённым нами порядком.\n",
    "Чем меньше вершина, тем выше у неё приоритет в очереди. Посколько в процессе обработки новые события не создаются, мы можем вместо приоритетной очереди использовать отсортированный список точек.\n",
    "\n",
    "Разберёмся, куда нам проводить диагонали, когда мы стоит в вершине $v_i$:\n",
    "\n",
    "* `split` вершина.<br>Чтобы от ней избавиться, нужно провести диагональ вверх. Пусть $e_j$ - ребро непосредственно слева от нас, которое пересекла прямая, а $e_k$ - справа. Тогда мы всегда можем соединить $v_i$ с самой низкой вершиной между $e_j$ и $e_k$, которая выше $v_i$. Если такой нет, то мы можем соединить $v_i$ с верхним концом $e_j$ или $e_k$. Назовём эту вершину $helper(e_j)$.\n",
    "\n",
    "<img src=\"illust/helpers.svg\"/>\n",
    "\n",
    "* `merge` вершина.<br>Тут будет немного сложнее, поскольку диагональ нужно проводить вниз - туда, где ещё не была заметающая прямая. Мы хотим соединить $v_i$ с самой высокой вершиной между $e_j$ и $e_k$, лежащей ниже $v_i$. Заметим, что это точная противоположность того, что мы делаем с `split` вершинами. Поэтому давайте запишем в $helper(e_j)$ текущую вершину $v_i$. Когда мы достигнем вершины $v_m$, она должна стать новым $helper(e_j)$, т.к. теперь она самая низкая слева от $e_j$. Поэтому каждый раз, когда мы обновляем $helper$, мы должны проверить, является ли старый $helper$ `merge` вершиной и если да, провести к нему диагональ."
   ]
  },
  {
   "cell_type": "markdown",
   "metadata": {},
   "source": [
    "Нам нужна какая-то структура, чтобы эффективно искать рёбра, лежащие слева от заметающей прямой в каждый конкретный момент. Заметим, что эти рёбра будут все одной ориентации (направлены вниз). Мы можем сложить их в бинарное дерево поиска, сравнивая по предикату поворота (см. класс `Hedge`). Тогда в дереве они будут идти, как в прямоугольнике: слева направо, т.е. в порядке пересечения заметающей прямой. Более того, вместе с каждым ребром в дереве мы можем хранить его $helper$."
   ]
  },
  {
   "cell_type": "code",
   "execution_count": 4,
   "metadata": {
    "collapsed": true
   },
   "outputs": [],
   "source": [
    "T = SortedDict() # Дерево, в котром ключи - рёбра, а значения - вершины-хелперы\n",
    "\n",
    "def search_tree(hupper):\n",
    "    \"\"\"\n",
    "    Возвращает наибольшее ребро слева от заданного\n",
    "    \"\"\"\n",
    "    if hupper.origin < hupper.twin.origin: # Сохраняем инвариант, что рёбра направлены вниз\n",
    "        key = hupper\n",
    "    else:\n",
    "        key = hupper.twin\n",
    "    i = T.bisect_left(key)\n",
    "    if i == len(T):\n",
    "        i -= 1\n",
    "    res = T.iloc[i]\n",
    "    #print('[SEARCH_TREE] found left edge {}'.format(res))\n",
    "    return res"
   ]
  },
  {
   "cell_type": "markdown",
   "metadata": {},
   "source": [
    "### Алгоритм\n",
    "\n",
    "Будем извлекать вершины из очереди по порядку, для каждой вершины возьмём её `half-edge` и вызовем функцию-обработчик, соответствующую типу вершины.\n",
    "Обрабатывая вершину, мы должны сначала проверить, должны мы добавлять диагональ (это происходит, если текущая вершина `split` или если мы заменяем $helper$ и предыдущим был `merge`). Затим мы должны обновить соответствующим образом дерево, которое отражает состояние нашего алгоритма."
   ]
  },
  {
   "cell_type": "code",
   "execution_count": 5,
   "metadata": {
    "collapsed": true
   },
   "outputs": [],
   "source": [
    "Q = list(sorted(source)) # Очередь вершин\n",
    "D = build_dcel(source)   # Исходный многоугольник в формате DCEL\n",
    "D1 = []                  # Добавленные диагонали будем хранить в отдельном списке для наглядной визуализации"
   ]
  },
  {
   "cell_type": "markdown",
   "metadata": {},
   "source": [
    "#### `start` вершина\n",
    "Заметающая прямая начала \"видеть\" ребро из этой вершины, поэтому вставляем его в дерево"
   ]
  },
  {
   "cell_type": "code",
   "execution_count": 6,
   "metadata": {
    "collapsed": true
   },
   "outputs": [],
   "source": [
    "def handle_start(H):\n",
    "    T[H] = H.origin\n",
    "    #print('[START] Add {} with helper {}'.format(H, H.origin))"
   ]
  },
  {
   "cell_type": "markdown",
   "metadata": {},
   "source": [
    "#### `end` вершина\n",
    "Ребро, концом которого мы являемся, уходит из области видимости, поэтому его надо удалить из дерева. При этом проверяем, можем ли мы соединиться с его $helper$'ом."
   ]
  },
  {
   "cell_type": "code",
   "execution_count": 7,
   "metadata": {
    "collapsed": true
   },
   "outputs": [],
   "source": [
    "def handle_end(H):\n",
    "    prev = H.prev\n",
    "    helper = T[prev]\n",
    "    #print('[END] Helper {} type {}'.format(helper, helper.vtype))\n",
    "    if helper.vtype == 'merge':\n",
    "        D1.append(add_diagonal(H, helper.hedgelist[1]))\n",
    "    del T[prev]"
   ]
  },
  {
   "cell_type": "markdown",
   "metadata": {},
   "source": [
    "#### `split` вершина\n",
    "Находим в дереве поиска ребро, лежащее слева от заметающей прямой, и проводим к его $helper$'у диагональ.\n",
    "Теперь мы - $helper$ для этого ребра, т.к. предыдущий был выше. Кроме того, наше собственное ребро тоже нужно добавить в дерево."
   ]
  },
  {
   "cell_type": "code",
   "execution_count": 8,
   "metadata": {
    "collapsed": true
   },
   "outputs": [],
   "source": [
    "def handle_split(H):\n",
    "    lefte = search_tree(H)\n",
    "    helper = T[lefte]\n",
    "    #print('[SPLIT] left edge ({}) with helper {}'.format(lefte, helper))\n",
    "    D1.append(add_diagonal(H, helper.hedgelist[1]))\n",
    "    T[lefte] = H.origin\n",
    "    T[H] = H.origin"
   ]
  },
  {
   "cell_type": "markdown",
   "metadata": {},
   "source": [
    "#### `merge` вершина\n",
    "Сначала нужно произвести действия, аналогичные `end`-у, т.к. предыдущее ребро кончилось.\n",
    "После этого, мы должны найти ребро слева от нас и обновить его $helper$ на себя. (Соединившись с предыдущим, если он был `merge`)."
   ]
  },
  {
   "cell_type": "code",
   "execution_count": 9,
   "metadata": {
    "collapsed": true
   },
   "outputs": [],
   "source": [
    "def handle_merge(H):\n",
    "    prev = H.prev\n",
    "    helper = T[prev]\n",
    "    #print('[MERGE] Helper {} type {}'.format(helper, helper.vtype))\n",
    "    if helper.vtype == 'merge':\n",
    "        D1.append(add_diagonal(H, helper.hedgelist[1]))\n",
    "    del T[prev]\n",
    "    lefte = search_tree(H)\n",
    "    helper = T[lefte]\n",
    "    #print('[MERGE-2] Helper {} type {}'.format(helper, helper.vtype))\n",
    "    if helper.vtype == 'merge':\n",
    "        D1.append(add_diagonal(H, helper.hedgelist[1]))\n",
    "    T[lefte] = H.origin"
   ]
  },
  {
   "cell_type": "markdown",
   "metadata": {},
   "source": [
    "#### `regular` вершина\n",
    "Тут нужно рассмотреть два случая:\n",
    "\n",
    "1. Многоугольник $P$ лежит справа от $v_i$.<br>\n",
    "Тогда нужно провести действия аналогично `end` для предыдущего ребра, и `start` для текущего.\n",
    "\n",
    "2. $P$ лежит слева.<br>\n",
    "Нужно найти в дереве ребро слева и обновить его $helper$, возможно проведя диагональ."
   ]
  },
  {
   "cell_type": "code",
   "execution_count": 10,
   "metadata": {
    "collapsed": true
   },
   "outputs": [],
   "source": [
    "def handle_regular(H):\n",
    "    if H.origin < H.twin.origin: # Ребро направлено вниз, значит вершина в левой цепочке\n",
    "        prev = H.prev\n",
    "        helper = T[prev]\n",
    "        #print('[REGULAR-toRight] Helper {} type {}'.format(helper, helper.vtype))\n",
    "        if helper.vtype == 'merge':\n",
    "            D1.append(add_diagonal(H, helper.hedgelist[1]))\n",
    "        del T[prev]\n",
    "        T[H] = H.origin\n",
    "    else:\n",
    "        lefte = search_tree(H)\n",
    "        helper = T[lefte]\n",
    "        #print('[REGULAR-toLeft] Helper {} type {}'.format(helper, helper.vtype))\n",
    "        if helper.vtype == 'merge':\n",
    "            D1.append(add_diagonal(H, helper.hedgelist[1]))\n",
    "        T[lefte] = H.origin"
   ]
  },
  {
   "cell_type": "markdown",
   "metadata": {},
   "source": [
    "Ну и осталось собрать всё целиком:"
   ]
  },
  {
   "cell_type": "code",
   "execution_count": 11,
   "metadata": {
    "collapsed": false
   },
   "outputs": [],
   "source": [
    "# Магия для визуализации\n",
    "import os, shutil\n",
    "\n",
    "c = 0 \n",
    "folder = '.pieces'\n",
    "shutil.rmtree(folder, ignore_errors=True)\n",
    "os.makedirs(folder, exist_ok=True)\n",
    "def dump(v):\n",
    "    global c\n",
    "    visual_dump_state(v,D,D1,T,Q,os.path.join(folder,'{}.png'.format(c)))\n",
    "    c += 1\n",
    "    \n",
    "for i,V in enumerate(Q):\n",
    "    #print('Handling', V)\n",
    "    dump(V)\n",
    "    h = V.hedgelist[1]\n",
    "    if V.vtype == 'start':\n",
    "        handle_start(h)\n",
    "    elif V.vtype == 'end':\n",
    "        handle_end(h)\n",
    "    elif V.vtype == 'split':\n",
    "        handle_split(h)\n",
    "    elif V.vtype == 'merge':\n",
    "        handle_merge(h)\n",
    "    elif V.vtype == 'regular':\n",
    "        handle_regular(h)\n",
    "    else:\n",
    "        raise Exception('Type is unknown or not set')   \n",
    "dump(None)"
   ]
  },
  {
   "cell_type": "markdown",
   "metadata": {},
   "source": [
    "Можно проследить за алгоритмом по шагам, исползуя виджет ниже.\n",
    "Красным помечена точка, в которой сейчас остановилась заметающая прямая, чёрным - уже обработанные.\n",
    "Обычные рёбра чёрные, рёбра, которые лежат сейчас в дереве поиска - синие, а диагонали разбиения проведены пунктиром.\n",
    "~~*Если очень хочется, можно раскомментить принты и посмотреть какая точка чьим хелпером была*~~"
   ]
  },
  {
   "cell_type": "code",
   "execution_count": 12,
   "metadata": {
    "collapsed": true
   },
   "outputs": [],
   "source": [
    "from IPython.display import display\n",
    "display(SlideShower(folder, frame_duration=800))"
   ]
  },
  {
   "cell_type": "markdown",
   "metadata": {
    "collapsed": true
   },
   "source": [
    "### Теорема 2 (коррекность):\n",
    "\n",
    "> Приведённый выше алгоритм добавляет в многоугольник $P$ множество непересекающихся диагоналей, которые разбивают $P$ на $y$-монотонные части.\n",
    "\n",
    "$\\triangleright$\n",
    "\n",
    "Части $P$, на которые он был разбит, по построению не содержат `split` и `merge` вершин. Поэтому, по [Лемме 1](#Лемма-1) они $y$-монотонны. Теперь нам требуется доказать, что построенные диагонали не могут пересекать рёбер $P$ и пересекаться попарно. Покажем, что когда мы добавляем диагональ, она строится таким образом, что не может пересекать ни рёбер $P$, ни построенных на предыдущих шагах диагоналей.\n",
    "\n",
    "Будем рассматривать случай выполнения `handle_split` - `split` вершины могут быть соединены не только с `merge` вершинами, в отличие от остальных. Случаи выполнения других функций рассматриваются аналогично.\n",
    "\n",
    "<img src=\"illust/theorem2.svg\" width=200 height=600 style=\"float: right; margin: 10px;\" />\n",
    "\n",
    "Рассмотрим диагональ $\\overline{v_m v_i}$, которая была добавлена при вызове $handle\\_ split(v_i)$ (см. рис.). Пусть $e_j$ - ребро слева от $v_i$ и $e_k$ - ребро справа от $v_i$. Из этого следует, что при вызове функции $helper(e_j)$ был равен $v_m$.<br>\n",
    "Покажем,что $\\overline{v_m v_i}$ не пересекается с рёбрами $P$. Рассмотрим четырёхугольник $Q$, образованный $e_j$, $e_k$ и горизонтальными прямыми, проходящими через $v_m$ и $v_i$. Внутри $Q$ нет вершин $P$, иначе $v_m$ не была бы $helper$'ом. Предположим, что там есть $e_s$ - ребро $P$, пересекающее $\\overline{v_m v_i}$. Так как в $Q$ не может быть его концов и рёбра $P$ не пересекают сами себя, то $e_s$ пройдёт либо через горизонтальный отрезок, соединяющий $v_i$ и $e_j$, либо через горизонтальный отрезок, соединяющий $v_m$ и $e_j$. И то, и другое невозможно, т.к. и для $v_i$, и для $v_m$, ближайшим ребром слева является $e_j$.<br>\n",
    "Теперь рассмотрим добавленную предыдущей диагональ. Так как в $Q$ нет вершин $P$, а концы любой построенной диагонали в силу порядка обхода должны лежать выше $v_i$, то она не может пересекаться с $\\overline{v_m v_i}$.\n",
    "\n",
    "$\\triangleleft$\n",
    "\n",
    "На самом деле, мы нигде не использовали тот факт, что многоугольник был простым. Поэтому этот алгоритм работает и для многоугольников с пустотами. "
   ]
  },
  {
   "cell_type": "markdown",
   "metadata": {},
   "source": [
    "### Оценка асимптотики времени и памяти\n",
    "\n",
    "Построение очереди $Q$ занимает $O(N)$, если использовать `heapify` и $O(NlogN)$ в случае обычной сортировки.<br>\n",
    "Для обработки события мы производим одну операцию на $Q$, константное количество запросов, вставок и удалений на $T$, и создание от нуля до двух диагоналей. Из очереди мы можем достать за $O(logN)$ или $O(1)$, опреции поиска, вставки и удаления на сбалансированном бинарном дереве работают за $O(logN)$, а диагонали создаются за $O(1)$. Итоговое время обработки одной вершины - $O(logN)$. В очередь в процессе работы не добавляются события, а значит общее время работы равно $O(NlogN)$.\n",
    "\n",
    "Каждая вершина хранится в $Q$ не больше чем в одном экземпляре, и каждое ребро хранится в $T$ не более чем в одном экземпляре. Поэтому расход памяти равен $O(N)$."
   ]
  },
  {
   "cell_type": "markdown",
   "metadata": {},
   "source": [
    "Итого, мы получили следующий результат:\n",
    "\n",
    "> Многоугольник c $N$ вершинами может быть разбит на $y$-монотонные части алгоритмом, использующим $O(NlogN)$ времени и $O(N)$ памяти."
   ]
  }
 ],
 "metadata": {
  "kernelspec": {
   "display_name": "Python 3",
   "language": "python",
   "name": "python3"
  },
  "language_info": {
   "codemirror_mode": {
    "name": "ipython",
    "version": 3
   },
   "file_extension": ".py",
   "mimetype": "text/x-python",
   "name": "python",
   "nbconvert_exporter": "python",
   "pygments_lexer": "ipython3",
   "version": "3.6.0"
  },
  "widgets": {
   "state": {
    "1a59e448149740999096ea066284d35d": {
     "views": [
      {
       "cell_index": 27
      }
     ]
    }
   },
   "version": "1.2.0"
  }
 },
 "nbformat": 4,
 "nbformat_minor": 2
}
