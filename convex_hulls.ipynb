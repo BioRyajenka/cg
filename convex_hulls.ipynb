{
 "cells": [
  {
   "cell_type": "code",
   "execution_count": 1,
   "metadata": {
    "collapsed": true
   },
   "outputs": [],
   "source": [
    "import numpy as np\n",
    "import scipy as sp"
   ]
  },
  {
   "cell_type": "code",
   "execution_count": 2,
   "metadata": {
    "collapsed": true
   },
   "outputs": [],
   "source": [
    "from numpy.linalg import det"
   ]
  },
  {
   "cell_type": "markdown",
   "metadata": {},
   "source": [
    "Объем параллелепипеда образованного плоскостью plane и точкой point лежащей вне plane:"
   ]
  },
  {
   "cell_type": "code",
   "execution_count": 3,
   "metadata": {
    "collapsed": true
   },
   "outputs": [],
   "source": [
    "def vol(plane, point):\n",
    "    return det(plane - point)"
   ]
  },
  {
   "cell_type": "markdown",
   "metadata": {},
   "source": [
    "Отсюда, легко получаем предикат поворота точек:"
   ]
  },
  {
   "cell_type": "code",
   "execution_count": 4,
   "metadata": {
    "collapsed": true
   },
   "outputs": [],
   "source": [
    "def rot(plane, point):\n",
    "    return np.sign(vol(plane, point))"
   ]
  },
  {
   "cell_type": "code",
   "execution_count": 5,
   "metadata": {
    "collapsed": true
   },
   "outputs": [],
   "source": [
    "def quick_hull(points):\n",
    "    '''\n",
    "    функция рассчета выпуклой оболочки для множества точек. алгоритм следующий:\n",
    "    1. находим dim точек для того, чтобы образовать опорную гиперплоскость.\n",
    "        для этого находим максимум и минимум по 1й координате, минимум по второй, \n",
    "        минимум по третьей и так до предпоследней. \n",
    "        (эти точки могут быть любыми, но разумнее будет делать плоскость на тех, которые пойдут в ответ)\n",
    "        точки задающие гиперплокость записываем в массив plane.\n",
    "    2. разбиваем все наши точки на положительные и отрицательные \n",
    "        (ключом выступает объем паралеллепипеда на plane и текущей точке). \n",
    "        одновременно с этим находим максимум и минимум на нашем множестве.\n",
    "    3. далее, последовательно перебираем точку на опорной гиперплоскости, и меняем ее на максимум из предыдущего шага.\n",
    "        на каждой итерации, мы получаем новую опорную гиперплоскость, и запускаем наш \n",
    "        алгоритм для новой гиперплоскости и нового множества точек \n",
    "        (точек с положительным ключом из предыдущего пункта).\n",
    "    4. повторяем 3й шаг для минимума и точек с отрицательными ключами.\n",
    "    :param: points набор точек, для которого необходимо посчитать выпуклую оболочку. \n",
    "            должен иметь форму (n, dim), где dim - размерность пространства.\n",
    "    '''\n",
    "    return None"
   ]
  }
 ],
 "metadata": {
  "kernelspec": {
   "display_name": "Python 3",
   "language": "python",
   "name": "python3"
  },
  "language_info": {
   "codemirror_mode": {
    "name": "ipython",
    "version": 3
   },
   "file_extension": ".py",
   "mimetype": "text/x-python",
   "name": "python",
   "nbconvert_exporter": "python",
   "pygments_lexer": "ipython3",
   "version": "3.5.2"
  }
 },
 "nbformat": 4,
 "nbformat_minor": 1
}
