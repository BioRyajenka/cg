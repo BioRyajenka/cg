{
 "cells": [
  {
   "cell_type": "markdown",
   "metadata": {
    "collapsed": true
   },
   "source": [
    "# Принадлежность точки выпуклому многоугольнику\n",
    "\n",
    "## Описание алгоритма\n",
    "Нам даются точки ($a_i$) - вершины многоугольника в порядке обхода и искомая точка ($p$). У выпуклого многоугольника есть свойство: если из любой точки $i$ рассмотреть поворот до других точек ($a_j$): ($a_j$,$a_i$,$p$) он будет монотонным. \n",
    "* Возьмем первую точку в списке вершин.\n",
    "* Проверим, что точка справа (поворот больше нуля) от прилежащих к ней вершин.\n",
    "* Если это не так, то точка находится вне многоугольника.\n",
    "* Иначе, будем искать бин-поиском в каком углу лежит точка, т. е. найдем такое i, что поворот ($a_{i}$, $a_{0}$, $p$) и ($a_{i+1}$, $a_{0}$, $p$) различный.\n",
    "*  Проверяем, точка справа или слева от ребра ($a_i$,$a_{i+1}$). Если справа, то внутри, иначе снаружи.\n",
    "\n",
    "## Время работы\n",
    "Время работы бин-поиска $O(log(n))$"
   ]
  },
  {
   "cell_type": "code",
   "execution_count": 1,
   "metadata": {
    "collapsed": false
   },
   "outputs": [],
   "source": [
    "import matplotlib.pyplot as plt\n",
    "import numpy as np\n",
    "from ipywidgets import interact\n",
    "from IPython.display import display\n",
    "\n",
    "import solutions "
   ]
  },
  {
   "cell_type": "markdown",
   "metadata": {
    "collapsed": true
   },
   "source": [
    "## Упражнение"
   ]
  },
  {
   "cell_type": "code",
   "execution_count": 2,
   "metadata": {
    "collapsed": false
   },
   "outputs": [],
   "source": [
    "#def check(points,point): #надо написать функцию, без использования библиотек, чтобы эта функция работала корректно\n",
    "    #возвращает true, если точка point лежит внутри многоугольника, который задан своими вершинами в порядке обхода в points\n",
    "    #писать отдельно функцию поворота не надо, ибо она уже написана (solutions.orientation)\n",
    "    #return 'in'\n",
    "    \n",
    "check = solutions.check"
   ]
  },
  {
   "cell_type": "code",
   "execution_count": 6,
   "metadata": {
    "collapsed": false
   },
   "outputs": [
    {
     "data": {
      "image/png": "[encoded data removed]",
      "text/plain": [
       "<matplotlib.figure.Figure at 0x204b7a87b00>"
      ]
     },
     "metadata": {},
     "output_type": "display_data"
    },
    {
     "data": {
      "text/plain": [
       "'out'"
      ]
     },
     "execution_count": 6,
     "metadata": {},
     "output_type": "execute_result"
    }
   ],
   "source": [
    "fig = plt.figure(figsize = (6, 6))\n",
    "ax1 = plt.subplot(111, aspect = 'equal')\n",
    "\n",
    "def draw(points):\n",
    "    points.insert(len(points),[points[0][0],points[0][1]])\n",
    "    points_t = np.array(points).T\n",
    "    ax1.plot(points_t[0,],points_t[1,],'--',c='r')\n",
    "    ax1.scatter(points_t[0,],points_t[1,],c='r')\n",
    "    ax1.set_xlim(0 - 1, 20 + 1)\n",
    "    ax1.set_ylim(0 - 1, 20 + 1)\n",
    "    display(fig)\n",
    "\n",
    "\n",
    "points,point=solutions.generateTest()\n",
    "ax1.plot(point[0], point[1], 'o', color = 'g')\n",
    "l = -1\n",
    "draw(points)\n",
    "result = check(points, point)\n",
    "plt.close()\n",
    "result\n"
   ]
  },
  {
   "cell_type": "code",
   "execution_count": null,
   "metadata": {
    "collapsed": true
   },
   "outputs": [],
   "source": []
  }
 ],
 "metadata": {
  "kernelspec": {
   "display_name": "Python 3",
   "language": "python",
   "name": "python3"
  },
  "language_info": {
   "codemirror_mode": {
    "name": "ipython",
    "version": 3
   },
   "file_extension": ".py",
   "mimetype": "text/x-python",
   "name": "python",
   "nbconvert_exporter": "python",
   "pygments_lexer": "ipython3",
   "version": "3.5.2"
  }
 },
 "nbformat": 4,
 "nbformat_minor": 2
}
