{
 "cells": [
  {
   "cell_type": "code",
   "execution_count": 1,
   "metadata": {
    "collapsed": true
   },
   "outputs": [],
   "source": [
    "%matplotlib inline\n",
    "import matplotlib.pyplot as plt\n",
    "from hidden import *       # Функции, реалзация которых не особо интересна в свете этой темы\n",
    "from answers import *      # Ответы\n",
    "from visual_utils import * # Функции визуализации\n",
    "from cg_common import * # Должно быть перенесено в общую либу\n",
    "import numpy as np"
   ]
  },
  {
   "cell_type": "markdown",
   "metadata": {},
   "source": [
    "# Ушной метод триангуляция многоугольников"
   ]
  },
  {
   "cell_type": "markdown",
   "metadata": {},
   "source": [
    "В теме посвященной [трингуляции монотонного многоугольника(будет ссылка на конспект Лёни)]() мы доказали существование триангуляции у простого $n$-вершинного многоугольника и собственно разобрали один из способов ее нахождения.\n",
    "Здесь мы рассмотрим другой довольно интересный, а так же простой в понимании и реализации алгоритм триангулирования многоугольников, называющийся **ушной триангуляцией**.  "
   ]
  },
  {
   "cell_type": "markdown",
   "metadata": {},
   "source": [
    "### Определение\n",
    "Три последовательные вершины $v_{i-1}$, $v_{i}$, $v_{i+1}$ многоугольника $P$ называются **ухом**, если треугольник образованный этими вершинами не содержит внутри себя и на границе остальных вершин многоугльника $P$, а так же угол при вершине $v_{0}$, называемой **вершиной уха**, строго меньше $\\pi$ (см рис.1). "
   ]
  },
  {
   "cell_type": "markdown",
   "metadata": {},
   "source": [
    "![определение уха](./img/def_ear.svg)"
   ]
  },
  {
   "cell_type": "markdown",
   "metadata": {},
   "source": [
    "#### Теорема 1 (О существовании двух ушей у многоугольника)\n",
    "> У любого простого $n$-вершинного многоугольника $P$ всегда существуют два непересекающихся между собой уха."
   ]
  },
  {
   "cell_type": "markdown",
   "metadata": {},
   "source": [
    "$\\triangleright$\n",
    "<div style=\"padding-left:40px\">\n",
    "Доказывать будем по индукции по количеству $n$ вершин.\n",
    "База: $n = 4$.\n",
    "![База](./img/th1_base.svg)\n",
    "\n",
    "Предположим, что для всех многоугольников, количество вершин в которых не больше $n$, теорема верна.\n",
    "Рассмотрим многоугольник $P$, в котором $n + 1$ вершина.\n",
    "Далее возможны два случая:\n",
    "* Произвольная выпуклая вершина $v_{i}$ многоугольника $P$ является ухом.\n",
    "Отрезав это ухо, мы уменьшим число вершин $P$ на одну.\n",
    "В результате, получим $n$-вершинный многоугольник $P'$.\n",
    "По предположению индукции у него существует два непересекающихся уха.\n",
    "Учитывая, что уши $P'$ являются и ушами $P$, можно утверждать, что для $P$ теорема верна.\n",
    "![Ухо](./img/th1_case_1.svg)\n",
    "\n",
    "* Произвольная выпуклая вершина $v_{i}$ многоугольника $P$ не является ухом.\n",
    "В таком случае в треугольнике $\\Delta v_{i-1}v_{i}v_{i+1}$ лежит хотя бы одна отличная от вершин треугольника вершина из $P$.\n",
    "Если их несколько, то выберем вершину $q$, которая будет ближе всего к $v_{i}$.\n",
    "Проведём отрезок $v_{i}q$, который разделит $P$ на два многоугольника: $P_{1}$ и $P_{2}$.\n",
    "В каждом из них будет не более $n$ вершин, следовательно у каждого будет по два непересекающихся уха.\n",
    "Даже если предположить, что ухо из $P_{1}$ и ухо из $P_{2}$ будут пересекаться по стороне $v_{i}q$, в $P$ всё равно будет не менее двух непересекающихся ушей.\n",
    "![Не ухо](./img/th1_case_2.svg)\n",
    "</div>\n",
    "$\\triangleleft$"
   ]
  },
  {
   "cell_type": "markdown",
   "metadata": {},
   "source": [
    "### Задача\n",
    ">Пусть нам дается список вершин простого $n$-вершинного многоугольника, задающий их в порядке обхода против часовой стрелки. Надо затриангулировать этот многоугольник."
   ]
  },
  {
   "cell_type": "markdown",
   "metadata": {},
   "source": [
    "### Алгоритм\n",
    "Идея заключается в последовательном отрезании ушей от многоугольника, пока он не станет треугольником.\n",
    "Зафиксируем стартовую вершину многоугльника и будем обходить его в поиске ушей, добавляя в стек $S$ вершины, обработанные нами и не являющиеся ушами.\n",
    "Ломаная, построенная на вершинах из стека, будет отделять отрезанные уши от еще не просмотренных вершин многоугольника. \n",
    "\n",
    "Когда при обходе мы находим вершину уха, то отрезаем ее, добавляя диагональ, и переходим к предыдущей вершине из стека.\n",
    "Если она стала вершиной уха, то отрезаем ее и дальше спускаемся по стеку.\n",
    "Этот процесс остановится, когда мы либо достигнем стартовой вершины (стек пуст), либо текущая вершина перестанет быть ухом.\n",
    "Тогда мы переходим к вершине, являющейся концом последней добавленной диагонали, и продолжаем обход многоугольника в поиске ушей.\n",
    "\n",
    "В итоге, мы придем к тому, что от нерассмотренной части многоугольника останется только одно ребро, а остальная часть будет затриангулирован.  "
   ]
  },
  {
   "cell_type": "markdown",
   "metadata": {},
   "source": [
    "### Ушная проверка\n",
    "Для того чтобы быть ухом, вершина прежде всего должна быть выпуклой, проверки этого, удобно использовать [левый поворот](https://neerc.ifmo.ru/wiki/index.php?title=%D0%9F%D1%80%D0%B5%D0%B4%D0%B8%D0%BA%D0%B0%D1%82_%22%D0%BB%D0%B5%D0%B2%D1%8B%D0%B9_%D0%BF%D0%BE%D0%B2%D0%BE%D1%80%D0%BE%D1%82%22).\n",
    "Затем нужно проверить, что никакие вершины многоугольника не лежат внутри или на границе треугольника, соответствующего текущей предполагаемой вершине уха.\n",
    "\n",
    "Далее вам предлагается потренироваться в решении этой задачи, дополнив следующую функцию."
   ]
  },
  {
   "cell_type": "code",
   "execution_count": 2,
   "metadata": {
    "collapsed": true
   },
   "outputs": [],
   "source": [
    "def is_outer(v0,v1,v2,v):\n",
    "    '''Проверяет, лежит ли вершина строго снаружи трегольника \n",
    "    На вход подаются три вершины v0, v1 и v2, образующие потенциальное ухо, а также вершина\n",
    "    многоугольника принадлежность которой ножо проверить. Вершины имеют тип Vertex (эти классы\n",
    "    определены в hidden.py). У них есть поля x, y. Вам также доступна функция turn - предикат \n",
    "    левого поворота, которая принимает три Vertex.\n",
    "    Требуется вернуть True, если v строго снаружи тегольника, иначе False.\n",
    "    '''\n",
    "    \n",
    "    return is_outer_answer(v0,v1,v2,v) # Заглушка с функцией-ответом на задачу"
   ]
  },
  {
   "cell_type": "markdown",
   "metadata": {},
   "source": [
    "#### Лемма 1 (О нерассмотренных вершинах многоугольника)\n",
    "> Проверять на принадлежность уху нужно только те вершины многоугольника, которые еще не были рассмотрены."
   ]
  },
  {
   "cell_type": "markdown",
   "metadata": {},
   "source": [
    "$\\triangleright$\n",
    "<div style=\"padding-left:40px\">\n",
    "Если в треугольник попали и рассмотренные, и нерассмотренные вершины, то по наличию первого типа вершин мы поймем, что это не ухо.\n",
    "Пусть в трегольник попали только нерассмотренные вершины (см.рис. 5), выберем из них самую ближайшую к $v$, назовем ее $w_{i}$.\n",
    "Рассмотрим многоугольник образованный цепочкой вершин $w_{i}, w_{i + 1},\\dots, w_{k}, v, w_{i}$.\n",
    "По теореме 1 у него существуют два непересекающихся уха, так что даже если предположить, что одно из них образовано $v$ или $w_{i}$, то есть второе, которое соответствует вершине из стека $S$, а это противоречит инварианту стека, по которому вершины в $S$ не являются ушами.\n",
    "![рис. 5](img/lemma_1.svg)\n",
    "</div>\n",
    "$\\triangleleft$"
   ]
  },
  {
   "cell_type": "markdown",
   "metadata": {},
   "source": [
    "Теперь соберем полученные факты вместе и напишем полноценную ушную проверку."
   ]
  },
  {
   "cell_type": "code",
   "execution_count": 3,
   "metadata": {
    "collapsed": true
   },
   "outputs": [],
   "source": [
    "def is_ear(hedge, probable_ear, pred):\n",
    "    '''Проверяет, образует ли треугольник ухо\n",
    "    На вход подается: экземпляр класса Hedge - ребро, соответствующее вершине, с которой надо \n",
    "    начинать проверку на принадлежность; массив из трех последовательных вершин, образующих \n",
    "    потенциальное ухо; предикат, задающий нерассмотренные вершины, который мы определим \n",
    "    немного позже в соответствии с леммой 1.\n",
    "    \n",
    "    Возвращает True, если probable_ear действительно образует ухо, иначе False.\n",
    "    '''\n",
    "    \n",
    "    while pred(hedge):\n",
    "        if not is_outer(*probable_ear, hedge.origin):\n",
    "            return False \n",
    "        hedge = hedge.next\n",
    "    return True "
   ]
  },
  {
   "cell_type": "markdown",
   "metadata": {},
   "source": [
    "А теперь давайте напишем сам алгоритм.\n",
    "Воспользуемся фактом, что триангуляция $n$-вершинного многоугольника содержит $n - 3$ диагонали (доказанном в теме монотонной трианглуляции) как признак завершения алгоритма."
   ]
  },
  {
   "cell_type": "code",
   "execution_count": 8,
   "metadata": {
    "collapsed": false
   },
   "outputs": [],
   "source": [
    "# Примеры многоугольников\n",
    "examples = {\n",
    "        'some': [(4, 0), (2, 1), (3, 6), (0, 5), (-1, 6), (-3, 4), (-1, 2), (-2, 0),\n",
    "              (-4, 1), (-5, -2), (-2, -4), (0, -3), (2, -4), (1, -1), (3, -2)]\n",
    "        ,\n",
    "        'square': [(0,0), (1,0), (1,1), (0,1)]\n",
    "        ,\n",
    "        'arrow': [(0,0), (2,3), (4,0), (2,6)]\n",
    "        ,\n",
    "        'star': [(0,0), (7,1), (7,3), (6,5), (5,6), (3,7), (1,7)]\n",
    "        ,\n",
    "        'substar': [(0,0), (1,6), (7,1), (7,3), (6,5), (5,6), (3,7), (1,7)]\n",
    "        ,\n",
    "        'hook': [(0,3), (2,4), (3,3), (3,2), (2,1), (2,2), (2,3), (1,2), (1,1), (3,0), (4,4), (2,5), (1,4), (0,5)]\n",
    "        }\n",
    "\n",
    "# Вершины многоугольника в порядке обхода против часовой стрелки\n",
    "source = examples['hook']\n",
    "# Преобразовываем пары в наш класс\n",
    "source = list(map(lambda i: Vertex(i[0], i[1]), source))\n",
    "# Многоугольник хранится в DCEL\n",
    "D = build_dcel(source)\n",
    "# Добавленные диагонали будем хранить в отдельном списке для наглядной визуализации\n",
    "D1 = []\n",
    "# Стек вершин\n",
    "S = []   "
   ]
  },
  {
   "cell_type": "code",
   "execution_count": 11,
   "metadata": {
    "collapsed": true
   },
   "outputs": [],
   "source": [
    "D1 = []\n",
    "S = []"
   ]
  },
  {
   "cell_type": "code",
   "execution_count": 12,
   "metadata": {
    "collapsed": true
   },
   "outputs": [],
   "source": [
    "def break_into_pieces_triang(folder='.ear_clipping'):\n",
    "    # С помощью этой функции мы будем делать \"снимки\" состояния алгоритма, чтобы потом\n",
    "    # можно было посмотреть его по шагам.\n",
    "    dump = create_dump_func(folder, visual_dump_ear_clipping_triangulation, D, D1, S)\n",
    "    \n",
    "    def peek(s):\n",
    "        return s[len(s) - 1]\n",
    "    \n",
    "    start = D[0]\n",
    "    dump(start.origin)\n",
    "    S.append(start)    \n",
    "\n",
    "    while len(D1) != len(D) - 3:\n",
    "        cur = peek(S).next\n",
    "        while True:\n",
    "            # At the start point \n",
    "            if len(S) == 0:\n",
    "                dump(cur.origin)\n",
    "                if len(D1) == len(D) - 3:\n",
    "                    break\n",
    "                S.append(cur)\n",
    "                cur = cur.next\n",
    "                \n",
    "            v0 = peek(S).origin\n",
    "            v1 = cur.origin\n",
    "            v2 = cur.next.origin\n",
    "            \n",
    "            if turn(v0, v1, v2) >= 1 and is_ear(cur.next.next, probable_ear=[v0, v1, v2],\n",
    "                                                pred=lambda hedge: hedge != start):\n",
    "                dump(cur.origin)\n",
    "\n",
    "                prev = S.pop()                \n",
    "                d = add_diagonal_with_next(prev, cur.next)\n",
    "                D1.append(d)\n",
    "                dump(cur.origin)\n",
    "\n",
    "                cur = d\n",
    "            else:\n",
    "                dump(cur.origin)\n",
    "                S.append(cur)\n",
    "                cur = cur.next\n",
    "                break\n",
    "                \n",
    "    # Remove last edge from of last triangle\n",
    "    S.clear()\n",
    "    dump(None)"
   ]
  },
  {
   "cell_type": "code",
   "execution_count": 13,
   "metadata": {
    "collapsed": false
   },
   "outputs": [],
   "source": [
    "# Запуск алгоритма\n",
    "break_into_pieces_triang()"
   ]
  },
  {
   "cell_type": "markdown",
   "metadata": {},
   "source": [
    "Можно проследить за алгоритмом по шагам, используя виджет ниже.\n",
    "У исходного многоугольника рёбра чёрные.\n",
    "Рёбра, образованные вершинами из стека и текущей вершиной - красные.\n",
    "А диагонали разбиения проведены синим пунктиром."
   ]
  },
  {
   "cell_type": "code",
   "execution_count": 14,
   "metadata": {
    "collapsed": false
   },
   "outputs": [],
   "source": [
    "from IPython.display import display\n",
    "display(SlideShower('.ear_clipping'))"
   ]
  },
  {
   "cell_type": "markdown",
   "metadata": {},
   "source": [
    "#### Доказательство корректности\n",
    "Доказательство корректности алгоритма достаточно легко вывести из его построения.\n",
    "Отрезаемые уши попарно непересекаются, а следовательно и диагонали попарно не пересекаются.\n",
    "Отрезая ухо мы добавляем диагональ, которая сохраняет корректность многоугольника, при этом уменьшая количество вершин в нем.\n",
    "В итоге многоугольник становится треугольником, который по определению затриангулирован, а все вершины соединены диаголнялями."
   ]
  },
  {
   "cell_type": "markdown",
   "metadata": {},
   "source": [
    "#### Оценка времени работы\n",
    "Каждая вершина бывает в стеке только один раз.\n",
    "На каждом шаге алгоритма мы либо отрезаем ухо и спускаемя по стеку, либо переходим к следующей вершине многоугольника.\n",
    "Для каждой добавленной вершины в начинающейся с нее цепочке последовательных отрезаний ушей мы можем зафейлить ушную проверку только один раз, после чего добавим следующую вершину полигона в стек.\n",
    "Т.е. полный такой обход полигона занимает $O(n)$ времени.\n",
    "Ушная проверка для одной вершины занимает $O(n)$ времени.\n",
    "А тогда общая оценка на время $O(n^2)$."
   ]
  },
  {
   "cell_type": "markdown",
   "metadata": {},
   "source": [
    "#### Оценка на память\n",
    "Для хранения самого полигона мы используем DCEL, который занимает линейное количество памяти.\n",
    "И заводим стек для хранения диагоналей, которых $n-2$.\n",
    "Таким образом, потребляемое количество памяти линейно."
   ]
  },
  {
   "cell_type": "markdown",
   "metadata": {},
   "source": [
    "Итого, мы получили следующий результат:\n",
    "> Простой многоугольник с $n$ вершинами может быть затриангулирован за $O(n^2)$ времени, используя $O(n)$ памяти. "
   ]
  },
  {
   "cell_type": "markdown",
   "metadata": {},
   "source": [
    "### Триангуляция многоугольника с дырками"
   ]
  },
  {
   "cell_type": "markdown",
   "metadata": {},
   "source": [
    "Две вершины называются **взаимно видимыми**, если соединяющая их диагональ не пересекает ребра многоугольника и не содержит вершин из него."
   ]
  },
  {
   "cell_type": "markdown",
   "metadata": {},
   "source": [
    "![Взаимно видимые вершины](img/def_visible.svg)"
   ]
  },
  {
   "cell_type": "markdown",
   "metadata": {},
   "source": [
    "Пусть теперь мы хотим затриангулировать полигон, в котором есть дырки.\n",
    "Для начала предположим, что она одна.\n",
    "Сведем задачу к триангуляции без дырок.\n",
    "Идея заключается в том, чтобы соединить **взаимно видимые** вершину внешнего полигона и вершину внутренегом(задающего дырку) полигона.\n",
    "Пусть вершина $v_{i}$ принадлежит внешнему, а $u_{j}$ - внутреннему.\n",
    "Добавив две новые вершины $v'$ и $u'$, ребра $v'u'$ и $uv$, сделаем наш многоугольник простым.\n",
    "А его мы уже умеем триангулировать."
   ]
  },
  {
   "cell_type": "markdown",
   "metadata": {},
   "source": [
    "Однако как мы найдем эти самые взаимно видимые вершины? "
   ]
  },
  {
   "cell_type": "markdown",
   "metadata": {},
   "source": [
    "### Алгоритм поиска взаимно видимых вершин\n",
    "Найдем самую левую точку внутреннего полигона, а из таких самую нижнюю, назовем ее $p$.\n",
    "Проведем из нее луч в минус бесконечность по оси $Ox$.\n",
    "Он пересечет какие-то ребра или вершины внешнего полигона.\n",
    "Возьмем из таких точек пересечения самую правую, назовем ее $c$.\n",
    "Возможны два случая:\n",
    "* Если это вершина, то мы нашли подходящую видимую вершину внешнего полигона (см. рис. 7а).\n",
    "* Иначе мы попали во внутренную область ребра $e'e$ (см. рис. 7б).\n",
    "Тогда соединим его нижний конец $e$ и $p$.\n",
    "Рассмотрим невыпуклые вершины внешнего полигона, которые попали в треугольник $\\Delta epc$.\n",
    "Отсортируем их по углу, образованному с отрезком $pc$.\n",
    "Возьмем минимальную, а среди таких самую правую."
   ]
  },
  {
   "cell_type": "markdown",
   "metadata": {},
   "source": [
    "![рис 7](img/algo_hole.svg)"
   ]
  },
  {
   "cell_type": "code",
   "execution_count": 1,
   "metadata": {
    "collapsed": true
   },
   "outputs": [],
   "source": [
    "%matplotlib inline\n",
    "import matplotlib.pyplot as plt\n",
    "from hidden import *       # Функции, реалзация которых не особо интересна в свете этой темы\n",
    "from answers import *      # Ответы\n",
    "from visual_utils import * # Функции визуализации\n",
    "from cg_common import * # Должно быть перенесено в общую либу\n",
    "import numpy as np"
   ]
  },
  {
   "cell_type": "code",
   "execution_count": 11,
   "metadata": {
    "collapsed": false
   },
   "outputs": [],
   "source": [
    "polygon = list(map(lambda i: Vertex(i[0], i[1]),\n",
    "        [(8, 18), (2, 12), (1, 14), (2, 11), (6, 15), (3, 3), (5, 1), (4, 5),(5, 6),\n",
    "         (6, 8), (8, 4), (8, 7), (7, 8), (9, 9), (9, 10), (13, 8), (18, 13), (17, 15)]))\n",
    "# Точки \"дырок\" мы задаём уже по часовой стрелке - многоугольник снаружи них, а не внутри\n",
    "hole1 = list(map(lambda i: Vertex(i[0], i[1]),\n",
    "        [(15, 15), (12, 14), (14, 13), (12, 12), (14, 10), (15, 13)])) \n",
    "hole2 = list(map(lambda i: Vertex(i[0], i[1]),\n",
    "        [(11, 16), (8, 15), (9, 13)]))"
   ]
  },
  {
   "cell_type": "code",
   "execution_count": 4,
   "metadata": {
    "collapsed": true
   },
   "outputs": [],
   "source": [
    "class Ungle:\n",
    "    def __init__(self, vertex, angular_point):\n",
    "        self.vect = vertex\n",
    "        self.angular_point = angular_point \n",
    "        \n",
    "    def __lt__(self, other):\n",
    "        t = turn(self.vect, self.angular_point, other.vect) \n",
    "        return t < 0 or t == 0 and self.vect.x > other.vect.x"
   ]
  },
  {
   "cell_type": "code",
   "execution_count": 5,
   "metadata": {
    "collapsed": true
   },
   "outputs": [],
   "source": [
    "def is_outer(v0,v1,v2,v):\n",
    "    '''Проверяет, лежит ли вершина строго снаружи трегольника \n",
    "    На вход подаются три вершины v0, v1 и v2, образующие потенциальное ухо, а также вершина\n",
    "    многоугольника принадлежность которой ножо проверить. Вершины имеют тип Vertex (эти классы\n",
    "    определены в hidden.py). У них есть поля x, y. Вам также доступна функция turn - предикат \n",
    "    левого поворота, которая принимает три Vertex.\n",
    "    Требуется вернуть True, если v строго снаружи тегольника, иначе False.\n",
    "    '''\n",
    "    \n",
    "    return is_outer_answer(v0,v1,v2,v) # Заглушка с функцией-ответом на задачу"
   ]
  },
  {
   "cell_type": "code",
   "execution_count": 6,
   "metadata": {
    "collapsed": true
   },
   "outputs": [],
   "source": [
    "def merge_polygons(outer_polygon, outer_h, inner_polygon, inner_h):\n",
    "    outer_prev = outer_h.prev\n",
    "    inner_prev = inner_h.prev\n",
    "    \n",
    "    def add_edge(from_h, to_h):\n",
    "        # новое ребро\n",
    "        h = Hedge(Vertex(from_h.next.origin.x, from_h.next.origin.y))\n",
    "        h.twin = Hedge(Vertex(to_h.origin.x, to_h.origin.y))\n",
    "        h.twin.twin = h\n",
    "\n",
    "        # from -> new\n",
    "        from_h.next = h\n",
    "        h.prev = from_h  \n",
    "        from_h.twin.prev = h.twin\n",
    "        h.twin.next = from_h.twin\n",
    "\n",
    "        # new -> to\n",
    "        h.next = to_h\n",
    "        to_h.prev = h\n",
    "        h.twin.prev = to_h.twin\n",
    "        to_h.twin.prev = h.twin\n",
    "        return h\n",
    "    \n",
    "    h1 = add_edge(outer_prev, inner_h)\n",
    "    h2 = add_edge(inner_prev, outer_h)\n",
    "    \n",
    "    outer_polygon.append(h1)\n",
    "    outer_polygon.append(h2)\n",
    "    for hedge in inner_polygon:\n",
    "        outer_polygon.append(hedge)\n",
    "    inner_polygon.clear()\n",
    "        \n",
    "    return outer_polygon"
   ]
  },
  {
   "cell_type": "code",
   "execution_count": 16,
   "metadata": {
    "collapsed": true
   },
   "outputs": [],
   "source": [
    "polygon = list(map(lambda i: Vertex(i[0], i[1]),\n",
    "        [(3, 1), (0, 3), (-4, 2), (-2, 0), (-3, -1), (-2, -7), (1, -3), (3, -4), (4, -1)]))\n",
    "# Точки \"дырок\" мы задаём уже по часовой стрелке - многоугольник снаружи них, а не внутри\n",
    "hole1 = list(map(lambda i: Vertex(i[0], i[1]),\n",
    "        [(0, 1), (1, 0), (0, -2), (-1, 0)])) \n",
    "hole2 = list(map(lambda i: Vertex(i[0], i[1]),\n",
    "        [(-1, -2), (-1, -5), (-2, -3)]))"
   ]
  },
  {
   "cell_type": "code",
   "execution_count": 17,
   "metadata": {
    "collapsed": true
   },
   "outputs": [],
   "source": [
    "outer = build_dcel(polygon)\n",
    "inner1 = build_dcel(hole1)\n",
    "inner2 = build_dcel(hole2)\n",
    "\n",
    "D = merge_polygons(outer, outer[0], inner1, inner1[0])\n",
    "D = merge_polygons(outer, outer[4], inner2, inner2[0])"
   ]
  },
  {
   "cell_type": "code",
   "execution_count": 18,
   "metadata": {
    "collapsed": true
   },
   "outputs": [],
   "source": [
    "def break_into_pieces_bypass_forward(folder='.bypass_forward'):\n",
    "    dump = create_dump_func(folder, visual_dump_bypass, D)\n",
    "    \n",
    "    start = D[0]\n",
    "    dump(start.origin)\n",
    "    cur = start.next\n",
    "    while cur != start:\n",
    "        dump(cur.origin)\n",
    "        cur = cur.next\n",
    "        \n",
    "break_into_pieces_bypass_forward()\n",
    "\n",
    "from IPython.display import display\n",
    "display(SlideShower('.bypass_forward'))"
   ]
  },
  {
   "cell_type": "code",
   "execution_count": null,
   "metadata": {
    "collapsed": true
   },
   "outputs": [],
   "source": [
    "def break_into_pieces_bypass_backward(folder='.bypass_backward'):\n",
    "    dump = create_dump_func(folder, visual_dump_bypass, D)\n",
    "    \n",
    "    start = D[0]\n",
    "    dump(start.origin)\n",
    "    cur = start.prev\n",
    "    while cur != start:\n",
    "        dump(cur.origin)\n",
    "        cur = cur.prev\n",
    "        \n",
    "break_into_pieces_bypass_backward()\n",
    "\n",
    "from IPython.display import display\n",
    "display(SlideShower('.bypass_backward'))"
   ]
  },
  {
   "cell_type": "code",
   "execution_count": 13,
   "metadata": {
    "collapsed": false
   },
   "outputs": [],
   "source": [
    "def break_into_pieces_holes_merging(polygon, *holes, folder='.holes_merging'):\n",
    "    # Лесикографический порядок на точках(костыль для точек Леонида)\n",
    "    Vertex.__lt__ = lambda self, other: self.x < other.x or (self.x == other.x and self.y < other.y)\n",
    "    # converter to point(VERTEX)\n",
    "    tp = lambda x: Vertex(x[0], x[1])\n",
    "    # converter to np.array\n",
    "    tnp = lambda v: np.array([v.x, v.y]) \n",
    "\n",
    "    # Вместо луча в минус бесконечноть по оси Ох будем проводить\n",
    "    # отрезок до координаты самой левой точки полигона. \n",
    "    min_x = polygon[0].origin.x\n",
    "    for hedge in polygon:\n",
    "        min_x = min(hedge.origin.x, min_x)\n",
    "   \n",
    "    # Отсортируем дырки по неубыванию самой левой нижней точки\n",
    "    order = []\n",
    "    for i, hole in enumerate(holes):\n",
    "        # left_lower_hedge\n",
    "        llh = hole[0]\n",
    "        for h in hole:\n",
    "            if h.origin < llh.origin:\n",
    "                llh = h\n",
    "        order.append((i, llh))\n",
    "\n",
    "    ordered_holes = []\n",
    "    for pos, llh in sorted(order, key=lambda v: v[1].origin):\n",
    "        ordered_holes.append((llh, holes[pos]))\n",
    "    \n",
    "    # С помощью этой функции мы будем делать \"снимки\" состояния алгоритма, чтобы потом\n",
    "    # можно было посмотреть его по шагам.\n",
    "    dump = create_dump_func(folder, visual_dump_holes_merging,\n",
    "                            polygon, list(map(lambda x: x[1], ordered_holes)))\n",
    "    \n",
    "    dump({'step':Merging_step.BEFORE_START})\n",
    "    \n",
    "    # По очереди сливаем дырки с полигоном\n",
    "    for llh, hole in ordered_holes:\n",
    "        dump({'llh':llh,'step':Merging_step.LEFT_LOWER})\n",
    "        \n",
    "        # Ищем ребро или вершину с максимальным по оси Ох пересечением \n",
    "        intersected = []\n",
    "        a = llh.origin\n",
    "        b = tp([min_x, llh.origin.y])\n",
    "        dump({'ray':(a,b), 'step':Merging_step.RAY})\n",
    "        for h in polygon:\n",
    "            c = h.origin\n",
    "            d = h.twin.origin\n",
    "            if turn(a, b, c) * turn(a, b, d) <= 0 and turn(c, d, a) * turn(c, d, b) <= 0:\n",
    "                ip = get_intersection_point(tnp(a), tnp(b), tnp(c), tnp(d))\n",
    "                intersected.append((ip[0]/ip[2], ip[0]/ip[2], h))\n",
    "        \n",
    "        # Сортируем точки пересечения по убыванию\n",
    "        intersected = sorted(intersected, key=lambda x: -x[0])\n",
    "        dump({'ray':(a,b), 'intersected':intersected, 'step':Merging_step.INTERSECTED})\n",
    "        \n",
    "        # Выбираем отрезок\\вершину с ближайшей к вершине дырки точкой пересечения \n",
    "        closest = intersected[0]\n",
    "        v0 = a\n",
    "        v1 = closest[2].origin\n",
    "        v2 = closest[2].twin.origin\n",
    "        \n",
    "        if v1.y != v2.y and turn(a, b, v1) == 0:\n",
    "            # Попали в начало ребра\n",
    "            dump({'ray':(a,b), 'closest':v1, 'step':Merging_step.REFLEX_VERTEXES})\n",
    "            merge_polygons(polygon, closest[2], hole, llh)\n",
    "            dump({'polygon':polygon, 'step':Merging_step.MERGE})\n",
    "            continue\n",
    "        elif v1.y == v2.y or turn(a, b, v2) == 0:\n",
    "            # Попали в конец ребра(или оно горизонтальное)\n",
    "            dump({'ray':(a,b), 'closest':v2, 'step':Merging_step.REFLEX_VERTEXES})\n",
    "            merge_polygons(polygon, closest[2].next, hole, llh)\n",
    "            dump({'polygon':polygon, 'step':Merging_step.MERGE})\n",
    "            continue\n",
    "        \n",
    "        # Попали в ребро\n",
    "        dump({'ray':(a,b), 'closest':closest[2], 'step':Merging_step.REFLEX_VERTEXES})\n",
    "        \n",
    "        # Ищем выпуклые вершины, попавшие в треугольник         \n",
    "        reflex_origins = [closest[2].next] # нижняя вершина ребра, которое пересек луч\n",
    "        for h in polygon:\n",
    "            v = h.origin\n",
    "            if turn(h.prev.origin, v, h.next.origin) <= 0 and \\\n",
    "               v != v1 and v != v2 and not is_outer(v0,v1,v2,v):\n",
    "                reflex_origins.append(h)\n",
    "        dump({'triangle':(v0,v1,v2), 'reflex':reflex_origins, 'step':Merging_step.REFLEX_SORTING})\n",
    "        \n",
    "        # Отсортируем вершины по углу относительно отрезка ab\n",
    "        reflex_origins = sorted(reflex_origins, key=lambda hedge: Ungle(hedge.origin, llh.origin))\n",
    "        dump({'triangle':(v0,v1,v2), 'closest':reflex_origins[0], 'step':Merging_step.CLOSEST})\n",
    "\n",
    "        merge_polygons(polygon, reflex_origins[0], hole, llh)\n",
    "        dump({'polygon':polygon, 'step':Merging_step.MERGE})\n",
    "        "
   ]
  },
  {
   "cell_type": "code",
   "execution_count": 14,
   "metadata": {
    "collapsed": false
   },
   "outputs": [],
   "source": [
    "# Запуск алгоритма\n",
    "break_into_pieces_holes_merging(build_dcel(polygon),\n",
    "                                build_dcel(hole1),\n",
    "                                build_dcel(hole2))"
   ]
  },
  {
   "cell_type": "markdown",
   "metadata": {},
   "source": [
    "Можно проследить за алгоритмом по шагам, используя виджет ниже.\n",
    "У исходного многоугольника и дырок чёрные рёбра."
   ]
  },
  {
   "cell_type": "code",
   "execution_count": 15,
   "metadata": {
    "collapsed": false
   },
   "outputs": [],
   "source": [
    "from IPython.display import display\n",
    "display(SlideShower('.holes_merging'))"
   ]
  },
  {
   "cell_type": "markdown",
   "metadata": {},
   "source": [
    "$\\triangleright$\n",
    "<div style=\"padding-left:40px\">\n",
    "</div>\n",
    "$\\triangleleft$"
   ]
  }
 ],
 "metadata": {
  "kernelspec": {
   "display_name": "Python 3",
   "language": "python",
   "name": "python3"
  },
  "language_info": {
   "codemirror_mode": {
    "name": "ipython",
    "version": 3
   },
   "file_extension": ".py",
   "mimetype": "text/x-python",
   "name": "python",
   "nbconvert_exporter": "python",
   "pygments_lexer": "ipython3",
   "version": "3.5.2"
  },
  "widgets": {
   "state": {
    "4049cd3adc8747bda0e761f301a2c612": {
     "views": [
      {
       "cell_index": 45
      }
     ]
    },
    "44ace563c62a4e4c989f667b64a46de3": {
     "views": [
      {
       "cell_index": 21
      }
     ]
    },
    "6fc3c34c50a044ba98ccbd80e6c1fd33": {
     "views": [
      {
       "cell_index": 40
      }
     ]
    }
   },
   "version": "1.2.0"
  }
 },
 "nbformat": 4,
 "nbformat_minor": 1
}
