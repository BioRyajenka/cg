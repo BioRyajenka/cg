{
 "cells": [
  {
   "cell_type": "markdown",
   "metadata": {},
   "source": [
    "# Ушной метод триангуляция многоугольников"
   ]
  },
  {
   "cell_type": "markdown",
   "metadata": {},
   "source": [
    "В теме посвященной [трингуляции монотонного многоугольника(будет ссылка на конспект Лёни)]() мы доказали существование триангуляции у простого $n$-вершинного многоугольника и собственно разобрали один из способов ее нахождения.\n",
    "Здесь мы рассмотрим другой довольно интересный, а так же простой в понимании и реализации алгоритм триангулирования многоугольников, называющийся **ушной триангуляцией**.  "
   ]
  },
  {
   "cell_type": "markdown",
   "metadata": {},
   "source": [
    "## Определение\n",
    "Три последовательные вершины $v_{i-1}$, $v_{i}$, $v_{i+1}$ многоугольника $P$ называются **ухом**, если треугольник образованный этими вершинами не содержит внутри себя и на границе остальных вершин многоугльника $P$, а так же угол при вершине $v_{0}$, называемой **вершиной уха**, строго меньше $\\pi$ (см рис.1). "
   ]
  },
  {
   "cell_type": "markdown",
   "metadata": {},
   "source": [
    "![определение уха](./img/def_ear.jpg)"
   ]
  },
  {
   "cell_type": "markdown",
   "metadata": {},
   "source": [
    "## Теорема (О существовании двух ушей у многоугольника)\n",
    "> У любого простого $n$-вершинного многоугольника $P$ всегда существуют два непересекающихся между собой уха."
   ]
  },
  {
   "cell_type": "markdown",
   "metadata": {},
   "source": [
    "$\\triangleright$\n",
    "<div style=\"padding-left:40px\">\n",
    "Доказывать будем по индукции по количеству $n$ вершин.\n",
    "База: $n = 4$.\n",
    "![База](./img/th1_base.jpg)\n",
    "\n",
    "Предположим, что для всех многоугольников, количество вершин в которых не больше $n$, теорема верна.\n",
    "Рассмотрим многоугольник $P$, в котором $n + 1$ вершина.\n",
    "Далее возможны два случая:\n",
    "* Произвольная выпуклая вершина $v_{i}$ многоугольника $P$ является ухом.\n",
    "Отрезав это ухо, мы уменьшим число вершин $P$ на одну.\n",
    "В результате, получим $n$-вершинный многоугольник $P'$.\n",
    "По предположению индукции у него существует два непересекающихся уха.\n",
    "Учитывая, что уши $P'$ являются и ушами $P$, можно утверждать, что для $P$ теорема верна.\n",
    "![Ухо](./img/th1_case_1.jpg)\n",
    "\n",
    "* Произвольная выпуклая вершина $v_{i}$ многоугольника $P$ не является ухом.\n",
    "В таком случае в треугольнике $\\Delta v_{i-1}v_{i}v_{i+1}$ лежит хотя бы одна отличная от вершин треугольника вершина из $P$.\n",
    "Если их несколько, то выберем вершину $q$, которая будет ближе всего к $v_{i}$.\n",
    "Проведём отрезок $Q$, который разделит $P$ на два многоугольника: $P_{1}$ и $P_{2}$.\n",
    "В каждом из них будет не более $n$ вершин, следовательно у каждого будет по два непересекающихся уха.\n",
    "Даже если предположить, что ухо из $P_{1}$ и ухо из $P_{2}$ будут пересекаться по стороне $v_{i}q$, в $P$ всё равно будет не менее двух непересекающихся ушей.\n",
    "![Не ухо](./img/th1_case_2.jpg)\n",
    "</div>\n",
    "$\\triangleleft$"
   ]
  },
  {
   "cell_type": "markdown",
   "metadata": {},
   "source": [
    "## Задача\n",
    ">Пусть нам дается список вершин простого $n$-вершинного многоугольника, задающий их в порядке обхода против часовой стрелки. Надо затриангулировать этот многоугольник."
   ]
  },
  {
   "cell_type": "markdown",
   "metadata": {},
   "source": [
    "### Алгоритм\n",
    "Идея заключается в последовательном отрезании ушей от многоугольника, пока он не станет треугольником.\n",
    "Зафиксируем стартовую вершину многоугльника и будем обходить его в поиске ушей, добавляя в стек $S$ вершины, обработанные нами и не являющиеся ушами.\n",
    "Ломаная, построенная на вершинах из стека, будет отделять отрезанные уши от еще не просмотренных вершин многоугольника. \n",
    "\n",
    "Когда при обходе мы находим вершину уха, то отрезаем ее, добавляя диагональ, и переходим к предыдущей вершине из стека.\n",
    "Если она стала вершиной уха, то отрезаем ее и дальше спускаемся по стеку.\n",
    "Этот процесс остановится, когда мы либо достигнем стартовой вершины (стек пуст), либо текущая вершина перестанет быть ухом.\n",
    "Тогда мы переходим к вершине, являющейся концом последней добавленной диагонали, и продолжаем обход многоугольника в поиске ушей.\n",
    "\n",
    "В итоге, мы придем к тому, что от нерассмотренной части многоугольника останется только одно ребро, а остальная часть будет затриангулирован.  "
   ]
  },
  {
   "cell_type": "markdown",
   "metadata": {},
   "source": [
    "#### Ушная проверка"
   ]
  },
  {
   "cell_type": "code",
   "execution_count": 1,
   "metadata": {
    "collapsed": true
   },
   "outputs": [],
   "source": [
    "%matplotlib inline\n",
    "import matplotlib.pyplot as plt\n",
    "from hidden import *       # Функции, реалзация которых не особо интересна в свете этой темы\n",
    "from answers import *      # Ответы\n",
    "from visual_utils import * # Функции визуализации"
   ]
  },
  {
   "cell_type": "code",
   "execution_count": 60,
   "metadata": {
    "collapsed": false
   },
   "outputs": [],
   "source": [
    "# Примеры многоугольников\n",
    "examples = {\n",
    "        'some': [(4, 0), (2, 1), (3, 6), (0, 5), (-1, 6), (-3, 4), (-1, 2), (-2, 0),\n",
    "              (-4, 1), (-5, -2), (-2, -4), (0, -3), (2, -4), (1, -1), (3, -2)]\n",
    "        ,\n",
    "        'square': [(0,0), (1,0), (1,1), (0,1)]\n",
    "        ,\n",
    "        'arrow': [(0,0), (2,3), (4,0), (2,6)]\n",
    "        ,\n",
    "        'star': [(0,0), (7,1), (7,3), (6,5), (5,6), (3,7), (1,7)]\n",
    "        ,\n",
    "        'substar': [(0,0), (1,6), (7,1), (7,3), (6,5), (5,6), (3,7), (1,7)]\n",
    "        ,\n",
    "        'hook': [(0,3), (2,4), (3,3), (3,2), (2,1), (2,2), (2,3), (1,2), (1,1), (3,0), (4,4), (2,5), (1,4), (0,5)]\n",
    "        }\n",
    "\n",
    "# Вершины многоугольника в порядке обхода против часовой стрелки\n",
    "source = examples['some']\n",
    "# Преобразовываем пары в наш класс\n",
    "source = list(map(lambda i: Vertex(i[0], i[1]), source))\n",
    "# Многоугольник хранится в DCEL\n",
    "D = build_dcel(source)\n",
    "# Добавленные диагонали будем хранить в отдельном списке для наглядной визуализации\n",
    "D1 = []\n",
    "# Стек вершин\n",
    "S = []   "
   ]
  },
  {
   "cell_type": "code",
   "execution_count": 61,
   "metadata": {
    "collapsed": true
   },
   "outputs": [],
   "source": [
    "def break_into_pieces_triang(folder='.ear_clipping'):\n",
    "    dump = create_dump_func(folder, visual_dump_ear_clipping_triangulation, D, D1, S)\n",
    "    \n",
    "    def last_h():\n",
    "        return S[len(S) - 1]\n",
    "    \n",
    "    def is_ear(hedge, probable_ear, pred):\n",
    "        def out_of_triangle(v0,v1,v2,v):\n",
    "            return turn(v0, v1, v)<= -1 or turn(v1, v2, v) <= -1 or turn(v2, v0, v) <= -1 \n",
    "        \n",
    "        while pred(hedge):\n",
    "            if out_of_triangle(*probable_ear, hedge.origin):\n",
    "                hedge = hedge.next\n",
    "            else:\n",
    "                return False \n",
    "        return True \n",
    "    \n",
    "    start = D[0]\n",
    "    dump(start.origin)\n",
    "    S.append(start)    \n",
    "\n",
    "    while len(D1) != len(D) - 2:\n",
    "        cur = last_h().next\n",
    "        while True:\n",
    "            # At the start point \n",
    "            if len(S) == 0:\n",
    "                dump(cur.origin)\n",
    "                if len(D1) == len(D) - 2:\n",
    "                    break\n",
    "                S.append(cur)\n",
    "                cur = cur.next\n",
    "                \n",
    "            v0 = last_h().origin\n",
    "            v1 = cur.origin\n",
    "            v2 = cur.next.origin\n",
    "            \n",
    "            if turn(v0, v1, v2) >= 1 and is_ear(cur.next.next, probable_ear=[v0, v1, v2],\n",
    "                                                pred=lambda hedge: hedge != start):\n",
    "                dump(cur.origin)\n",
    "\n",
    "                prev = S.pop()                \n",
    "                d = add_diagonal_with_next(prev, cur.next)\n",
    "                D1.append(d)\n",
    "                dump(cur.origin)\n",
    "\n",
    "                cur = d\n",
    "#                 dump(cur.origin)\n",
    "            else:\n",
    "                dump(cur.origin)\n",
    "                S.append(cur)\n",
    "                cur = cur.next\n",
    "                break\n",
    "                \n",
    "    # Remove last edge from of last triangle\n",
    "    S.clear()\n",
    "    dump(None)"
   ]
  },
  {
   "cell_type": "code",
   "execution_count": 62,
   "metadata": {
    "collapsed": true
   },
   "outputs": [],
   "source": [
    "break_into_pieces_triang()"
   ]
  },
  {
   "cell_type": "code",
   "execution_count": 63,
   "metadata": {
    "collapsed": false
   },
   "outputs": [],
   "source": [
    "from IPython.display import display\n",
    "display(SlideShower('.ear_clipping'))"
   ]
  },
  {
   "cell_type": "code",
   "execution_count": null,
   "metadata": {
    "collapsed": true
   },
   "outputs": [],
   "source": []
  }
 ],
 "metadata": {
  "kernelspec": {
   "display_name": "Python 3",
   "language": "python",
   "name": "python3"
  },
  "language_info": {
   "codemirror_mode": {
    "name": "ipython",
    "version": 3
   },
   "file_extension": ".py",
   "mimetype": "text/x-python",
   "name": "python",
   "nbconvert_exporter": "python",
   "pygments_lexer": "ipython3",
   "version": "3.5.2"
  },
  "widgets": {
   "state": {
    "5ab7478b3914487daae48047e3502f9e": {
     "views": [
      {
       "cell_index": 13
      }
     ]
    }
   },
   "version": "1.2.0"
  }
 },
 "nbformat": 4,
 "nbformat_minor": 1
}
