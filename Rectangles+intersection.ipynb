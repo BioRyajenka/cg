{
 "cells": [
  {
   "cell_type": "markdown",
   "metadata": {},
   "source": [
    "# Пересечение прямоугольника с множеством прямоугольников\n",
    "## Постановка задачи\n",
    "Рассмотрим следующую задачу: пусть дано множество прямоугольников, стороны которых параллельны осям координат. Также задается прямоугольник запроса. Нужно быстро определить, какие прямоугольники из множества пересекаются с прямоугольником запроса.\n",
    "\n",
    "Более формально: дано множество прямоугольников $P = (p_1, p_2, ... ,p_n)$ и прямоугольник $q$. Необходимо найти $S = ( p \\in P: p \\cap q \\neq \\emptyset)$.\n",
    "\n",
    "Разобъем множество $S$ на три множества-подзадачи: $S = A \\cup B \\cup C$\n",
    "\n",
    "$$A = (p \\in P: \\exists i: p_i \\in corners(p), p_i \\in q)$$\n",
    "\n",
    "$$B = (p \\in P: \\exists i: s_i \\in sides(p), s_i \\cap q \\neq \\emptyset)$$\n",
    "\n",
    "$$C = (p \\in P: \\exists i: p_i \\in corners(q), p_i \\in p)$$"
   ]
  },
  {
   "cell_type": "code",
   "execution_count": null,
   "metadata": {
    "collapsed": true
   },
   "outputs": [],
   "source": []
  },
  {
   "cell_type": "code",
   "execution_count": null,
   "metadata": {
    "collapsed": true
   },
   "outputs": [],
   "source": []
  }
 ],
 "metadata": {
  "kernelspec": {
   "display_name": "Python 3",
   "language": "python",
   "name": "python3"
  },
  "language_info": {
   "codemirror_mode": {
    "name": "ipython",
    "version": 3
   },
   "file_extension": ".py",
   "mimetype": "text/x-python",
   "name": "python",
   "nbconvert_exporter": "python",
   "pygments_lexer": "ipython3",
   "version": "3.5.2"
  }
 },
 "nbformat": 4,
 "nbformat_minor": 1
}
