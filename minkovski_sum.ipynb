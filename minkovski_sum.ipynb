{
 "cells": [
  {
   "cell_type": "markdown",
   "metadata": {},
   "source": [
    "# Содержание\n",
    "- Что такое сумма Минкоского и с чем её едят\n",
    "    - Определение суммы Минковского\n",
    "    - Отрицание множества точек\n",
    "    - Одно из применений\n",
    "    - Доказательство коррекстности применения\n",
    "- Сумма 2х выпуклых фигур\n",
    "- Сумма 2х невыпуклых фигур"
   ]
  },
  {
   "cell_type": "markdown",
   "metadata": {},
   "source": [
    "- Сначала будет много теории, чтобы понять с чем мы вообще работаем, а потом разберемся как это реализовать на практике"
   ]
  },
  {
   "cell_type": "markdown",
   "metadata": {},
   "source": [
    "# Что такое сумма Минковского и с чем её едят\n",
    "- Для начала введем ряд определений.\n",
    "## Определение(Сумма Минковского)\n",
    "\n",
    "$$\n",
    "C = A \\oplus B = \n",
    "\\left\\{\n",
    "        c \\mid \\exists a \\in A, \\, \\exists b \\in B : c = a + b\n",
    "\\right\\}\n",
    "$$\n",
    "$$\n",
    "a = (a_x, a_y), \\, b = (b_x, b_y) \\Rightarrow c = a + b = (a_x + b_x, a_y + b_y)\n",
    "$$\n",
    "- Множество $C$ является суммой Минковского множеств $A$ и $B$, если сумма любых двух точек из этих множеств принадлежит $C$. ![Пример](images/sum_minkoski_example.png)\n",
    "\n",
    "## Отрицание множества\n",
    "$$\n",
    "- S = \n",
    "\\left\\{\n",
    "    - s : s \\in S\n",
    "\\right\\}\n",
    "$$\n",
    "$$\n",
    "s = (s_x, s_y) \\Rightarrow -s = (- s_x, - s_y)\n",
    "$$\n",
    "- Множество $- S$ состоит из точек множества $S$ отраженных через центр координат."
   ]
  },
  {
   "cell_type": "markdown",
   "metadata": {},
   "source": [
    "## Одно из применений\n",
    "\n",
    "- Давайте рассмотрим ситуацию, когда у нас есть некое физическое тело и нам нужно провести его вокруг препятствий. Для упрощения ничего вращать не будем.\n",
    "- Есть тело $B$ которое нужно провести около препятствий $A_i$. Утверждается, что эта задача аналогично попытке провести точку около препятствий вида $A_i \\oplus (- B)$.![Пример](images/sum_minkoski_prim_example.png)\n",
    "\n",
    "#### Утверждение\n",
    "- Рассмотрим вектор $r$ - радиус вектор до движущегося тела(вектор от центра координат, до фиксированной точки $R \\in B$ на теле, например центр масс) $b$ - вектор от $R$ до другой точки принадлежащей телу, $a \\in A$ - вектор до точки внутри препятствия. \n",
    "- Получаем утверждение следующего вида $r + b \\in A  \\Leftrightarrow r \\in A \\oplus (-B)$\n",
    "\n",
    "##### Доказательство\n",
    "- Рассмотрим $\\Rightarrow$\n",
    "    - Предположим $r + b \\in A$, но $r \\notin A \\oplus (-B), r + b = a \\Rightarrow r = a + (-b) \\in A \\oplus B$ !!!\n",
    "- Рассмотрим $\\Leftarrow$\n",
    "    - Предположим $r + b \\notin A$, но $r \\in A \\oplus (-B), r = a - b \\Rightarrow B \\ni r + b = a \\in A$ !!!\n",
    "   "
   ]
  },
  {
   "cell_type": "markdown",
   "metadata": {},
   "source": [
    "## Сумма Минковского двух выпуклых фигур\n",
    "\n",
    "#### Утверждение\n",
    "- Сумма Минковского 2х выпуклых множеств является выпуклым множеством.\n",
    "\n",
    "#### Доказательство\n",
    "- Рассмотрим $C = A \\oplus B$ и линейную комбинацию двух точек из $C$ $c = \\alpha c_1 + (1 - \\alpha ) * c_2 = \\alpha (a_1 + b_1) + (1 - \\alpha) *(a_2 + b_2) = \\alpha a_1 + (1 - \\alpha) a_2 +  \\alpha b_1 + (1 - \\alpha) b_2) = a + b \\in A \\oplus B \\Rightarrow$ любая выпуклая комбинация точек из множества $C$ ему принадлежит $\\Rightarrow$ множество $C$ выпуклое.\n",
    "\n",
    "#### Утверждение\n",
    "- $C = A \\oplus B$, $c \\in C$, $a \\in A$, $b \\in B$, $c = a + b$. $c$ - экстремальная $\\Leftrightarrow a, \\, b - $ экстремальные в одном направлении.\n",
    "\n",
    "#### Доказательство\n",
    "- Рассмотрим $\\Rightarrow$\n",
    "    - Предположим $c$ - экстремальная, но $a$, $b - $ не экстремальные в одном направлении (предположим $a$). Повернем систему координат так, чтобы $ \\forall c' \\in C$ $c_x \\geq c'_x$. Раз $a$ - не экстремальная, то $\\exists a' \\in A : a'_x > a_x$, рассмотрим $c'' = a' + b$, $c''_x = a'_x + b_x > a_x + b_x = c_x$ !!!\n",
    "    ![Пример](images/sum_minkoski_extr_sum1.png)\n",
    "- Рассмотрим $\\Leftarrow$\n",
    "    - Предположим $a$, $b - $ экстремальные в одном направлении, но $c$ - не экстремальная. Повернем систему координат так, чтобы $ \\forall a' \\in A$ $a_x \\geq a'_x$,  $ \\forall b' \\in B$ $b_x \\geq b'_x$. Раз $c$ - не экстремальная, то $\\exists c' \\in A : c'_x > c_x$, рассмотрим $c' = a'' + b''$, $a''_x + b''_x  = c'_x > c_x = a_x + b_x$, но $a'' \\in A$, $b'' \\in b$ $\\Rightarrow$ $a_x \\geq a''_x$, $b_x \\geq b''_x$ $\\Rightarrow$ $a''_x + b''_x \\leq a_x + b_x$ !!!\n",
    "    ![Пример](images/sum_minkoski_extr_sum2.png)\n",
    "\n",
    "#### Следствие\n",
    "- Предположим, мы складываем экстремальную точку и экстремальный отрезок в одном направлении. Экстремальный отрезок - множество экстремальных точек $\\Rightarrow$ сложив с экстремальной точкой получится множество экстремальных точек. Чуть повернув рассматриваемое направление, концы отрезка становятся экстремальными точками и получается сложение точек $\\Rightarrow$ мы можем ограничить итоговое множество двумя точками с двух сторон. А складывая точку и выпуклое множество должно получаться выпуклое множество $\\Rightarrow$ получается ограниченное выпуклое множество экстремальных точек $\\Rightarrow$ получается отрезок.\n",
    "    "
   ]
  },
  {
   "cell_type": "markdown",
   "metadata": {},
   "source": [
    "#### Утверждение\n",
    "- Сумма Минковского 2х выпуклых многоугольников является выпуклым многоугольником. Давайте рассмотрим 2 фигуры и экстремальные участки по всем направлениям. Если в одном направлении экстремальными будут 2 вершины, то они перейдут в вершину в новом многоугольнике, иначе (точка + ребро/ребро + ребро) будет новое ребро. В итоге у нас получается выпуклая фигура из вершин соединеных ребрами $\\Rightarrow$ это выпуклый многоугольник\n",
    "\n",
    "#### Утверждение\n",
    "- $A$ выпуклый $n$-угольник, $B$ выпуклый $m$-угольник $\\Rightarrow$ $C = A \\oplus B$ выпуклый $(n + m)$ - угольник\n",
    "\n",
    "#### Доказательство\n",
    "- $C$ - выпуклый многоугольник следует из предыдущих утверждений, осталось определиться с количеством вершин.\n",
    "- Давайте рассмотрим самые левые из них самые нижние точки, это будут точки $A_0$ и $B_0$ и от них, против часовой стрелке будем рассматривать следущие направления(или по другому говоря, возьмем касетельную к этим точкам и будем ее вращать против часовой). Пока эти точки являются экстремальными ничего нового не появится, но когда мы коснемся отрезка, в результат у нас уйдет отрезок и если продолжить вращение у нас сменятся экстремальные точки(может одна, а может и обе) для рассмативаемого направления $\\Rightarrow$ в итоговом многоугольнике получится новая точка. Сделав полный оборот мы вернемся в точки $A_0$ и $B_0$, дальнейшее вращение не даст ничего нового.\n",
    "- Проходя так в одну сторону один круг, если точка была экстремальна в некоторой момент, а потом перестала, то снова экстремальной она стать не сможет $\\Rightarrow$ каждая точка встречается(перестает быть экстремальной) один раз, а новые точки в $C$ появляются лишь при смене экстремальной точки в $A$ или $B$, а такое может произойти только $(n + m)$ раз."
   ]
  },
  {
   "cell_type": "code",
   "execution_count": 94,
   "metadata": {
    "collapsed": true
   },
   "outputs": [],
   "source": [
    "#Использованные библиотеки\n",
    "import numpy as np\n",
    "import matplotlib.pyplot as plt\n",
    "from scipy.spatial import ConvexHull\n",
    "#Реализация тестов и примеров\n",
    "import some_code"
   ]
  },
  {
   "cell_type": "markdown",
   "metadata": {
    "collapsed": true
   },
   "source": [
    "## Алгоритм\n",
    " - Замечание: многоугольники хранятся как множество вершин в порядке обхода против часовой стрелки.\n",
    " \n",
    "#### Полезный предикат\n",
    "\n",
    "- Исходя из доказательства предыдущего утверждения можно понять, что если в правильной последовательности перебрать все вершины двух фигур, то можно получить их сумму Минковского за $O(n + m)$, но сначала нам нужно научится определять следующую по направлению точку. \n",
    "- Рассмотрим точки $A_0$, $B_0$ - текущие точки и $A_1$, $B_1$ - следующие по направлению в фигуре(мы считаем что многоугольник задан множеством вершин в порядке обхода против часовой стрелки). Если рассмотреть вектора $\\overrightarrow{A_0 A_1}$ и $\\overrightarrow{B_0 B_1}$, то вектор находящийся справа относительно другого соответсвует нужной точке, а для этого достаточно посмотреть знак векторного произведения векторов.\n",
    "- $p = sign(\\overrightarrow{A_0 A_1} \\times \\overrightarrow{B_0 B_1})$\n",
    "    - $p = 1 \\Rightarrow \\overrightarrow{A_0 A_1}$ - правее, следующая ближайшая точка $A_1$\n",
    "    - $p = 0 \\Rightarrow $ вектора сонаправлены, $A_1$ и $B_1$ являются ближайшими точками одновременно.\n",
    "    - $p = -1 \\Rightarrow \\overrightarrow{B_0 B_1}$ - правее, следующая ближайшая точка $B_1$\n",
    "$$\\overrightarrow{A_0 A_1} \\times \\overrightarrow{B_0 B_1} =\n",
    "\\begin{vmatrix}\n",
    "    A_{1x} - A_{0x} && A_{1y} - A_{0y} \\\\\n",
    "    B_{1x} - B_{0x} && B_{1y} - B_{0y}\n",
    "\\end{vmatrix} \n",
    "$$\n",
    "![Пример](images/sum_minkoski_alg_example.png)\n",
    "\n",
    " - Попробуйте реальзовать предикат самостоятельно. На вход задаются 4 точки A0, A1, B0, B1. Вывести вы должны значение предиката от этих точек. "
   ]
  },
  {
   "cell_type": "code",
   "execution_count": 96,
   "metadata": {
    "collapsed": false
   },
   "outputs": [
    {
     "name": "stdout",
     "output_type": "stream",
     "text": [
      "Предикат реализован правильно\n"
     ]
    }
   ],
   "source": [
    "#Для проверки используйте функцию check_pred(your_pred), ниже будет выведен результат проверки и тест на котором ваш код \n",
    "#работает неверно\n",
    "\n",
    "check_pred(example_pred)"
   ]
  },
  {
   "cell_type": "markdown",
   "metadata": {},
   "source": [
    " - Теперь давайте рассмотрим сам алгоритм\n",
    " \n",
    "### Алгоритм\n",
    "- Исходя из доказательсва утверждения можно вывести алгоритм(P.S. следующая/ближе - та что раньше по вращению против часовой стрелки):\n",
    "    - 1) Берем левую нижнюю точку для каждой их фигур($A_0$, $B_0$) и записываем ее сумму в фигуру $C$.\n",
    "    - 2) Рассмамтриваем следующие для них точки($A_1$, $B_1$), берем ближайшую из них(если они обе ближайшие, то берем обе) и записываем их как новые текущие точки($A_0 = A_1$ и/или $B_0 = B_1$). Если мы вернулись в начало, то выходим, иначе записываем сумму текущих в фигуру $C$ и начинаем этот пункт сначала.\n",
    "    - 3) В фигуре $C$ лежит сумма Минковского фигур $A$ и $B$.\n",
    "    \n",
    " - Попробуйте реализовать алгоритм самостоятельно."
   ]
  },
  {
   "cell_type": "code",
   "execution_count": 90,
   "metadata": {
    "collapsed": false,
    "scrolled": false
   },
   "outputs": [
    {
     "data": {
      "image/png": "[encoded data removed]",
      "text/plain": [
       "<matplotlib.figure.Figure at 0x7f29cd6aa780>"
      ]
     },
     "metadata": {},
     "output_type": "display_data"
    }
   ],
   "source": [
    "#Тут реализована иллюстрация происходящего.\n",
    "\n",
    "#Фигуры нарисованные на картинках\n",
    "#A = np.array([[1, 4], [3, 4], [2, 6]])\n",
    "#B = np.array([[4, 1], [6, 2], [4, 3]])\n",
    "\n",
    "#2 случайных выпуклых многоугольника\n",
    "A = rand_figure()\n",
    "B = rand_figure()\n",
    "\n",
    "#Создаем область для картинок \n",
    "fig = plt.figure(figsize = (15, 5))\n",
    "\n",
    "#Рисуем многоугольники A, B в первых 2х областях\n",
    "#paint_polygon(figure, place, polygon, line_color, point_color, min_x/y, max_x/y)\n",
    "paint_polygon(fig, 131, A, \"r\", \"yo\", 0, 10)\n",
    "paint_polygon(fig, 132, B, \"g\", \"yo\", 0, 10)\n",
    "\n",
    "#Считаем сумму Минковского A и B\n",
    "#example_alg(polygon1, polygon2)\n",
    "C = example_alg(A, B)\n",
    "\n",
    "#Рисуем многоугольник C в третьей области\n",
    "paint_polygon(fig, 133, C, \"b\", \"yo\", 0, 20)  \n",
    "\n",
    "plt.show()"
   ]
  },
  {
   "cell_type": "code",
   "execution_count": 93,
   "metadata": {
    "collapsed": false
   },
   "outputs": [
    {
     "name": "stdout",
     "output_type": "stream",
     "text": [
      "Предикат реализован правильно\n"
     ]
    }
   ],
   "source": [
    "#Свою версию алгоритма писать тут \n",
    "#Для проверки используйте функцию check_alg(your_alg), ниже будет выведен результат проверки и тест на котором ваш код \n",
    "#работает неверно\n",
    "#В качестве ответа подходит любая циклическая перестановка правильного ответа\n",
    "\n",
    "check_alg(example_alg)"
   ]
  },
  {
   "cell_type": "markdown",
   "metadata": {
    "collapsed": true
   },
   "source": [
    "# Сумма двух невыпуклых фигур\n",
    " - Если мы хотим сложить невыпуклые фигуры, то нам придется сначала разбить их на треугольники, просуммировать их, а потом уже объединять полученные фигуры. В случае суммы Минковского n - угольника и m - угольника, у нас получится множество из (n - 2) треугольника и из (m - 2) треугольника, получится объединение $O(NM)$ фигур. В худшем случае получается фигура с $O( (NM)^2 )$ вершин.\n",
    "![Пример](images/Minkowski_hard_example.png)"
   ]
  },
  {
   "cell_type": "code",
   "execution_count": null,
   "metadata": {
    "collapsed": true
   },
   "outputs": [],
   "source": []
  },
  {
   "cell_type": "code",
   "execution_count": null,
   "metadata": {
    "collapsed": true
   },
   "outputs": [],
   "source": []
  }
 ],
 "metadata": {
  "kernelspec": {
   "display_name": "Python 3",
   "language": "python",
   "name": "python3"
  },
  "language_info": {
   "codemirror_mode": {
    "name": "ipython",
    "version": 3
   },
   "file_extension": ".py",
   "mimetype": "text/x-python",
   "name": "python",
   "nbconvert_exporter": "python",
   "pygments_lexer": "ipython3",
   "version": "3.4.3"
  }
 },
 "nbformat": 4,
 "nbformat_minor": 2
}
